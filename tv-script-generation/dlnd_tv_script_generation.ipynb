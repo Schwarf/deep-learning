{
 "cells": [
  {
   "cell_type": "markdown",
   "metadata": {
    "deletable": true,
    "editable": true
   },
   "source": [
    "# TV Script Generation\n",
    "In this project, you'll generate your own [Simpsons](https://en.wikipedia.org/wiki/The_Simpsons) TV scripts using RNNs.  You'll be using part of the [Simpsons dataset](https://www.kaggle.com/wcukierski/the-simpsons-by-the-data) of scripts from 27 seasons.  The Neural Network you'll build will generate a new TV script for a scene at [Moe's Tavern](https://simpsonswiki.com/wiki/Moe's_Tavern).\n",
    "## Get the Data\n",
    "The data is already provided for you.  You'll be using a subset of the original dataset.  It consists of only the scenes in Moe's Tavern.  This doesn't include other versions of the tavern, like \"Moe's Cavern\", \"Flaming Moe's\", \"Uncle Moe's Family Feed-Bag\", etc.."
   ]
  },
  {
   "cell_type": "code",
   "execution_count": 1,
   "metadata": {
    "collapsed": true,
    "deletable": true,
    "editable": true
   },
   "outputs": [],
   "source": [
    "\"\"\"\n",
    "DON'T MODIFY ANYTHING IN THIS CELL|\n",
    "\"\"\"\n",
    "import helper\n",
    "\n",
    "data_dir = './data/simpsons/moes_tavern_lines.txt'\n",
    "text = helper.load_data(data_dir)\n",
    "# Ignore notice, since we don't use it for analysing the data\n",
    "text = text[81:]"
   ]
  },
  {
   "cell_type": "markdown",
   "metadata": {
    "deletable": true,
    "editable": true
   },
   "source": [
    "## Explore the Data\n",
    "Play around with `view_sentence_range` to view different parts of the data."
   ]
  },
  {
   "cell_type": "code",
   "execution_count": 2,
   "metadata": {
    "collapsed": false,
    "deletable": true,
    "editable": true
   },
   "outputs": [
    {
     "name": "stdout",
     "output_type": "stream",
     "text": [
      "Dataset Stats\n",
      "Roughly the number of unique words: 11492\n",
      "Number of scenes: 262\n",
      "Average number of sentences in each scene: 15.251908396946565\n",
      "Number of lines: 4258\n",
      "Average number of words in each line: 11.50164396430249\n",
      "\n",
      "The sentences 0 to 10:\n",
      "\n",
      "Moe_Szyslak: (INTO PHONE) Moe's Tavern. Where the elite meet to drink.\n",
      "Bart_Simpson: Eh, yeah, hello, is Mike there? Last name, Rotch.\n",
      "Moe_Szyslak: (INTO PHONE) Hold on, I'll check. (TO BARFLIES) Mike Rotch. Mike Rotch. Hey, has anybody seen Mike Rotch, lately?\n",
      "Moe_Szyslak: (INTO PHONE) Listen you little puke. One of these days I'm gonna catch you, and I'm gonna carve my name on your back with an ice pick.\n",
      "Moe_Szyslak: What's the matter Homer? You're not your normal effervescent self.\n",
      "Homer_Simpson: I got my problems, Moe. Give me another one.\n",
      "Moe_Szyslak: Homer, hey, you should not drink to forget your problems.\n",
      "Barney_Gumble: Yeah, you should only drink to enhance your social skills.\n",
      "\n"
     ]
    }
   ],
   "source": [
    "view_sentence_range = (0, 10)\n",
    "\n",
    "\"\"\"\n",
    "DON'T MODIFY ANYTHING IN THIS CELL\n",
    "\"\"\"\n",
    "import numpy as np\n",
    "\n",
    "print('Dataset Stats')\n",
    "print('Roughly the number of unique words: {}'.format(len({word: None for word in text.split()})))\n",
    "scenes = text.split('\\n\\n')\n",
    "print('Number of scenes: {}'.format(len(scenes)))\n",
    "sentence_count_scene = [scene.count('\\n') for scene in scenes]\n",
    "print('Average number of sentences in each scene: {}'.format(np.average(sentence_count_scene)))\n",
    "\n",
    "sentences = [sentence for scene in scenes for sentence in scene.split('\\n')]\n",
    "print('Number of lines: {}'.format(len(sentences)))\n",
    "word_count_sentence = [len(sentence.split()) for sentence in sentences]\n",
    "print('Average number of words in each line: {}'.format(np.average(word_count_sentence)))\n",
    "\n",
    "print()\n",
    "print('The sentences {} to {}:'.format(*view_sentence_range))\n",
    "print('\\n'.join(text.split('\\n')[view_sentence_range[0]:view_sentence_range[1]]))"
   ]
  },
  {
   "cell_type": "markdown",
   "metadata": {
    "deletable": true,
    "editable": true
   },
   "source": [
    "## Implement Preprocessing Functions\n",
    "The first thing to do to any dataset is preprocessing.  Implement the following preprocessing functions below:\n",
    "- Lookup Table\n",
    "- Tokenize Punctuation\n",
    "\n",
    "### Lookup Table\n",
    "To create a word embedding, you first need to transform the words to ids.  In this function, create two dictionaries:\n",
    "- Dictionary to go from the words to an id, we'll call `vocab_to_int`\n",
    "- Dictionary to go from the id to word, we'll call `int_to_vocab`\n",
    "\n",
    "Return these dictionaries in the following tuple `(vocab_to_int, int_to_vocab)`"
   ]
  },
  {
   "cell_type": "code",
   "execution_count": 3,
   "metadata": {
    "collapsed": false,
    "deletable": true,
    "editable": true
   },
   "outputs": [
    {
     "name": "stdout",
     "output_type": "stream",
     "text": [
      "{'got': 0, 'me': 1, 'my': 2, 'little': 5, 'effervescent': 27, 'not': 6, 'with': 3, 'anybody': 8, 'give': 9, 'problems': 10, 'last': 11, 'yeah': 12, 'self': 13, 'moe_szyslak': 14, 'tavern': 15, 'these': 37, 'enhance': 16, 'is': 17, 'you': 18, 'another': 21, \"you're\": 22, 'pick': 59, 'social': 23, 'listen': 24, 'where': 25, 'elite': 26, 'on': 4, 'hold': 28, 'eh': 29, 'of': 30, 'puke': 32, 'there': 69, 'the': 33, 'should': 35, 'days': 19, 'your': 36, 'catch': 38, 'barney_gumble': 40, 'i': 49, 'check': 64, 'homer_simpson': 57, 'back': 41, 'forget': 42, 'an': 43, 'matter': 20, 'has': 44, 'hello': 7, 'normal': 31, 'lately': 47, 'hey': 48, 'seen': 58, 'ice': 50, 'whats': 53, \"moe's\": 55, 'name': 56, 'homer': 51, \"i'll\": 60, 'mike': 61, 'bart_simpson': 62, 'meet': 63, 'one': 34, 'and': 46, 'only': 65, 'rotch': 66, \"i'm\": 67, 'gonna': 54, 'skills': 52, 'carve': 70, 'to': 68, 'drink': 45, 'moe': 39}\n",
      "Tests Passed\n"
     ]
    }
   ],
   "source": [
    "import numpy as np\n",
    "import problem_unittests as tests\n",
    "\n",
    "def create_lookup_tables(text):\n",
    "    \"\"\"\n",
    "    Create lookup tables for vocabulary\n",
    "    :param text: The text of tv scripts split into words\n",
    "    :return: A tuple of dicts (vocab_to_int, int_to_vocab)\n",
    "    \"\"\"\n",
    "    vocabulary = set(text)\n",
    "    vocabulary_to_integer = {word : index for index, word in enumerate(vocabulary)}\n",
    "    integer_to_vocabulary = {index : word for index, word in enumerate(vocabulary)}\n",
    "    print  (vocabulary_to_integer)\n",
    "    return vocabulary_to_integer, integer_to_vocabulary\n",
    "\n",
    "\n",
    "\"\"\"\n",
    "DON'T MODIFY ANYTHING IN THIS CELL THAT IS BELOW THIS LINE\n",
    "\"\"\"\n",
    "tests.test_create_lookup_tables(create_lookup_tables)"
   ]
  },
  {
   "cell_type": "markdown",
   "metadata": {
    "deletable": true,
    "editable": true
   },
   "source": [
    "### Tokenize Punctuation\n",
    "We'll be splitting the script into a word array using spaces as delimiters.  However, punctuations like periods and exclamation marks make it hard for the neural network to distinguish between the word \"bye\" and \"bye!\".\n",
    "\n",
    "Implement the function `token_lookup` to return a dict that will be used to tokenize symbols like \"!\" into \"||Exclamation_Mark||\".  Create a dictionary for the following symbols where the symbol is the key and value is the token:\n",
    "- Period ( . )\n",
    "- Comma ( , )\n",
    "- Quotation Mark ( \" )\n",
    "- Semicolon ( ; )\n",
    "- Exclamation mark ( ! )\n",
    "- Question mark ( ? )\n",
    "- Left Parentheses ( ( )\n",
    "- Right Parentheses ( ) )\n",
    "- Dash ( -- )\n",
    "- Return ( \\n )\n",
    "\n",
    "This dictionary will be used to token the symbols and add the delimiter (space) around it.  This separates the symbols as it's own word, making it easier for the neural network to predict on the next word. Make sure you don't use a token that could be confused as a word. Instead of using the token \"dash\", try using something like \"||dash||\"."
   ]
  },
  {
   "cell_type": "code",
   "execution_count": 4,
   "metadata": {
    "collapsed": false,
    "deletable": true,
    "editable": true
   },
   "outputs": [
    {
     "name": "stdout",
     "output_type": "stream",
     "text": [
      "Tests Passed\n"
     ]
    }
   ],
   "source": [
    "def token_lookup():\n",
    "    \"\"\"\n",
    "    Generate a dict to turn punctuation into a token.\n",
    "    :return: Tokenize dictionary where the key is the punctuation and the value is the token\n",
    "    \"\"\"\n",
    "    tokenDictionary = {\".\" : \"||Period||\",\n",
    "                       \",\" : \"||Comma||\",\n",
    "                       \"\\\"\" : \"||Quotation_Mark||\",\n",
    "                       \";\" : \"||Semicolon||\", \n",
    "                       \"!\" : \"||Exclamation_Mark||\",\n",
    "                       \"?\" : \"||Question_Mark||\", \n",
    "                       \"(\" : \"||Left_Parentheses||\", \n",
    "                       \")\" : \"||Right_Parentheses||\",\n",
    "                       \"--\" : \"||Dash||\",\n",
    "                       \"\\n\" : \"||Return||\"\n",
    "                       }\n",
    "    # TODO: Implement Function\n",
    "    return tokenDictionary\n",
    "\n",
    "\"\"\"\n",
    "DON'T MODIFY ANYTHING IN THIS CELL THAT IS BELOW THIS LINE\n",
    "\"\"\"\n",
    "tests.test_tokenize(token_lookup)"
   ]
  },
  {
   "cell_type": "markdown",
   "metadata": {
    "deletable": true,
    "editable": true
   },
   "source": [
    "## Preprocess all the data and save it\n",
    "Running the code cell below will preprocess all the data and save it to file."
   ]
  },
  {
   "cell_type": "code",
   "execution_count": 5,
   "metadata": {
    "collapsed": false,
    "deletable": true,
    "editable": true
   },
   "outputs": [
    {
     "name": "stdout",
     "output_type": "stream",
     "text": [
      "{'entrance': 3373, 'wholeheartedly': 3374, 'cockroach': 3375, 'marguerite:': 0, 'impressed': 1, 'flanders:': 2, 'dirt': 3377, 'warren': 3378, 'margarita': 1609, 'separator': 3, 'jobless': 4, 'fat_in_the_hat:': 5, 'behavior': 6, 'fierce': 3379, 'jacksons': 7, '||dash||': 8, 'oak': 3381, 'self-satisfied': 871, \"one's\": 9, 'stumble': 10, 'late': 4500, 'forty-two': 3382, 'newly-published': 11, 'neighbors': 12, 'promised': 3384, 'hmm': 2296, 'shades': 14, 'reviews': 15, 'mice': 16, 'afraid': 17, 'waitress': 3385, 'modern': 3388, 'remembered': 3389, 'thank': 18, \"what's\": 3391, 'abe': 3393, \"fine-lookin'\": 21, 'distributor': 20, 'depressing': 22, 'hurry': 23, 'immiggants': 24, 'scratching': 25, 'heatherton': 26, 'ideas': 27, 'caused': 28, 'here': 3395, 'annie': 559, 'cool': 29, 'vote': 3396, \"dad's\": 30, 'roller': 31, \"he's\": 3398, 'warmly': 32, 'whee': 3400, 'spied': 3401, \"duff's\": 1385, 'joint': 3402, 'betcha': 33, 'aristotle:': 5606, 'tablecloth': 3403, 'radiation': 34, \"tap-pullin'\": 2303, 'musses': 3404, 'beach': 6583, 'seems': 35, 'lily-pond': 3406, 'endorsement': 36, 'meteor': 37, 'hottest': 38, \"there's\": 39, 'push': 40, 'filed': 41, 'man:': 3408, 'brain-switching': 3409, 'little_man:': 42, \"betsy'll\": 43, 'could': 3410, 'pause': 44, 'hey': 45, 'girlfriend': 5509, \"smackin'\": 46, 'arm': 3411, 'innocent': 47, 'peach': 48, \"won't\": 49, 'excavating': 1725, 'mock-up': 51, 'boat': 52, 'carl:': 563, 'rope': 3413, 'duel': 5611, 'specializes': 53, 'politicians': 3414, 'hunka': 54, 'pregnancy': 55, 'smurfs': 56, 'ticket': 6218, 'enveloped': 3415, 'exploiter': 57, 'mommy': 59, 'family-owned': 1125, 'high-definition': 3418, 'ore': 3419, 'elaborate': 60, 'tropical': 61, 'data': 5613, 'protecting': 62, 'sympathizer': 3420, 'housework': 64, 'catholic': 65, 'recreate': 3422, 'voice_on_transmitter:': 66, \"america's\": 67, 'elect': 5037, 'liar': 68, 'we-we-we': 3425, 'walking': 3380, 'weather': 3426, 'sniffs': 69, 'trail': 3427, 'frenchman': 3428, 'laughs': 3430, 'obama': 3376, 'passion': 3431, 'promise': 71, \"makin'\": 73, 'during': 5615, 'korea': 1296, 'botanical': 75, 'sound': 3432, \"i'll\": 5616, 'cable': 3433, 'problem': 566, 'jackson': 3434, 'good-looking': 76, 'spitting': 3435, 'smallest': 77, 'coma': 79, 'attractive': 3437, 'habitrail': 3438, 'certainly': 3439, 'forty-seven': 5702, 'written': 3943, 'lease': 80, 'doooown': 3441, 'gosh': 568, 'hoo': 1131, 'clears': 81, 'rector': 82, 'sympathy': 83, 'territorial': 3443, \"raggin'\": 3444, 'enthusiastically': 5617, 'wha': 2838, 'charlie:': 3445, 'lorre': 85, \"'im\": 3446, 'sap': 86, 'lenford': 3448, 'kirk_van_houten:': 3449, 'stick': 87, 'reluctant': 3383, 'recipe': 3450, 'date': 3451, 'jay': 3452, 'comic': 88, 'italian': 89, 'glowers': 90, 'anything': 3455, 'fit': 3456, 'stay-puft': 3458, 'charm': 91, 'desperate': 3460, 'desire': 3461, 'further': 92, 'helllp': 93, 'mug': 13, 'studio': 3462, 'tells': 95, 'lungs': 3464, 'churchill': 97, 'royal': 3465, 'bears': 98, 'swe-ee-ee-ee-eet': 3467, 'nonchalant': 3468, 'ing': 3469, 'outlook': 3470, 'snaps': 99, 'boyhood': 3471, 'beam': 558, 'horror': 3386, 'minutes': 100, 'nantucket': 3474, 'stern': 101, 'court': 102, 'admitting': 103, 'poster': 3475, 'golden': 104, 'academy': 105, 'compadre': 3316, 'yawns': 3476, 'icy': 6555, \"liberty's\": 753, 'japanese': 106, 'clearing': 3477, 'kings': 107, 'chapel': 3478, 'gallon': 3392, 'sacrilicious': 1958, 'stalwart': 109, 'cost': 110, 'adult': 111, 'everyday': 3481, 'beefs': 112, 'event': 114, 'lover': 115, 'satisfied': 116, 'stool': 118, 'stocking': 119, 'julep': 3482, 'geyser': 122, 'tree': 3484, 'encouraging': 123, 'aziz': 124, 'poorer': 3485, 'priceless': 125, 'rotch': 3486, 'occurred': 3487, 'standards': 19, 'dumpster': 127, 'act': 6229, 'looking': 3488, 'points': 3489, 'dress': 128, 'crying': 129, 'atari': 130, 'brainheaded': 131, 'cuz': 3491, 'whose': 3492, 'proposition': 132, 'pro': 133, 'meaning': 135, 'grabs': 574, 'risquã©': 136, 'strain': 3494, 'sleeps': 137, 'dig': 138, \"bringin'\": 3496, 'pian-ee': 140, 'befouled': 141, 'months': 3497, 'declan_desmond:': 142, 'luckily': 143, 'grrrreetings': 144, 'lodge': 3498, 'in-in-in': 3499, 'vanities': 3500, 'celebrities': 3501, 'prettiest': 146, 'interested': 147, \"wino's\": 3394, 'wazoo': 148, 'life:': 149, 'remote': 1740, 'joey': 3505, 'tatum': 3506, 'ruled': 3507, 'more': 5624, 'blues': 3508, 'brow': 3509, 'plaintive': 3510, \"ya'\": 3511, 'abcs': 150, \"somethin'\": 151, 'startled': 3513, 'thirsty': 152, 'fund': 3514, 'yard': 154, 'eggshell': 155, 'mitts': 6776, 'amanda': 3517, 'done': 156, \"wallet's\": 3518, 'liser': 5626, 'socratic': 3519, 'vance': 3521, 'clandestine': 3522, 'nice': 158, 'raccoons': 5048, 'groans': 2328, 'twelveball': 159, 'mid-conversation': 6353, 'recorded': 3523, 'and:': 160, 'driver': 161, 'yours': 162, 'shout': 3524, 'fix': 3525, 'honey': 164, 'listen': 3526, 'reaches': 168, 'guide': 169, 'falsetto': 170, 'sugar-free': 3528, 'bronco': 3529, 'plus': 171, 'actors': 5050, 'schnapps': 172, 'sadistic_barfly:': 3530, 'wall': 3531, 'back': 3532, 'bartholomã©:': 3533, 'frankenstein': 6566, 'placing': 173, 'pretends': 174, 'moved': 175, 'oopsie': 3535, 'scoffs': 3536, 'less': 176, 'recall': 3537, 'jimmy': 177, 'pink': 178, 'lord': 3538, 'meaningful': 4143, 'money': 3539, '1895': 6765, \"game's\": 4508, 'actor': 179, 'tony': 180, 'impress': 181, 'haircuts': 3540, 'backgammon': 3542, 'coffee': 3543, 'frankly': 3544, 'bitter': 182, 'mcclure': 3545, 'lucius': 183, 'hm': 3547, 'superdad': 3397, 'rhode': 184, 'heart-broken': 1335, 'reopen': 185, 'health_inspector:': 3550, 'hose': 3551, \"tester's\": 3399, 'arrested:': 186, 'venture': 6652, 'hang': 3552, 'struggling': 3553, 'musketeers': 3557, 'spent': 3556, 'gary_chalmers:': 3558, 'now': 2541, 'espn': 187, 'fdic': 188, 'frink-y': 3559, 'his': 189, 'al': 190, 'supervising': 191, 'dreamily': 3561, 'combines': 192, 'nectar': 193, 'snatch': 3562, \"what'd\": 194, 'address': 3339, 'served': 195, 'sees/': 196, 'talking': 198, 'paramedic:': 199, 'fast-paced': 586, 'lance': 3565, 'damn': 200, 'reach': 201, 'butts': 202, 'dea-d-d-dead': 204, \"maggie's\": 3569, 'lemme': 3571, 'neon': 3572, 'selling': 2334, 'defensive': 3573, 'demo': 205, 'renee': 206, 'hardy': 207, 'together': 208, 'transfer': 209, 'deny': 3575, 'elephants': 210, 'traditions': 3576, \"soakin's\": 3578, 'strong': 2336, 'sucked': 211, \"workin'\": 212, 'no': 3580, 'arrest': 213, 'wheeeee': 3583, 'thirteen': 214, 'wise': 3584, 'sly': 215, 'hanging': 217, 'lottery': 3587, 'shriners': 6244, 'broken': 3589, 'bursts': 5060, 'brace': 3590, 'eh': 3591, 'super-genius': 219, 'beer:': 221, 'bathing': 3594, 'dennis_conroy:': 3595, \"g'night\": 3597, 'bulletin': 222, 'offensive': 3598, 'snapping': 223, 'protestantism': 3405, \"neighbor's\": 3599, 'dangerous': 224, 'customers-slash-only': 225, 'neighboreeno': 5939, 'throat': 6248, 'fancy': 3600, 'trusted': 226, 'explanation': 229, 'space-time': 3603, \"livin'\": 594, 'ironic': 231, 'liven': 232, 'aged_moe:': 6055, 'wildest': 3605, 'examines': 3606, 'military': 233, 'never': 3607, 'ugliness': 234, 'lock': 235, 'phasing': 236, 'grabbing': 3608, 'gruff': 237, 'railroad': 238, 'santa': 239, 'remembering': 240, 'considering:': 3611, 'program': 3613, 'older': 2341, 'instrument': 241, 'latin': 242, 'alone': 243, 'activity': 3615, 'street': 3616, \"duelin'\": 2867, 'hostages': 3617, 'prints': 244, 'cherry': 245, 'customer': 3618, 'soir': 3619, 'bubbles': 246, 'confused': 3620, 'blackjack': 3621, 'jam': 247, 'furry': 3623, 'celeste': 248, 'los': 5883, \"tryin'\": 3624, 'spend': 249, 'dismissive': 3626, 'mmmm': 250, 'cakes': 3627, 'pleasant': 251, 'comic_book_guy:': 252, 'writer:': 4516, 'hunter': 3628, 'point': 253, 'met': 254, 'solely': 3629, 'control': 255, '14': 6030, 'expensive': 5973, 'reality': 3630, 'plums': 256, 'krabappel': 3631, 'degradation': 257, 'cake': 258, 'increased': 3632, 'ginger': 5926, 'designated': 6328, \"what'll\": 259, 'corner': 3633, 'alcohol': 260, 'take': 3635, 'seminar': 6575, 'witches': 262, 'makes': 5860, 'temper': 3636, 'wheels': 263, 'uh-oh': 264, 'jumping': 3637, 'hearing': 265, 'crime': 3638, 'ehhh': 267, 'legend': 3640, 'barflies:': 269, 'belch': 3641, 'correcting': 1168, 'burp': 270, 'quarter': 3642, 'koi': 272, 'breathtaking': 3643, 'school': 3644, 'survive': 273, 'hits': 274, 'fantasy': 275, 'order': 276, 'chill': 3646, 'grammar': 3647, 'recently': 277, 'facebook': 3648, 'ate': 3649, 'bill_james:': 279, 'ease': 5071, 'goo': 4520, 'advertising': 3650, 'ooo': 3651, 'connor': 3652, 'airport': 280, 'holds': 3654, 'bupkus': 607, 'boxers': 3655, 'white': 3656, 'pissed': 3657, 'hug': 5700, 'powerful': 3658, 'finishing': 281, 'mexican_duffman:': 282, \"we're\": 284, 'betrayed': 3659, 'kick': 285, 'pus-bucket': 3660, 'bagged': 3661, 'lobster': 50, 'quimby_#2:': 286, 'moron': 3662, 'hootie': 3663, 'feed': 287, 'continuum': 288, 'goods': 289, 'blowfish': 5417, 'ah-ha': 3664, 'voicemail': 3665, 'sharity': 290, 'flophouse': 6673, 'sleeping': 1169, 'steinbrenner': 291, 'busy': 3666, 'poin-dexterous': 2349, 'pirate': 292, 'doctor': 3667, 'manjula_nahasapeemapetilon:': 2351, 'each': 1170, 'weak': 293, 'enemies': 294, \"cupid's\": 3668, 'consoling': 296, 'selma': 3670, 'cola': 299, 'edna_krabappel-flanders:': 300, 'shakes': 3673, 'goodwill': 5943, 'clubs': 301, 'coin': 302, 'looser': 303, 'ideal': 1173, 'dame': 304, 'hotline': 3674, 'but': 3675, 'plenty': 305, 'roll': 306, 'notably': 307, 'skirt': 3677, 'weep': 616, 'faceful': 4625, 'lindsay_naegle:': 3678, 'gimmick': 3679, 'eurotrash': 3680, 'did': 6384, 'outlive': 3681, 'cosmetics': 3682, 'romantic': 3683, 'souvenir': 3684, 'abolish': 3685, 'lots': 309, 'dean': 3686, 'helicopter': 310, 'easily': 3689, 'tense': 3690, 'stuck': 3691, 'vengeful': 3692, 'automobiles': 3693, \"kearney's_dad:\": 6499, 'progress': 3694, 'bear': 3695, 'wide': 3696, 'acting': 311, \"it'd\": 313, 'comfortable': 3697, 'u2:': 314, 'edner': 315, 'generous': 3698, 'indifference': 6266, 'boxing': 316, 'wishful': 3699, 'mither': 3700, 'ninety-six': 318, 'deer': 319, 'wrong': 3701, 'sagacity': 3702, 'funeral': 321, 'couple': 322, 'angry': 58, 'regulations': 323, 'labels': 3703, 'measurements': 324, 'peppers': 1317, 'friendly': 3704, 'infestation': 325, 'bones': 3705, 'hollywood': 3706, 'hollowed-out': 326, 'researching': 327, 'hyper-credits': 3708, 'manfred': 328, 'park': 329, 'sounded': 3709, 'x': 3710, 'dae': 5550, \"stabbin'\": 3712, 'greystash': 330, 'ones': 2353, 'allowance': 331, 'lifetime': 6273, \"larry's\": 3714, 'represent': 3715, 'moe_recording:': 1182, 'cartoons': 6317, 'recap:': 332, 'drollery': 333, 'killer': 3979, \"grandmother's\": 334, 'practice': 5656, 'him': 335, 'assistant': 3719, 'driving': 6156, 'hibachi': 338, 'slop': 3721, 'feels': 339, 'nerd': 5078, 'head': 1183, 'pure': 3722, 'squeals': 340, 'changed': 341, 'air': 342, 'souped': 6129, 'takes': 3723, 'libido': 5627, 'swear': 343, 'felt': 344, 'soon': 3725, 'portuguese': 3727, 'canyoner-oooo': 345, 'he': 346, 'eighty-six': 157, 'please/': 3728, 'sad': 347, 'reunion': 3729, 'declared': 3730, 'minus': 3731, 'counting': 2880, \"i-i'll\": 348, 'walther': 3732, 'able': 5081, 'garbage': 3733, 'perch': 349, 'stillwater:': 5845, 'jobs': 350, 'war': 2358, 'digging': 351, 'layer': 352, 'blur': 1440, 'somewhere': 3421, \"'ceptin'\": 353, 'joke': 3737, 'knives': 3738, 'wally': 5083, 'dials': 354, 'rife': 3739, 'elite': 63, 'chief_wiggum:': 4645, 'tolerable': 3740, 'always': 355, 'driveability': 3741, 'hopeful': 356, 'comment': 3742, 'chicken': 5660, 'stirrers': 357, 'premiering': 359, 'juke': 216, 'incredible': 3423, \"valentine's\": 3743, 'the': 360, 'flexible': 3744, 'one': 361, 'apply': 3745, 'free': 3746, 'defiantly': 363, 'accepting': 364, 'loud': 6428, 'soft': 3748, 'marvin': 365, 'like': 366, 'gin': 3983, 'men': 3424, \"ain't\": 367, 'felony': 368, 'twelve-step': 3751, 'tomato': 369, 'cab': 371, 'kind': 3752, 'hot-rod': 372, 'louse': 3753, 'legs:': 373, \"football's\": 3754, 'superhero': 3755, 'st': 374, 'ends': 3756, 'buzziness': 375, 'enjoys': 5086, \"disrobin'\": 3757, 'boston': 376, 'disillusioned': 377, 'improv': 378, 'flush': 3758, 'helping': 3759, 'polite': 379, 'viva': 380, 'barney-shaped_form:': 3760, 'hexa-': 381, 'boyfriend': 70, \"tatum'll\": 3761, 'guest': 3763, 'limber': 3429, 'shuts': 3765, 'prep': 3766, 'patriotic': 3767, 'cockroaches': 3768, 'picked': 3769, 'joe': 385, 'benjamin:': 1532, 'displeased': 3770, 'asking': 3771, 'intoxicants': 388, 'slobs': 389, 'pews': 390, 'sees': 391, '_zander:': 3772, 'bowie': 2364, \"wasn't\": 393, 'alter': 394, 'guessing': 3773, 'chum': 395, 'flowers': 396, 'octa-': 3774, 'bless': 397, \"nothin'\": 5529, 'stored': 3776, 'dna': 400, 'dough': 403, 'surprising': 3780, 'adult_bart:': 405, 'exclusive:': 3781, 'led': 3782, 'augustus': 3784, 'touch': 407, 'watching': 3785, 'b-day': 408, 'lead': 3786, 'failure': 409, 'truck_driver:': 72, 'live': 6023, 'broom': 410, 'letters': 3787, 'barney_gumble:': 411, 'die': 412, 'curiosity': 413, 'trapped': 414, 'managing': 3789, 'special': 3791, \"children's\": 416, 'old_jewish_man:': 3792, 'aggravazes': 417, 'package': 1482, 'then:': 418, 'amber': 3795, 'inspire': 1197, 'developed': 419, 'm': 420, 'ali': 421, 'pillows': 3988, 'kodos:': 3796, 'talk-sings': 2888, 'pas': 422, 'teeth': 74, 'delts': 3798, 'edna-lover-one-seventy-two': 3799, 'tow-talitarian': 6076, 'soul-crushing': 3800, 'bumbling': 3801, 'snorts': 3990, 'infor': 2891, 'robin': 424, \"ma's\": 425, 'breakdown': 426, 'rented': 3802, 'stink': 3803, '||comma||': 3804, 'shop': 427, 'sam:': 3805, 'seen': 3806, 'togetherness': 3807, 'hobo': 3808, 'middle': 428, 'gimmicks': 3810, 'down': 429, 'rolled': 3811, 'dumbest': 3812, 'religious': 430, 'gently': 3813, 'stonewall': 1698, 'soaps': 3814, 'line': 431, 'fortensky': 1200, 'marjorie': 3815, 'jukebox': 632, 'nuked': 434, 'spellbinding': 3817, 'na': 3818, 'broken:': 6661, 'agree': 437, 'hockey-fight': 438, 'sponge:': 439, 'peppy': 440, 'revenge': 441, 'cleaning': 5670, 'traitors': 3821, 'toms': 78, 'nurse': 444, 'dancing': 443, 'positive': 445, 'social': 446, 'health': 3822, 'statue': 447, 'tab': 448, 'trip': 450, 'far': 451, 'colorado': 1786, 'inside': 5672, 'moe-clone:': 452, 'pockets': 3826, 'szyslak': 453, 'coast': 5099, 'unsafe': 454, 'hawking:': 3828, 'bleeding': 455, 'answering': 635, 'illegal': 457, 'happily': 458, 'technical': 3997, 'kl5-4796': 3830, 'refreshment': 3831, 'badmouths': 2373, 'gargoyle': 3832, '_marvin_monroe:': 3833, 'annoying': 459, 'fabulous': 460, 'whiny': 4549, 'domestic': 3834, 'thirty-nine': 461, 'couch': 462, 'stu': 463, 'loved': 3836, 'duffed': 464, 'desperately': 465, 'relax': 466, \"bladder's\": 467, 'because': 468, 'sits': 469, 'shutting': 6210, 'deeply': 470, 'drown': 471, 'harder': 3440, 'acquitted': 3839, 'drunkening': 3840, 'friend:': 3841, 'jackpot-thief': 472, 'dads': 3843, 'pop': 3844, 'closes': 473, 'already': 3847, 'tiger': 3848, 'romance': 3849, 'curious': 3442, 'life-sized': 5677, 'haws': 3850, 'anyhow': 474, 'ollie': 3586, \"it's\": 3852, 'offense': 475, 'creature': 3853, 'himself': 3854, 'shipment': 640, 'those': 3856, 'hospital': 1789, 'fever': 3858, \"that'll\": 3859, 'fbi': 3860, 'may': 476, 'waters': 3862, 'yelling': 3864, 'cocks': 3865, 'acquaintance': 3158, 'vodka': 479, 'decent': 480, 'thought_bubble_homer:': 642, 'oddest': 6292, 'onto': 5678, 'rice': 3867, 'handsome': 481, 'sell': 3868, 'raise': 482, 'snail': 483, 'atlanta': 3869, \"bar's\": 485, 'grampa': 487, 'wenceslas': 3870, 'thought_bubble_lenny:': 1260, 'problemo': 488, 'moe': 3872, 'evasive': 489, 'heals': 4803, 'veteran': 490, 'quit': 491, 'aunt': 492, 'gift:': 494, 'stunned': 495, 'trucks': 3874, 'past': 496, 'squadron': 3875, 'canoodling': 497, 'aggravated': 3447, 'accidents': 498, 'trust': 499, 'sincere': 2898, 'goal': 3876, 'sex': 500, 'jack_larson:': 706, 'honor': 502, 'unbelievably': 3878, 'bobo': 505, 'rascals': 506, 'chin': 3879, 'chinese': 3880, 'faced': 3881, 'lie': 507, 'whispered': 3882, 'freedom': 508, 'exited': 5684, 'beans': 3883, 'compared': 5109, 'insecure': 3884, 'nail': 3885, 'low-life': 509, \"tab's\": 3886, 'novelty': 510, 'martini': 3887, 'yellow-belly': 511, 'winston': 3888, 'open-casket': 513, 'malibu': 3889, 'rueful': 5805, 'offa': 1795, 'tonic': 3891, 'danish': 514, 'kegs': 515, 'result': 6301, 'derisive': 3892, 'twenty-four': 3893, 'civic': 516, 'nuclear': 517, 'buying': 3896, 'awww': 519, 'absorbent': 3898, 'farthest': 1212, 'dynamite': 520, 'milks': 3899, 'fills': 5115, 'american': 2387, 'located': 522, 'easier': 523, 'forget-me-drinks': 524, 'senators': 525, 'tidy': 1214, 'sanctuary': 3900, 'glummy': 3901, 'jerk-ass': 3416, 'alec_baldwin:': 3902, 'lost': 3903, \"tellin'\": 3905, 'eighty-one': 528, 'red': 529, 'toxins': 3906, 'doors': 5116, 'surgery': 530, 'delivery_boy:': 3907, 'pussycat': 531, 'involving': 3908, 'tentative': 532, 'sheriff': 3909, 'hurt': 3453, 'explaining': 3910, 'homer': 3911, 'ireland': 534, 'brainiac': 3913, 'dã¼ff': 536, 'jamaican': 1800, 'cheer': 537, 'direction': 3916, 'moonnnnnnnn': 3917, \"lady's\": 5689, 'marge': 5754, \"hangin'\": 538, 'cough': 1216, 'boo': 541, 'homesick': 3918, 'yells': 3459, 'gag': 542, 'starts': 543, 'presidential': 548, 'third': 547, 'entirely': 546, 'hanh': 3921, 'stayed': 1218, 'hello': 3923, 'handing': 5692, 'she-pu': 3924, 'getup': 3925, 'frog': 3926, 'committing': 3927, 'bees': 3928, 'outs': 550, 'hosting': 3929, 'warm_female_voice:': 3930, 'consulting': 3931, 'ringing': 661, 'scanning': 553, 'specified': 554, 'encouraged': 555, \"who's\": 556, 'opens': 557, 'wells': 3934, 'disturbing': 3935, 'grin': 5645, 'gees': 651, 'dennis': 3938, 'swamp': 560, 'tremendous': 561, 'lear': 3939, 'meanwhile': 562, 'comedies': 3940, 'and': 564, '1-800-555-hugs': 3941, 'talkative': 94, 'moments': 565, 'michelin': 3942, 'inclination': 1806, \"washin'\": 567, 'intense': 3945, 'skeptical': 3944, \"cat's\": 569, 'old': 5697, 'perverted': 3946, 'beings': 3463, 'gut': 3947, 'fantastic': 3948, \"number's\": 3949, 'holding': 570, \"department's\": 3951, 'read': 96, 'sub-monkeys': 3952, 'either': 571, 'smart': 5343, 'african': 572, 'sincerely': 573, 'starters': 575, 'rookie': 6410, 'laugh': 5127, 'half-day': 5699, 'scam': 3953, 'maggie': 3954, 'bar-boy': 5128, 'fair': 3955, 'onassis': 576, 'lucius:': 577, '_julius_hibbert:': 578, 'expecting': 3956, 'krusty': 579, 'pig': 3718, 'absentmindedly': 580, 'alive': 581, 'grunts': 3957, 'gunter:': 4052, 'exception:': 582, 'slow': 583, 'parrot': 584, 'frightened': 585, 'slab': 5705, 'partly': 587, 'sucking': 588, 'fire': 3958, 'tail': 589, 'ping-pong': 3959, 'dumbass': 590, 'sampler': 3960, 'fresco': 591, 'ruuuule': 592, 'card': 3961, 'linda': 593, 'ech': 3962, 'moonlight': 596, \"chewin'\": 597, 'mini-dumpsters': 3964, 'tickets': 3965, 'weirded-out': 3966, 'troy:': 598, 'dungeon': 599, 'alright': 600, 'artie_ziff:': 601, 'chauffeur:': 602, 'standing': 2396, 'refreshingness': 5135, 'decadent': 603, 'pointing': 604, \"man'd\": 605, 'ons': 606, \"crawlin'\": 3971, 'something': 608, 'number': 609, 'kent': 610, 'considering': 3972, 'pepto-bismol': 611, 'brockman': 612, 'moan': 613, 'unhook': 614, 'painting': 615, 'been': 3973, 'poplar': 3974, 'strap': 4578, 'th': 617, 'answered': 3975, 'guns': 3976, 'make:': 618, 'fly': 619, 'cowboys': 3977, 'passports': 1226, 'experienced': 5139, 'fourteen:': 3978, 'broncos': 2400, \"shan't\": 3981, 'swelling': 1228, 'aid': 620, 'wrap': 621, 'crew': 3982, 'western': 622, \"readin'\": 5555, 'thesaurus': 3984, 'stained-glass': 5904, 'answers': 3985, 'investment': 623, 'homer_doubles:': 624, \"cheerin'\": 625, \"bettin'\": 626, 'doof': 627, 'break': 628, 'convinced': 629, 'bunion': 3986, 'rapidly': 3987, 'ref': 2913, 'jams': 3989, \"year's\": 630, 'rainier_wolfcastle:': 631, 'paparazzo': 3992, 'flash': 3993, 'county': 664, 'damage': 3994, 'gulliver_dark:': 633, 'nooo': 3995, \"weren't\": 634, 'wanted': 3996, 'john': 636, 'sweat': 3998, 'access': 637, 'africanized': 638, 'booze-bags': 4000, 'rub': 639, 'drunks': 4001, 'paintings': 1231, 'chinua': 641, \"scammin'\": 1821, \"tomorrow's\": 643, 'officer': 4583, 'introduce': 644, 'greatly': 4002, 'times': 4003, 'edelbrock': 645, 'sail': 4005, \"starla's\": 3472, 'conspiratorial': 4006, 'graves': 667, \"cuckold's\": 646, 'afford': 5602, 'ziffcorp': 647, 'video': 4007, 'jebediah': 5146, 'guess': 648, 'inspiring': 4033, 'regret': 4008, 'bums': 649, 'depending': 650, 'call': 4011, 'hell': 652, 'delays': 653, 'producers': 6054, 'punishment': 4012, 'macbeth': 654, 'la': 4013, 'gr-aargh': 655, 'taylor': 4014, 'diapers': 4015, 'wistful': 4016, 'short': 4017, 'lotsa': 4018, 'appreciate': 656, 'shakespeare': 4019, 'foot': 4020, 'contemplated': 4021, 'nevada': 4022, 'yeah': 657, 'went': 658, 'whip': 659, 'crowds': 660, 'hates': 4023, 'wing': 4024, 'starving': 4025, 'around': 4026, 'punkin': 5266, \"fishin'\": 5849, 'hour': 662, 'refreshing': 663, 'er': 4028, 'eleven': 4029, 'neighborhood': 4030, 'jump': 665, 'rump': 2843, 'larry': 4032, 'medical': 666, 'waltz': 668, 'thousand': 669, 'acceptance': 4034, 'tabooger': 670, 'half-back': 671, 'regretted': 527, 'football_announcer:': 4035, 'hurts': 4036, 'forbids': 4037, 'smiling': 4038, 'box': 6276, 'jovial': 278, 'ga': 4039, 'someplace': 672, 'counterfeit': 673, 'lighter': 4040, 'unavailable': 4041, 'kramer': 674, 'yo': 4042, 'eddie': 675, 'sacajawea': 4043, 'said:': 6285, 'overstressed': 5160, \"wait'll\": 676, 'everywhere': 4044, 'does': 677, \"father's\": 5156, 'managed': 4045, 'full': 678, 'frankie': 4046, 'tasty': 5159, 'alpha-crow': 679, 'albeit': 680, 'whaaa': 681, 'advantage': 4047, 'sorts': 4048, 'classy': 4049, 'shyly': 1414, 'j': 683, 'neanderthal': 4050, 'mouth': 4051, 'calling': 684, 'intention': 685, 'movement': 4054, 'marry': 4056, 'any': 686, 'english': 4058, 'suffering': 108, 'part': 687, 'cage': 4059, 'ram': 4060, 'singing/pushing': 2411, \"dog's\": 4061, 'maiden': 688, 'blood': 4062, 'drinks': 4063, 'der': 3479, 'peeping': 689, 'cousin': 4064, 'supply': 690, 'terrace': 4065, 'hostile': 691, 'weirder': 692, 'fourth': 4066, 'deeper': 693, 'fbi_agent:': 694, 'loves': 695, 'register': 696, 'installed': 4067, 'sixty-nine': 697, 'partners': 4069, 'network': 698, 'started': 699, 'thrust': 4071, 'looting': 3480, 'throwing': 4072, 'fraud': 6506, 'plant': 700, 'apart': 701, 'sesame': 702, 'weight': 703, 'history': 4073, 'self-esteem': 704, 'bar_rag:': 705, 'super': 3969, 'edna': 4074, \"we've\": 3676, 'out': 4075, 'robot': 708, 'intervention': 1832, 'bono:': 709, ':': 113, 'screws': 710, 'winded': 711, \"sayin'\": 712, 'f': 713, 'baseball': 2413, 'diablo': 714, 'patrons:': 715, 'eventually': 6633, 'clapping': 717, '50-60': 4078, 'quebec': 4079, 'forgiven': 4080, 'sob': 4081, 'necessary': 718, 'clams': 4082, 'steampunk': 4083, 'frat': 4084, 'drove': 719, 'horrible': 720, 'gin-slingers': 721, 'physical': 722, 'stamp': 5167, 'contractors': 4086, 'perfected': 4087, 'grandkids': 5168, 'what': 723, 'prejudice': 724, 'preparation': 4089, 'murdered': 725, 'subject': 117, 'astrid': 726, 'grub': 727, 'law': 728, 'wallet': 4090, 'a': 729, \"nothin's\": 730, 'singing': 4091, 'scotch': 4093, 'greatest': 731, 'scientists': 4094, 'restless': 732, 'last': 4095, 'nick': 4096, \"how's\": 733, 'omigod': 4098, 'upn': 6338, 'prompting': 734, 'dignified': 501, 'matter': 735, \"now's\": 4099, \"d'ya\": 4100, 'grateful': 5759, 'un-sults': 736, 'pointedly': 682, 'bull': 4102, 'beards': 738, 'meatpies': 6743, \"stayin'\": 4103, 'bauer': 739, 'lists': 4104, 'jogging': 6339, 'window': 4105, 'rather': 6340, 'serious': 5725, 'online': 6342, 'closed': 740, 'unless': 4107, 'cushion': 4108, 'attracted': 4109, 'north': 4110, 'shutup': 741, 'simpson': 4111, 'little_hibbert_girl:': 5727, 'rancid': 4112, 'swallowed': 4113, '250': 742, 'unusual': 743, 'gibson': 4114, 'winces': 4115, 'stock': 744, 'mortal': 745, 'cow': 4116, 'fast-food': 746, 'argue': 3483, 'caricature': 4118, 'heave-ho': 4119, 'taking': 747, 'four-drink': 4120, 'rings': 749, 'iran': 4121, 'insightful': 4122, 'mrs': 4123, 'mic': 4124, 'affectations': 4125, 'store-bought': 4126, 'creme': 750, 'edge': 4127, '1973': 4053, 'sometime': 4128, 'moans': 751, 'sperm': 4130, 'stirring': 4131, 'non-american': 754, '530': 4132, 'pit': 4133, 'have': 4055, 'municipal': 5731, 'feminine': 4134, '_babcock:': 755, 'proudly': 4135, 'conversations': 756, 'contemptuous': 757, 'ridiculous': 4057, 'nigerian': 4137, 'eww': 758, 'correction': 759, 'coms': 1247, 'tokens': 4138, 'mellow': 760, 'bow': 4139, 'child': 5178, 'tough': 761, \"treatin'\": 5732, 'woman:': 763, 'amused': 4141, 'believer': 126, 'pointy': 5607, 'pitcher': 595, 'hero': 4142, 'gasps': 764, 'reporter': 4144, 'balls': 766, 'knocked': 4145, 'accusing': 2941, 'businessman_#2:': 4147, 'richard:': 4148, 'two-drink': 768, \"you'd\": 4149, 'nine': 4150, 'knew': 2425, 'washed': 4151, 'co-sign': 4153, \"bo's\": 770, 'ungrateful': 771, 'celebration': 6021, 'shaking': 4154, 'scum': 3490, 'bottoms': 772, 'figures': 773, 'incognito': 774, 'slender': 775, \"meanin'\": 776, 'bible': 4155, 'pub': 5181, \"world's\": 4156, 'what-for': 779, 'force': 780, 'buried': 4157, 'nelson': 781, 'confidential': 782, 'captain:': 783, 'full-time': 4159, 'aquafresh': 1767, 'kent_brockman:': 6347, 'toilet': 784, 'ignorant': 2943, 'envy-tations': 1479, 'other_player:': 785, 'paper': 4160, 'throw': 786, 'lookalike:': 5738, 'mariah': 4161, 'emergency': 2835, 'musical': 4162, \"'em\": 4163, 'glum': 4164, 'cigarettes': 6348, 'vestigial': 787, 'lovers': 4165, 'swell': 4166, 'capitol': 4167, 'mumbling': 4168, 'chorus:': 4169, 'xanders': 4170, 'charlie': 788, 'shares': 789, 'add': 4171, 'emphasis': 4172, \"moe's\": 2946, 'bitterly': 790, 'pernt': 791, 'potato': 792, 'maya:': 793, 'birthday': 794, 'mill': 795, 'lately': 796, 'reminded': 4174, \"spyin'\": 5185, 'industry': 797, 'between': 4176, 'hilarious': 4177, 'decided': 798, 'lisa': 5741, 'sued': 799, 'mexicans': 800, 'all-all-all': 801, 'nascar': 4178, 'sue': 802, 'brothers': 4179, 'scooter': 4180, 'bet': 4181, 'land': 4182, 'source': 4183, 'south': 4184, 'texas': 804, 'museum': 805, 'engine': 1846, 'mouse': 4185, 'explain': 5188, 'fica': 806, 'screw': 4599, 'baloney': 807, 'knocks': 808, 'frozen': 5189, 'reluctantly': 809, 'backwards': 3493, 'closet': 4186, 'badges': 4187, 'princesses': 810, 'dum-dum': 6352, 'sack': 811, 'dexterous': 4190, 'breakfast': 812, 'thrilled': 814, 'ruint': 4191, 'cop': 6354, \"table's\": 815, 'archaeologist': 6299, 'pip': 435, 'quotes': 4193, 'recorder': 4194, 'contact': 816, 'brick': 817, 'finished': 5339, 'job': 5690, 'massachusetts': 4195, 'intelligent': 818, 'trench': 4196, 'crow': 819, 'astronaut': 4197, 'ripcord': 4200, \"somethin's\": 4199, 'boxcars': 820, 'colonel:': 821, 'nods': 822, 'sloe': 3495, \"handwriting's\": 4203, 'piece': 824, 'thirty': 825, 'such': 4204, 'baby': 827, 'pleased': 4205, 'motto': 828, \"shouldn't\": 829, 'majority': 6726, 'hateful': 6079, 'sensible': 830, 'fury': 831, 'welcome': 4206, 'shrugging': 833, 'born': 139, 'crestfallen': 4207, 'wasted': 4208, 'insensitive': 835, 'stay': 4209, 'birthplace': 4210, 'wondering': 4211, 'salvation': 4212, 'appear': 836, 'kirk_voice_milhouse:': 5192, \"don't\": 837, 'wobbly': 838, 'oughtta': 145, 'effervescent': 4213, 'au': 6385, 'forced': 4214, 'lady-free': 4215, 'booth': 6360, 'vicious': 4216, 'boneheaded': 839, 'understood:': 4217, 'accident': 4218, 'vengeance': 4220, 'newspaper': 1262, 'arguing': 840, 'conspiracy': 841, 'safecracker': 842, 'anyhoo': 843, 'pitch': 844, 'alcoholic': 845, 'cell': 4222, 'hiring': 6361, 'spelling': 4223, 'carl': 848, 'tourist': 4224, 'spilled': 3502, \"g'ahead\": 849, \"bart's\": 3503, \"'your\": 4411, 'record': 4225, 'faiths': 4226, 'channel': 6363, 'miserable': 4227, 'bucket': 851, 'sharing': 4228, 'turning': 6364, 'jail': 5195, 'quick': 852, 'summer': 853, 'stir': 854, 'dark': 855, 'doing': 4068, 'code': 4229, 'fight': 856, 'bill': 857, 'population': 4231, 'shotgun': 859, 'soothing': 860, 'dislike': 869, 'diddilies': 863, 'wigs': 4232, 'crippling': 864, 'clone': 865, 'feast': 867, 'instantly': 868, 'monster': 4233, 'worry': 5750, 'belly': 4234, 'trees': 4235, 'entering': 870, 'rough': 4236, 'focus': 4237, 'freely': 4238, \"gettin'\": 4239, 'cavern': 4070, 'carl_carlson:': 4240, 'cheered': 4241, \"jimbo's_dad:\": 4242, 'mistresses': 4243, 'masks': 1323, 'saget': 4244, 'escort': 5196, 'dallas': 4245, 'henry': 3783, 'inserted': 4247, 'coincidentally': 4248, 'disappeared': 874, 'patented': 875, 'you': 4606, 'shoo': 4249, 'rome': 4250, 'coherent': 877, \"narratin'\": 4251, 'oh-ho': 4252, 'duffman': 4253, 'slugger': 4254, 'parking': 4255, 'same': 4257, 'crimes': 879, 'smooth': 5924, 'militia': 4258, 'freak': 880, 'tigers': 4260, 'administration': 881, 'louder': 4263, 'skoal': 4264, 'nineteen': 6219, 'predictable': 5752, 'waste': 882, 'pants': 4266, 'delicious': 885, 'drug': 886, 'helpless': 887, 'highway': 5198, \"collector's\": 4269, \"tree's\": 888, 'french': 889, 'proud': 4270, 'man_with_tree_hat:': 892, 'lives': 891, 'schmoe': 4271, 'cheaped': 4272, 'rich': 893, 'raising': 4273, 'stands': 894, 'conversation': 5963, 'room': 4274, 'cases': 4275, 'ye': 4276, 'executive': 895, 'halvsies': 5479, 'lloyd': 4278, \"floatin'\": 4279, 'set': 4280, 'inanely': 896, 'group': 3512, 'pridesters:': 897, 'worked': 898, 'gals': 899, 'unattended': 901, 'distract': 902, 'intriguing': 4281, 'rummy': 4282, 'koholic': 903, 'angrily': 4283, 'gol-dangit': 1290, 'yello': 6374, 'fine': 905, 'compete': 6293, 'admiring': 4284, 'pantry': 4285, 'anyway': 906, 'sense': 907, 'achebe': 908, 'marriage': 4286, 'whoa': 4287, 'coined': 2444, 'benjamin': 910, 'dinks': 911, 'equivalent': 912, 'doreen': 4288, 'world-class': 4290, 'absolut': 4291, 'luxury': 4292, 'kwik-e-mart': 4293, 'yes': 913, 'flew': 914, 'patty_bouvier:': 916, 'cletus_spuckler:': 918, 'sister-in-law': 4297, 'bunch': 4298, 'robbers': 4299, 'bit': 4300, 'angel': 3515, 'loneliness': 4302, 'bouquet': 3970, 'washer': 2966, 'discuss': 4303, 'flower': 4304, 'anti-intellectualism': 1867, 'vampire': 919, 'retain': 920, 'jig': 923, 'principles': 922, 'taken': 4614, 'slim': 924, 'eating': 4305, 'conversion': 925, 'accent': 4306, 'truth': 4307, 'kool': 926, 'girls': 927, 'haplessly': 5691, 'bag': 4308, 'bushes': 928, 'ahhhh': 4310, 'putting': 5137, 'windowshade': 1530, 'u': 4311, 'ned_flanders:': 4076, 'stepped': 6483, 'finance': 930, 'sign': 931, 'presided': 934, 'chinese_restaurateur:': 935, 'nudge': 4313, 'placed': 4314, 'cheerleaders:': 6351, 'drawer': 936, 'zoomed': 4315, \"puttin'\": 4316, 'scientific': 5206, 'finale': 938, 'orifice': 4317, 'love-matic': 939, 'mother': 4318, 'outside': 941, 'harvey': 942, 'wayne:': 4319, \"spiffin'\": 943, 'fulla': 4323, 'label': 4321, 'hero-phobia': 4322, 'kick-ass': 4324, 'jã¤germeister': 944, 'marshmallow': 945, 'owe': 5764, 'plane': 946, 'listened': 4325, 'grumpy': 947, 'apology': 948, 'percent': 949, 'forbidden': 4327, 'punching': 950, 'hooray': 951, 'pinball': 3520, 'handshake': 952, 'anniversary': 954, 'noble': 4328, 'jockey': 955, 'new': 4329, 'crawl': 4330, 'yell': 957, 'copy': 3417, 'unforgettable': 4331, \"show's\": 4332, 'experience': 959, \"tootin'\": 4333, 'ceremony': 4334, 'as': 4335, 'chug-monkeys': 3609, 'fighting': 4336, \"couldn't\": 961, \"'evening\": 4337, 'tonight': 4338, 'especially': 4339, 'w': 4340, \"'bout\": 5768, 'suspiciously': 962, 'improved': 6537, 'droning': 963, \"dolph's_dad:\": 3466, 'dictator': 964, 'sudden': 966, 'gabriel:': 967, \"o'\": 968, 'tomatoes': 969, '_kissingher:': 4341, 'sir': 4342, 'minister': 4343, 'senators:': 970, 'gabriel': 4344, 'friends': 971, 'nobody': 4345, 'deliberately': 5399, 'cupid': 973, 's-a-u-r-c-e': 974, 'drinker': 4346, 'children': 4077, 'shells': 4348, 'brunswick': 975, 'read:': 2613, 'fake': 976, 'being': 716, 'picnic': 4349, 'hoping': 4350, \"men's\": 978, 'device': 4351, 'ralph': 980, 'formico': 4352, \"depressin'\": 981, 'whale': 982, 'cricket': 5208, 'rob': 983, 'h': 984, 'scratcher': 4353, 'vomit': 4354, \"donatin'\": 4355, 'star': 4356, \"enjoyin'\": 1283, 'poured': 4358, 'peanut': 5772, 'harm': 4359, 'stranger:': 985, 'occupation': 6028, 'fire_inspector:': 986, 'captain': 5209, 'restaurants': 987, 'fountain': 163, 'coach:': 4360, \"ladies'\": 989, 'proves': 990, 'club': 991, \"lenny's\": 992, 'string': 5726, 'proof': 993, 'lipo': 5775, 'mural': 4362, 'lofty': 166, 'shaggy': 994, '_burns_heads:': 4363, \"c'mon\": 4364, 'propose': 4365, 'therapy': 4366, 'creepy': 2887, 'scornfully': 4367, 'science': 4368, 'lou': 4369, 'alfalfa': 996, 'lachrymose': 997, 'domed': 167, 'nordiques': 998, 'eva': 1840, 'flailing': 999, 'literary': 1000, 'junior': 4370, 'bike': 4371, 'jaegermeister': 6381, 'dressing': 4372, 'alls': 4373, 'caught': 4374, 'safely': 4201, 'winning': 1001, 'business': 1002, 'gave': 4085, 'cops': 6006, 'eat': 3527, 'glen:': 5599, 'news': 1004, 'fustigation': 4375, 'wars': 4376, 'fired': 4377, 'hold': 4378, 'taught': 6383, 'anger': 1005, 'would': 1006, 'pharmaceutical': 1007, 'paris': 4380, 'relaxing': 4381, 'upbeat': 1008, 'says': 2983, 'falcons': 1011, 'moe-heads': 1013, 'depressant': 4382, 'congoleum': 1014, 'belts': 4268, 'resenting': 1015, 'tuna': 4383, 'kissingher': 4384, 'arms': 4385, 'warning': 1018, 'certificate': 5214, 'nightmares': 1019, 'bars': 1020, 'remorseful': 4387, 'sooo': 1021, 'incriminating': 1022, 'keeping': 1023, 'grade': 5457, 'slyly': 4388, \"d'\": 1024, 'sigh': 4389, 'book': 4390, 'ever': 1025, 'up-bup-bup': 4392, 'scrape': 4393, \"y'know\": 1027, 'ura': 4394, 'padres': 1028, 'salary': 5215, 'bird': 4088, 'lime': 1029, 'rabbits': 4395, 'going': 4396, 'soaking': 1030, 'edgy': 4398, 'calendars': 1033, 'silence': 4399, 'five-fifteen': 4400, 'wacky': 4401, 'friday': 4402, 'strangles': 1034, 'hispanic_crowd:': 1035, 'letter': 1036, 'duff': 1037, 'sells': 1040, 'juan': 5216, 'fighter': 1041, 'song': 4404, 'all': 4406, 'reconsidering': 1893, 'blossoming': 1042, 'shall': 1043, 'duff_announcer:': 1044, 'working': 4408, 'sticking': 1045, 'hoagie': 3534, 'wake': 4410, 'suspicious': 1279, 'doubt': 1046, 'without:': 1896, 'vampires': 4412, 'versus': 1047, 'spits': 1048, 'grace': 4413, 'glen': 4414, 'ralphie': 5761, 'woo': 1050, 'unsourced': 1051, 'bloodiest': 1052, \"plaster's\": 1053, 'increasingly': 1054, 'severe': 1055, 'buzz': 4415, 'whistling': 4416, 'horses': 4417, 'way': 1056, 'pyramid': 4418, 'space': 4628, 'bell': 1057, 'eye-gouger': 1058, 'compare': 4419, 'medieval': 1060, 'malabar': 4421, 'jay:': 1061, 'lighten': 4422, 'salvador': 1062, 'spy': 4423, 'shelbyville': 4428, 'meditative': 4425, 'shut': 4426, 'stewart': 4429, 'cruise': 4092, 'interesting': 4430, 'morning-after': 4433, 'sponge': 1063, 'horns': 1064, 'sat': 6395, 'patient': 1065, 'calvin': 1066, 'sinister': 1067, 'bowled': 1293, '_montgomery_burns:': 4435, 'ecru': 1068, 'hunger': 1069, 'senator': 1070, 'flayvin': 4437, 'odd': 4438, 'dramatic': 6452, 'cars': 1071, 'slick': 6269, 'grunt': 1072, 'murdoch': 1074, 'barbara': 1076, 'hare-brained': 4439, 'when-i-get-a-hold-of-you': 1077, 'mostly': 5223, 'oof': 4440, 'windex': 1078, 'scrubbing': 4441, 'pre-game': 4442, 'a-lug': 4443, 'broadway': 4444, 'philosophic': 1081, 'stomach': 1080, 'schemes': 1903, 'chateau': 4445, 'other_book_club_member:': 4097, 'beverage': 1082, 'haw': 4446, 'drive': 1083, 'counter': 1084, 'hotel': 1085, 'adrift': 1086, 'portfolium': 1089, 'asses': 1088, 'tearfully': 1090, 'uninhibited': 3156, 'perfunctory': 4448, \"y'see\": 4449, 'typing': 4450, 'twentieth': 4451, 'hiya': 1091, 'kadlubowski': 1092, 'dunno': 4452, 'harvard': 1093, 'wife': 5227, 'behind': 1302, 'mortgage': 4454, 'owner': 6093, '||left_parentheses||': 4455, 'lazy': 4456, '&': 1094, 'reading:': 1095, 'century': 5788, 'thorough': 4457, 'beast': 1096, 'mom': 1097, 'knees': 1098, 'having': 4639, 'thirty-thousand': 1099, 'drinking:': 5229, 'bonding': 5269, 'ambrose': 4459, 'civil': 4460, 'dammit': 4101, 'kicks': 1102, 'worse': 1103, 'riding': 1104, 'term': 1105, 'favorite': 1106, 'season': 3504, 'round': 5791, 'skills': 1306, 'knowledge': 1107, 'pushing': 4462, 'rainier': 5694, 'uncreeped-out': 1108, 'tell': 4464, 'attach': 4665, 'barter': 3541, 'glorious': 1109, 'coyly': 2479, 'putty': 1110, 'horribilis': 4466, 'limits': 401, 'temp': 4467, 'brown': 4469, 'smells': 1111, 'consciousness': 4470, 'lurks': 4471, 'businessman_#1:': 1112, 'thirty-three': 4472, 'cecil': 4473, 'favor': 737, 'touches': 4476, 'leaving': 4475, \"santa's\": 4477, 'yap': 1113, 'etc': 1114, 'germany': 2484, 'rude': 1115, 'mozzarella': 1116, 'folks': 1117, 'bottom': 4479, 'fat_tony:': 4481, 'ho-la': 4482, 'thinking': 3546, 'ivory': 1120, 'asked': 4483, \"tv's\": 5861, 'barflies': 4484, 'heh-heh': 6739, 'beligerent': 4485, 'bachelorhood': 4486, 'thing:': 1121, 'strictly': 1122, 'cut': 1123, 'shard': 4488, \"coffee'll\": 4489, 'a-b-': 1124, 'adopted': 533, 'squabbled': 4490, 'haikus': 1126, 'beady': 1127, 'sets': 4491, 'meet': 3002, \"time's\": 1128, 'clothespins': 1129, \"blowin'\": 1281, 'snotball': 1130, 're-al': 4492, 'suspended': 4493, 'so-ng': 4494, 'unattractive': 4495, 'blocked': 5766, 'arimasen': 1132, 'slot': 1133, 'nauseous': 4496, 'rekindle': 1134, 'floor': 1135, 'vulgar': 1136, 'contest': 3548, 'murderously': 1137, 'shot': 1138, \"'roids\": 4497, 'spit-backs': 1139, 'mob': 1140, 'klingon': 6414, 'better': 4498, 'grow': 4499, 'second': 1141, 'stein-stengel-': 4501, 'guiltily': 1142, 'sisters': 4106, 'involved': 4503, 'class': 6415, 'cozy': 1920, 'religion': 4504, 'likes': 1143, 'badly': 4505, 'sass': 5946, 'changes': 4506, 'most': 4507, 'reciting': 1145, 'hotenhoffer': 4509, 'wear': 1146, 'build': 1147, 'fool': 4510, 'torn': 4511, 'ignorance': 6416, 'clientele': 1148, 'patrons': 1149, 'lessons': 3555, 'longer': 1150, 'absentminded': 4512, 'work': 1151, 'cleaned': 4513, 'photo': 1152, 'mail': 1153, 'amiable': 1154, 'mccarthy': 1155, 'bellyaching': 4984, 'starlets': 1157, 'eddie:': 1158, 'plywood': 4514, 'monday': 1159, 'made': 1160, 'thankful': 1161, 'stadium': 4515, 'upgrade': 1162, 'laughter': 1163, 'renew': 3933, 'fondly': 1164, 'estranged': 1165, 'village': 4517, 'breathalyzer': 5806, 'meant': 1166, 'americans': 1167, 'scram': 4518, 'forty-five': 6418, 'complaint': 4519, 'wash': 4521, 'triple-sec': 4522, 'secret': 3560, \"waitin'\": 4523, 'nigeria': 4524, 'tribute': 4525, 'wienerschnitzel': 1171, 'upsetting': 1172, 'hillary': 1174, 'though:': 1175, 'enterprising': 1178, 'sneaky': 1179, 'tune': 1180, 'cameras': 4526, 'nash': 4527, 'hardwood': 4528, 'sloppy': 4529, 'herself': 6420, 'mix': 4530, 'tapping': 1181, 'charity': 4531, 'trustworthy': 1185, 'smile:': 1184, 'looked': 1186, 'wipes': 4532, 'shooting': 1187, 'campaign': 4533, 'level': 1188, 'bits': 4534, 'anybody': 4535, 'howya': 4536, 'whoo': 4537, '3rd_voice:': 165, 'afternoon': 1189, 'ayyy': 4538, 'design': 1190, 'invisible': 4654, 'triumphantly': 4539, 'after': 1191, 'syndicate': 4540, 'sniffing': 5055, \"money's\": 4541, 'heliotrope': 4542, 'example': 1193, 'leonard': 4543, 'professional': 1194, 'offended': 1195, 'greedy': 1196, 'drop': 6424, \"'tis\": 1198, 'catty': 4544, \"monroe's\": 1199, 'flying': 2859, 'deal': 3563, 'gardens': 1201, 'mirror': 4545, 'took': 4546, 'flustered': 1202, 'gorgeous': 1203, 'earrings': 4117, 'innocuous': 4547, 'college': 1204, 'predecessor': 4548, 'tie': 4550, 'tv_husband:': 4552, 'tenuous': 1205, 'california': 4553, 'cutting': 4554, 'poet': 4555, 'jacques': 1207, 'funniest': 1208, 'rumaki': 4556, 'sneering': 4557, 'nucular': 4558, 'nelson_muntz:': 4559, 'tubman': 1209, 'voice': 432, '_timothy_lovejoy:': 1210, 'hot': 4560, 'four': 6426, 'button': 748, 'bugs': 4561, 'married': 3564, 'stats': 1211, 'ran': 4562, 'thinks': 1192, 'irish': 4563, 'urban': 1213, 'distaste': 4564, 'fill': 1325, 'flynt': 4565, 'sweet': 1215, 'perplexed': 4566, 'peabody': 1217, 'intruding': 3566, 'gumbo': 4567, \"everyone's\": 4568, 'own': 4569, 'things': 1219, 'fish': 904, 'catch-phrase': 4570, 'system': 1221, 'naegle': 5816, 'persia': 1222, 'volunteer': 5620, 'bon': 203, 'fatso': 4571, 'caholic': 929, 'smoke': 1223, 'scatter': 4572, 'grain': 1224, 'five': 4573, 'victory': 4574, 'said': 4575, 'darkness': 1271, 'kinds': 1225, 'reserve': 4576, 'pride': 4577, 'brakes': 5249, 'whim': 5819, 'voodoo': 1227, 'harv:': 3568, \"neat's-foot\": 4579, 'reckless': 3570, 'gets': 1229, 'jasper_beardly:': 1230, 'hunky': 4580, 'covers': 4581, 'effect': 4582, 'espousing': 1232, 'its': 6733, 'brave': 1233, 'annoyed': 4663, 'rumor': 1234, 'wanna': 1235, 'known': 6412, 'champion': 4129, 'director': 1236, 'offshoot': 4584, 'test': 5824, 'low-blow': 4585, 'annual': 5825, 'casting': 4586, 'arrange': 752, 'x-men': 1237, 'cover': 1238, \"here's\": 1239, 'plans': 1240, 'tsking': 3574, 'whispers': 1241, 'teacup': 4587, 'lager': 4588, 'kills': 4589, 'windelle': 6356, 'fad': 4590, 'tongue': 1242, 'shindig': 1243, 'city': 4591, 'sending': 4592, 'christmas': 1244, \"you've\": 4667, 'almost': 4593, 'sheet': 1245, 'diets': 4594, 'boxing_announcer:': 1246, 'goldarnit': 4595, 'methinks': 4596, 'advertise': 4597, 'sickens': 1248, 'chuckling': 2503, 'heh': 1249, 'iranian': 4598, 'committee': 1250, 'peanuts': 3026, 'piling': 4666, 'sassy': 1251, 'life-partner': 1252, 'tender': 1254, 'eggs': 1340, 'nigel_bakerbutcher:': 1932, 'it': 4600, 'wittgenstein': 1256, 'dirge-like': 1257, 'column': 1258, 'sixty': 4601, 'lend': 4602, 'nonchalantly': 4669, 'row': 1259, 'jury': 4603, 'choke': 4604, 'disdainful': 5283, \"hole'\": 2825, 'healthier': 1261, \"poundin'\": 1263, 'suing': 1264, 'nursemaid': 3581, 'kisser': 4605, 'priority': 1265, 'figured': 4607, 'blubberino': 1266, 'chick': 1267, 'quimbys:': 4608, 'am': 1268, 'chase': 1270, 'stupidest': 4136, 'sadder': 4609, 'today': 3582, 'notorious': 6386, 'process': 4610, 'patting': 4611, 'donate': 4612, 'familiar': 3387, 'shows': 1937, 'market': 6147, 'getting': 1272, 'williams': 6130, 'follow': 1273, 'miss': 4613, 'kemi': 4615, 'chuckles': 1275, 'whup': 1276, 'idealistic': 1277, 'chairman': 4616, 'beginning': 1278, 'doppler': 4617, 'janette': 1280, 'smoothly': 4675, 'cummerbund': 4618, 'license': 4677, 'glitz': 3585, 'general': 6090, 'kissing': 2442, 'three-man': 1282, 'y-you': 4619, 'whatchacallit': 1284, 'moustache': 1285, 'mixed': 1286, 'sing': 1287, 'sweeter': 5980, 'hems': 4620, 'gift': 1288, 'daughter': 1289, 'whoa-ho': 5123, 'england': 5954, 'fridge': 6439, 'slight': 4621, 'pond': 4622, 'priest': 1291, 'principal': 1292, 'uncle': 4623, 'rain': 1294, 'army': 3588, 'fink': 1295, 'dollars': 4624, 'per': 4626, 'flack': 4140, 'maya': 1297, \"moe's_thoughts:\": 1298, 'gulps': 4627, \"writin'\": 4629, 'collateral': 762, 'kisses': 4630, 'beautiful': 4631, 'murmurs': 4632, 'lessee': 4633, \"tony's\": 1299, 'jeff_gordon:': 6645, 'prices': 4634, 'came': 4635, \"doesn't\": 1300, 'helen': 4636, 'democracy': 1301, 'remaining': 4637, 'nose': 1303, \"you'll\": 4638, 'nickels': 4640, 'an': 1304, 'boggs': 1305, 'picture': 4641, 'completing': 1308, 'wraps': 1309, 'the_edge:': 1310, 'lenny': 4642, 'corporation': 1311, 'official': 4643, 'whining': 1312, 'hook': 4644, 'raking': 1313, 'slaps': 1314, 'seething': 1315, 'signed': 6443, 'head-gunk': 1316, 'background': 4646, 'grey': 4923, 'important': 4420, 'landfill': 5261, \"thinkin'\": 765, 'delete': 4648, 'powered': 1318, 'indigenous': 3968, 'macho': 1948, 'lobster-politans': 4649, 'cajun': 767, 'woman_bystander:': 4650, 'agnes_skinner:': 4651, 'warranty': 4652, 'locked': 1320, 'sec_agent_#2:': 4653, 'france': 4655, 'libraries': 4656, 'oh': 4657, 'products': 1321, 'ear': 4658, 'called': 1322, 'terrorizing': 1324, 'fudd': 4659, 'foil': 3963, 'kicked': 1326, 'i-i-i': 4660, 'crayon': 3592, 'missed': 4661, 'palm': 1327, 'penny': 4662, 'whistles': 4664, 'si-lent': 1329, 'billingsley': 769, \"dimwit's\": 1330, 'wade_boggs:': 218, 'enthused': 3038, 'charter': 4668, 'smitty:': 3593, 'sweden': 6448, 'case': 1716, 'sen': 4670, 'eager': 4671, 'though': 4672, 'ice': 4673, 'the_rich_texan:': 1331, 'crab': 1332, 'superpower': 4674, 'shoot': 4676, 'corn': 4678, 'schizophrenia': 1334, \"phone's\": 1341, 'conclusions': 3596, 'destroyed': 4679, 'thru': 4680, 'key': 4681, 'fifth': 2512, 'gutenberg': 1342, 'roach': 4682, \"stallin'\": 1337, \"fun's\": 1338, 'before': 4683, 'nameless': 1339, 'johnny_carson:': 4684, 'churchy': 4685, 'expect': 4686, 'clearly': 1344, 'mechanical': 5263, 'pickles': 1345, 'cookies': 4152, 'restroom': 6606, 'price': 1346, 'promotion': 1349, 'square': 1348, \"toot's\": 1350, 'kept': 1351, 'death': 1307, 'effects': 5264, 'lisa_simpson:': 1352, 'stickers': 1353, 'minors': 1354, 'don': 4687, 'hide': 1355, 'church': 4689, 'dogs': 4690, 'then': 4691, 'caper': 4692, 'appealing': 1357, 'tap': 4693, 'runs': 4695, 'puke-holes': 6366, 'sector': 4696, 'testing': 6479, 'dance': 4697, 'sticking-place': 4700, '91': 3412, 'shag': 1358, 'hiding': 4701, 'attractive_woman_#1:': 1328, \"clancy's\": 4702, 'disco_stu:': 4703, 'hushed': 4704, 'contemplates': 1359, 'celebrate': 1206, 'milhouse_van_houten:': 4705, 'tones': 1953, 'c': 4706, 'rolls': 3047, 'answer': 4707, 'feminist': 4708, 'shoulda': 4709, 'alky': 1361, 'magazine': 4710, 'zack': 5268, 'long': 1363, 'malted': 4711, 'crunch': 4712, 'i-i': 1364, 'repay': 4713, 'plan': 4714, 'wiggum': 1365, 'gil_gunderson:': 4715, 'lennyy': 3601, 'loser': 4716, 'from': 777, 'ignoring': 4717, 'moonshine': 6377, 'coy': 4718, 'justice': 4719, 'according': 4720, 'situation': 4721, 'concerned': 5256, 'teen': 1367, 'lifts': 1368, 'gambler': 1369, 'vincent': 1371, 'period': 1373, 'shores': 4722, 'tall': 4723, 'highest': 3932, 'helped': 4725, 'alien': 4726, 'electronic': 5270, 'delightfully': 1375, \"hasn't\": 4728, 'agents': 5996, \"callin'\": 4729, 'protesters': 1376, 'cocoa': 4730, 'wad': 1377, 'load': 84, 'wiggle': 4688, 'farewell': 4732, 'slip': 4733, 'retired': 1378, 'teach': 4734, \"breakin'\": 4735, 'bites': 4736, 'spot': 4737, 'muffled': 4738, 'one-hour': 1379, 'go': 1381, 'urine': 1356, 'subscriptions': 3602, 'distinct': 4158, 'someone': 1384, 'ducked': 1980, 'adjourned': 1386, 'touched': 5853, 'troy_mcclure:': 4739, 'permanent': 1388, 'sleigh-horses': 4740, 'impatient': 4741, 'chipped': 227, 'wantcha': 4744, 'due': 778, 'sobbing': 3824, 'beanbag': 4745, 'know': 1392, 'sponsoring': 1393, 'clothes': 1394, 'cheaper': 1395, 'fiiiiile': 1396, 'puts': 4747, 'numbers': 4750, 'rebuttal': 4749, 'feat': 4751, 'alma': 4753, 'shark': 1397, 'home': 230, 'glad': 4754, 'needy': 1399, 'aw': 1400, 'effervescence': 4755, 'name:': 4756, 'terrible': 3604, 'roy': 1401, 'sale': 1402, 'doll': 4757, 'lewis': 4758, 'probably': 4759, 'typed': 4760, 'rugged': 1403, 'calculate': 1404, 'ruin': 4694, 'high': 1406, 'drivers': 1407, 'lay': 1408, 'grope': 6279, 'soaked': 6462, 'unlike': 1546, 'following': 1409, 'size': 1255, 'focused': 1410, 'germs': 4761, 'selection': 4762, 'nation': 4763, 'wondered': 4764, 'sobriety': 539, 'leno': 4765, 'agency': 6394, 'nos': 1411, 'teddy': 1333, 'cushions': 1412, 'recruiter': 1413, 'whatcha': 4766, 'troubles': 4698, 'links': 1415, 'gimme': 1416, 'polishing': 4699, 'surprised': 1417, 'snake_jailbird:': 1418, 'bust': 4767, 'aside': 4768, 'imaginary': 4770, 'huh': 4771, 'rounds': 1419, 'beauty': 4773, 'hidden': 1420, 'sips': 4774, 'advance': 1421, 'judge': 4009, 'began': 4775, 'wobble': 6468, 'quimby': 4776, 'accept': 6755, \"man's_voice:\": 1423, 'nerve': 4777, 'feisty': 4779, 'write': 4175, 'make': 4780, 'attend': 4781, 'rip-off': 4782, 'man_at_bar:': 4784, \"something's\": 1426, 'forgot': 1425, 'courts': 1427, 'aisle': 4785, 'urge': 1428, 'your': 4786, 'fledgling': 1430, 'total': 1431, 'fictional': 1432, 'husband': 1433, 'starve': 1434, 'sea': 4787, 'tracks': 1436, 'slaves': 4788, 'care': 4789, 'tv_father:': 1438, 'sitcom': 4790, 'extremely': 4791, 'curse': 3549, 'sledge-hammer': 5278, 'unintelligent': 4792, 'cruel': 1442, 'mm': 1444, 'trashed': 1445, 'bounced': 1446, 'huddle': 6333, \"that's\": 1447, 'lis': 1448, 'worldly': 1449, 'universe': 1360, 'worldview': 1450, 'women': 1451, 'de-scramble': 4793, 'appearance-altering': 1452, 'hollye': 3610, 'professor_jonathan_frink:': 1454, 'moolah-stealing': 3612, 'badmouth': 1455, 'potatoes': 4794, 'need': 4795, 'violin': 4796, \"doin'\": 4797, 'mafia': 4798, 'fireworks': 1457, 'larry:': 4799, 'smugglers': 1459, 'burt': 1460, 'gone': 4800, 'padre': 5155, 'settlement': 4801, 'egg': 4802, 'thoughtful': 478, 'wearing': 4804, 'swings': 4805, 'strawberry': 1462, 'underwear': 1463, 'curds': 1464, 'grand': 4806, 'straining': 1465, \"homer's\": 4807, 'tanked-up': 4808, 'hampstead-on-cecil-cecil': 4810, 'clown': 3436, 'disturbance': 3614, 'internet': 4811, 'judges': 5874, 'forward': 4812, 'backbone': 4813, 'diminish': 5875, 'kinderhook': 4814, 'is:': 1970, 'moon': 1469, \"games'd\": 6476, 'wow': 1470, 'rent': 1471, 'goodbye': 4815, 'dumptruck': 3069, 'eu': 1473, 'created': 1274, 'champignons': 1474, \"she'll\": 4783, 'chocolate': 4817, \"rustlin'\": 4818, 'journey': 4819, 'belt': 1475, 'lone': 4820, 'fork': 1476, 'tom': 5903, 'thunder': 1477, 'winnings': 1478, 'extended': 4821, 'stole': 4173, 'wine': 4822, 'tester': 4823, 'housewife': 4824, 'goes': 4825, 'mistakes': 1480, 'maybe': 4826, 'photographer': 1481, 'treasure': 4828, 'listening': 5878, \"seein'\": 4829, 'strolled': 4830, 'well-wisher': 4309, 'unfortunately': 4831, 'hated': 1484, 'encore': 1972, 'dreams': 4835, 'alarm': 1486, 'bashir': 4836, 'wang': 1625, 'meyerhof': 1488, 'seamstress': 4837, 'thoughts': 4838, 'laney': 4839, '70': 2537, \"linin'\": 4840, 'truck': 4841, 'wait': 4842, 'spreads': 5882, \"hobo's\": 5285, 'ghouls': 2538, 'papa': 4843, \"plank's\": 1489, 'short_man:': 1490, 'tolerance': 4844, '||period||': 4845, 'knowingly': 4846, 'lindsay': 4847, 'bulked': 1491, 'them': 1492, 'notice': 1366, 'decency': 1493, 'fringe': 4848, 'watch': 1494, 'gifts': 3064, \"pope's\": 1496, 'body': 4850, 'house': 5358, 'hungry': 5568, 'mean': 4851, 'still': 4852, \"ball's\": 4853, 'miss_lois_pennycandy:': 1498, 'burns': 1499, 'unison': 4854, 'steel': 1176, 'shame': 4855, 'fast': 4856, 'apu': 4857, 'chained': 4858, 'break-up': 6484, 'item': 4859, 'insults': 1501, 'strongly': 1503, 'syrup': 4860, 'threatening': 4861, 'draw': 5110, 'cell-ee': 4862, \"tinklin'\": 1504, 'filth': 4863, 'talkers': 4864, 'jumps': 6486, \"we'll\": 4865, 'move': 1370, 'sideshow_bob:': 1505, 'bliss': 1101, 'attitude': 4866, 'swigmore': 1507, 'wedding': 1508, 'composite': 4867, 'pretentious_rat_lover:': 1509, 'faith': 1510, 'spanish': 1512, 'hangover': 1513, 'fumigated': 4868, 'sniper': 1514, 'friction': 5293, 'jigger': 1483, \"england's\": 3077, 'bart_simpson:': 4869, 'chosen': 4870, 'snotty': 6246, 'smuggled': 4873, 'ya': 1515, 'groveling': 4874, 'raggie': 4877, \"goin'\": 4878, 'title:': 4724, \"playin'\": 1517, 'bar:': 1518, \"we'd\": 2544, 'over-pronouncing': 1519, 'boy': 3622, 'cream': 383, 'smokes': 803, 'not': 4879, 'good': 6674, 'guttural': 1520, 'babies': 5972, 'smell': 1521, 'unhappy': 995, 'old-time': 1374, 'slice': 4881, 'amends': 4882, 'xx': 6490, 'oooh': 4883, 'please': 4727, 'vigilante': 1524, 'all-american': 4884, 'wood': 1525, \"renovatin'\": 4885, 'toward': 1526, 'chastity': 1527, 'kitchen': 1528, 'bridges': 6331, 'football': 1529, 'maude': 4886, 'ointment': 4887, 'grammy': 5295, 'batmobile': 5387, \"fightin'\": 4888, 'road': 1983, 'milhouse': 1533, 'forget-me-shot': 5892, 'michael': 1424, 'dreamed': 6042, 'contract': 1534, 'collette:': 4889, 'yellow': 4890, \"g'on\": 4891, 'cheated': 4892, 'can': 1535, 'ominous': 1536, 'mike': 1537, 'eats': 1539, 'alternative': 1540, 'boisterous': 4893, 'plain': 1541, 'by': 5794, 'uniforms': 2476, \"i'm\": 4894, 'mayor': 1542, 'face': 1543, 'somebody': 4731, 'wayne': 1544, 'fox_mulder:': 4896, \"costume's\": 4897, 'pronto': 1545, 'pall': 1547, 'scent': 1548, 'guzzles': 4899, 'mister': 4900, \"carl's\": 6123, 'tip': 1549, 'family': 1550, 'heck': 1551, 'milhouses': 4901, 'meal': 5774, 'commission': 4902, 'gator:': 4903, 'dealie': 1554, 'enforced': 4904, 'enhance': 1555, \"liftin'\": 3454, 'louisiana': 4907, 'soul': 4906, 'simpsons': 4027, 'reader': 4908, 'trick': 1557, 'presumir': 1558, 'beaumarchais': 4909, 'jernt': 1559, \"they're\": 4910, 'fox': 4912, 'careful': 3088, 'match': 4913, 'fishing': 1562, 'pathetic': 4914, 'twelve': 4915, 'dipping': 1563, 'international': 6497, 'steaming': 1564, 'fondest': 1565, 'president': 1566, \"lookin'\": 1567, 'nor': 4916, 'patterns': 4917, 'novel': 1569, 'fellas': 4918, 'launch': 4919, 'pepsi': 4920, 'woe:': 1571, '||exclamation_mark||': 1572, 'gentle': 4921, 'tobacky': 5298, 'thousand-year': 1573, 'side': 4924, 'measure': 5300, 'cobra': 4925, 'firmly': 1576, 'gregor': 6367, 'bring': 1578, 'sagely': 4928, 'rev': 4929, 'chip': 4931, 'employment': 1382, 'belly-aching': 1581, 'flatly': 4932, 'problems': 1582, 'carefully': 4933, 'simp-sonnnn': 4188, 'sudoku': 1584, 'gunter': 1585, 'exhale': 4935, 'afloat': 4936, 'devastated': 1586, 'hugh:': 4937, 'jackass': 1590, 'ball-sized': 1383, 'einstein': 4938, \"listenin'\": 4939, 'cracked': 1591, 'courthouse': 1593, 'drag': 4940, 'rods': 1594, 'w-a-3-q-i-zed': 1989, 'cranberry': 4941, 'train': 4942, 'true': 1596, 'rush': 1598, 'chilly': 4943, 'rockers': 1599, 'moving': 4944, 'stares': 4945, 'cheers': 4946, 'harrowing': 1602, 'malfeasance': 1603, 'eighteen': 4947, 'fragile': 1604, 'exactly': 4948, 'underbridge': 5452, \"others'\": 4949, 'charge': 4950, 'ew': 4951, 'if': 4952, 'amnesia': 1607, 'pen': 1608, 'liable': 6119, \"haven't\": 813, 'fun': 4953, 'thirty-five': 1610, 'pleading': 4954, 'outta': 1611, 'pontiff': 1612, 'assert': 4955, 'guy': 1613, 'suburban': 1461, 'cigars': 4742, 'mouths': 5049, 'deliberate': 1993, 'burnside': 4192, 'manage': 4743, 'luckiest': 4956, 'presentable': 4957, 'grab': 4958, 'trainers': 1616, 'dejected': 4959, 'arse': 5306, 'whoever': 1617, 'warned': 1618, 'geez': 1619, 'brandy': 1620, 'hike': 4960, 'brine': 4961, 'ziff': 4230, 'warily': 6504, 'much': 4962, 'repeated': 4963, 'enemy': 1624, 'action': 4964, 'sport': 4965, 'andy': 4966, \"'ere\": 4967, 'ingredient': 4968, 'ditched': 5609, 'supports': 1627, 'other': 4969, 'legs': 1628, 'kirk': 4970, 'ordered': 261, 'eyeball': 4971, 'barely': 1996, 'side:': 3625, 'cerebral': 1630, 'para': 5906, 'reentering': 4972, 'inspector': 4973, 'phrase': 4974, 'crank': 1631, 'weapon': 1632, \"'topes\": 1633, 'rag': 1635, 'refinanced': 1636, 'vermont': 4975, 'issuing': 1637, 'mop': 1639, 'duke': 3634, 'games': 4976, 'debonair': 1640, 'patty': 4977, 'straight': 1641, 'country': 1642, 'neck': 1643, 'detective': 4978, 'busted': 4979, 'waylon_smithers:': 1645, 'keeps': 4981, 'exultant': 5309, 'wham': 1646, 'femininity': 4982, 'manipulation': 1647, \"wouldn't\": 4361, 'larson': 1648, 'sneak': 1649, 'legal': 6711, 'story': 4983, 'optimistic': 4987, \"thing's\": 4986, 'miles': 6508, 'schedule': 1651, \"life's\": 1652, 'material': 4988, 'investigating': 4989, 'browns': 1653, 'men:': 1654, 'comedy': 1655, 'purveyor': 1656, 'coal': 4990, 'take-back': 3779, 'upon': 1659, 'pictured': 4991, 'imported-sounding': 1660, 'barney-type': 1661, 'giving': 4748, 'rules': 1999, 'dad': 1662, '7g': 1663, 'local': 1664, 'save': 4992, 'latour': 4993, 'applesauce': 1665, 'fail': 3639, 'f-l-a-n-r-d-s': 4994, 'incarcerated': 1667, 'frogs': 535, 'bridge': 1668, 'morose': 1669, 'closer': 1670, 'flashing': 4752, 'benefits': 1672, \"o'reilly\": 4995, 'gossipy': 823, 'rom': 4996, 'dear': 3102, \"they've\": 1674, 'admiration': 4997, 'legoland': 4998, 'brain': 4999, 'trenchant': 5000, 'creeps': 5001, 'bump': 268, 'food': 5002, 'camera': 5003, 'continuing': 1675, 'few': 5311, 'tire': 1676, 'ah': 5004, 'sober': 5190, 'unable': 1677, 'irs': 5005, 'human': 1679, 'male_inspector:': 5912, 'quadruple-sec': 1680, 'sneeze': 1398, 'peaked': 1682, 'needs': 1683, 'spinning': 1684, 'musta': 5033, 'sadly': 1686, 'cappuccino': 1687, 'unfamiliar': 1688, 'sanitation': 5006, 'queen': 5007, 'use': 1690, 'dressed': 4930, 'chips': 5008, 'sent': 1691, 'newest': 5009, 'glass': 5010, 'sweetie': 1692, 'factor': 1693, 'philosophical': 1694, 'texan': 1695, \"what're\": 5458, 'expired': 3669, 'temples': 1696, 'studied': 1697, 'they': 5649, 'seeing': 5011, 'amber_dempsey:': 5012, 'tummies': 5015, 'generally': 5315, 'willy': 4502, 'rainforest': 3645, 'wife-swapping': 1701, 'apulina': 6512, 'pulled': 5018, 'replace': 5019, 'pennies': 5020, 'ha': 5021, 'jane': 5022, 'arabs': 5917, 'gotta': 1704, 'pad': 5023, \"stealin'\": 5024, 'waking-up': 1706, 'shower': 5025, 'two-thirds-empty': 5026, 'unexplained': 5059, \"drinkin'\": 1707, \"'til\": 1708, 'beer': 1709, 'lookalike': 2566, 'kinda': 5027, 'renovations': 1711, 'agent_miller:': 1712, 'nbc': 5028, 'sight': 1714, 'cause': 1715, 'gunk': 1718, 'hearse': 1719, 'saturday': 486, 'compliments': 5029, \"mtv's\": 5030, 'engraved': 6515, 'reliable': 1720, 'forgive': 5031, 'days': 1721, 'tin': 1722, 'bulldozing': 5032, 'illustrates': 5034, 'burger': 1723, 'charged': 1724, 'womb': 832, 'multi-national': 5035, 'expense': 6518, 'limericks': 1726, 'inches': 5036, 'voters': 1727, 'position': 5038, 'sealed': 1728, 'ashamed': 5039, 'dies': 1729, 'appendectomy': 1730, 'blokes': 1732, \"rasputin's\": 1405, 'drinking': 1733, 'murmur': 5040, 'geysir': 1734, 'pee': 2009, 'sedaris': 1319, 'burt_reynolds:': 5041, 'stores': 5042, 'golf': 1735, 'jeez': 5043, 'understanding': 1736, 'lib': 1737, 'model': 5044, 'repeating': 5045, 'sold': 1738, 'wakede': 1739, 'pages': 5325, 'wildfever': 3653, 'ripping': 1741, 'lugs': 5046, 'single': 5047, 'application': 1742, 'law-abiding': 1743, 'ne': 1744, 'noose': 1745, 'looks': 1746, 'gamble': 1747, 'happier': 1748, 'given': 1749, 'hubub': 5051, 'swan': 1750, 'cute': 5052, 'officials': 5053, 'raises': 2570, 'compliment': 5054, 'casual': 5111, 'crystal': 1751, 'ways': 5056, 'heroism': 5057, \"nixon's\": 5058, 'pressure': 1752, 'strips': 1753, 'circus': 1754, 'bindle': 5061, 'kindly': 1755, 'pope': 5062, 'bathtub': 5063, 'ugly': 1756, 'meals': 5064, 'mocking': 5065, 'loss': 5066, 'blessing': 1757, 'million': 5067, 'hank_williams_jr': 1758, 'rock': 5068, 'muertos': 5069, 'parasol': 5070, 'carey': 1759, \"son's\": 5072, 'soap': 5834, 'jerry': 1760, 'pusillanimous': 1761, 'woozy': 5073, 'evergreen': 5933, 'squishee': 5074, 'shortcomings': 1762, 'presto:': 5075, 'r': 283, 'turned': 5076, 'toys': 5077, 'adjust': 1763, 'dessert': 1764, 'yammering': 1765, 'suck': 1766, 'stars': 1768, 'possibly': 5079, 'unlocked': 5080, 'ass': 1769, 'bono': 5082, 'dizzy': 1770, 'forgotten': 1771, 'terror': 5084, 'breath': 3009, 'switched': 1772, 'feedbag': 1773, 'raging': 5085, 'learned': 1774, 'bumped': 1775, 'sweater': 5087, 'theory': 1776, 'fanciest': 5088, 'crap': 1777, 'well': 5089, 'visas': 1778, 'eight': 5090, 'unrelated': 6319, 'moesy': 5091, 'hurting': 1779, 'ingrates': 5092, 'huhza': 5093, 'beatings': 5094, 'nothing': 1780, 'name': 5095, 'fl': 5096, \"let's\": 1781, 'monroe': 1782, '||quotation_mark||': 1783, \"tv'll\": 4219, 'hate-hugs': 1784, 'understand': 5335, 'ultimate': 1785, 'teams': 5097, 'affection': 5098, 'ineffective': 1787, 'timbuk-tee': 5100, 'aidens': 6527, 'whenever': 5102, 'marge_simpson:': 1788, 'walked': 1790, 'sick': 5103, 'mayan': 5104, 'boring': 5105, 'aiden': 5106, 'form': 5107, \"mcstagger's\": 1791, 'doug:': 1792, 'errrrrrr': 5108, '100': 1793, 'simplest': 1794, 'meaningfully': 1796, 'hoped': 5112, 'rickles': 5113, 'deadly': 5114, 'babe': 1797, 'cheryl': 1798, 'mission': 5117, \"yieldin'\": 1799, 'intimacy': 1801, 'socialize': 5118, 'ivanna': 5119, 'crisis': 1802, 'signal': 5120, 'distance': 5121, 'gig': 5122, 'jets': 5124, 'away': 1803, 'magic': 1804, 'champs': 1805, 'heartless': 5125, 'handler': 5126, 'kansas': 2024, 'ambrosia': 1807, 'relative': 1808, 'tastes': 1809, 'assassination': 5129, 'when': 5130, 'anti-lock': 1811, 'show-off': 1812, 'surprised/thrilled': 5131, \"today's\": 5132, 'pugilist': 1813, 'resolution': 1815, 'schorr': 4769, 'government': 5133, 'excuse': 5134, 'cobbling': 846, 'unkempt': 1816, 'sketching': 5136, 'cash': 1817, 'massage': 5138, '1979': 5140, 'shocked': 5141, 'drink': 5941, 'procedure': 5142, 'camp': 1818, 'ventriloquism': 5143, 'hands': 1819, 'hand': 5144, 'wonderful': 1820, 'big': 3361, 'also': 4772, 'european': 1822, 'butt': 5145, 'host': 847, \"could've\": 5148, 'foodie': 6531, 'mccall': 5149, 'cleaner': 5344, 'professor': 5150, 'easy': 1823, 'jubilation': 1824, 'bartenders': 5151, 'partner': 1825, 'kearney_zzyzwicz:': 5153, 'trouble': 5154, 'platinum': 1826, 'sternly': 5158, 'dank': 5157, 'service': 5161, 'prayers': 5162, 'heart': 5163, 'mobile': 1827, 'nahasapeemapetilon': 1828, 'warn': 1829, 'opportunity': 1830, 'stolen': 5929, 'sometimes': 1831, 'invented': 5164, 'wolfe': 1833, 'therefore': 5165, 'dash': 5166, 'aboard': 1834, 'morlocks': 1835, 'mumble': 5170, 'drawing': 423, 'tear': 5171, 'purse': 5172, 'bathed': 5173, 'amazing': 5174, 'naval': 5175, 'insurance': 1836, 'irrelevant': 6533, 'hilton': 5176, 'power': 1837, 'office': 5177, 'ask': 1838, 'twenty-six': 5179, 'informant': 1839, 'gangrene': 1372, '21': 1841, 'whatsit': 1842, 'pulling': 5180, 'combination': 5182, 'super-nice': 1843, 'poem': 5183, 'product': 5184, \"car's\": 1844, 'themselves': 5186, 'exact': 1845, 'invited': 5187, 'amount': 295, 'crummy': 1847, 'enough': 1848, 'awe': 1849, 'glee': 1850, 'cents': 1851, 'their': 1852, 'insulin': 1853, 'passed': 1854, 'teenage_homer:': 5191, 'ehhhhhhhh': 297, \"sittin'\": 1856, 'country-fried': 1857, 'wizard': 1858, 'bum:': 5193, 'villanova': 1422, 'hooters': 5194, 'hugh': 1859, 'sizes': 1860, 'enthusiasm': 1862, 'comes': 298, 'meaningless': 1863, 'moment': 1864, 'watt': 5197, 'aah': 1865, 'bedbugs': 5199, 'neither': 1866, 'telegraph': 5200, 'sink': 5201, 'stalking': 5202, 'therapist': 4778, 'cannot': 5203, 'popping': 1868, 'knuckle-dragging': 1869, 'slap': 5204, 'every': 1870, 'works': 5205, 'treehouse': 3672, 'got': 2588, 'text': 1871, 'skinner': 1872, 'shorter': 1873, 'clothespins:': 1874, 'elocution': 5207, 'drank': 1875, 'shreda': 1876, 'mary': 1877, 'bob': 1878, \"can'tcha\": 5952, 'easygoing': 1880, 'lush': 2036, 'bought': 4875, 'ripped': 1881, 'harmony': 5210, 'neil_gaiman:': 5211, 'of': 5212, 'large': 1882, 'drives': 1883, 'duh': 1884, 'uh-huh': 1885, 'feet': 1886, 'trolls': 1887, 'blurbs': 1888, 'paying': 1889, 'frontrunner': 858, 'dictating': 1890, 'remains': 1891, 'wire': 5217, 'realized': 1892, 'authenticity': 1894, 'will': 1895, 'mcstagger': 5219, 'hail': 1897, 'comforting': 1898, 'snort': 1899, 'kidnaps': 5353, 'crazy': 861, \"y'money's\": 5220, 'gruesome': 1900, 'evils': 862, 'november': 5221, 'dramatically': 5222, 'braun:': 1901, 'pigtown': 5224, 'concentrate': 1902, 'bastard': 5225, 'skins': 5226, \"kids'\": 1904, 'payday': 5228, 'place': 5357, 'field': 866, 'lighting': 1905, \"beggin'\": 5230, \"mopin'\": 1907, 'year': 5231, 'justify': 1908, 'scruffy_blogger:': 1429, 'ground': 1909, 'enlightened': 5232, 'index': 1910, 'bold': 1911, 'tried': 1912, \"barney's\": 5233, 'laws': 5234, 'parents': 1913, 'portentous': 5235, 'self': 1914, 'pulitzer': 1915, 'infiltrate': 1916, 'invite': 1917, 'ocean': 1918, 'totalitarians': 1919, 'silent': 5236, 'killed': 5237, 'sotto': 1922, 'mock': 5238, 'books': 5239, 'memories': 1923, 'disco': 2597, 'awfully': 5240, 'phone': 5681, \"swishifyin'\": 1924, 'puke-pail': 5241, 'lights': 1925, 'disapproving': 5242, 'plastic': 5243, 'society': 5244, 'spit': 5245, \"can't-believe-how-bald-he-is\": 1926, 'drift': 1927, 'joining': 5246, 'burps': 5247, \"industry's\": 1928, 'sodas': 5248, 'drop-off': 6214, \"brockman's\": 2044, 'someday': 5251, 'mansions': 2617, 'pint': 308, 'cigarette': 5252, 'b': 1929, 'found': 5253, 'realizing': 1930, 'housing': 5254, 'boozy': 1931, 'threw': 5255, 'traffic': 1933, 'announcer:': 1934, 'tv': 1935, 'half-beer': 6635, 'mistake': 1936, 'how': 1435, 'whisper': 1938, 'sweetly': 1939, 'super-tough': 1940, \"homer'll\": 5960, 'tsk': 1437, 'barney': 1941, 'taxi': 1942, 'christian': 1943, 'yak': 5257, 'len-ny': 1944, 'statistician': 1945, 'shoots': 5258, \"s'cuse\": 5259, 'closing': 5260, 'rubbed': 1946, 'clear': 1947, 'depository': 1439, 'judge_snyder:': 5262, 'streetlights': 2048, 'narrator:': 1949, 'headhunters': 1950, 'basement': 1951, 'bannister': 6541, 'puke': 872, 'examples': 1952, \"drivin'\": 6393, 'humiliation': 1955, \"aren't\": 1954, 'sarcastic': 5267, 'sleep': 5471, 'ding-a-ding-ding-a-ding-ding': 1956, 'hillbillies': 5964, 'pageant': 6542, 'indifferent': 1957, 'wh': 1959, 'series': 1960, 'misconstrue': 1441, 'inherent': 5271, 'early': 5272, 'attraction': 1961, 'appeals': 1962, 'dumb': 1963, 'sponsor': 5273, 'squeezed': 1964, 'question': 5274, 'stage': 5981, 'supermarket': 5275, 'swine': 5276, 'maintenance': 5277, 'swatch': 1443, 'snake': 1965, 'microphone': 3407, 'give': 1966, 'clean': 5279, 'ã': 1967, 'hammer': 1968, 'l': 1969, 'yep': 873, 'bail': 5280, 'democrats': 6543, 'into': 5281, 'taunting': 1971, 'pal': 6232, 'barney-guarding': 5282, 'sunglasses': 1973, 'breaks': 5284, 'common': 1974, 'ton': 1975, 'festival': 5286, 'eliminate': 5287, 'barn': 5288, 'courteous': 2055, 'mushy': 5289, 'vacation': 5290, 'declan': 6545, 'smile': 5291, 'sideshow': 1976, 'sinkhole': 1977, 'clipped': 1978, 'cares': 5371, 'contented': 5965, \"buffalo's\": 1979, 'leftover': 5294, 'fuss': 1981, 'excited': 1982, 'life-threatening': 876, 'attractive_woman_#2:': 5296, 'stripe': 1984, 'orgasmville': 1985, 'king': 5297, 'kemi:': 3687, 'mole': 5968, 'stories': 1986, 'watered-down': 1987, 'in': 5299, \"i-i'm\": 3688, 'dollar': 1988, 'storms': 1990, 'gee': 5301, 'brief': 5302, 'parked': 5303, 'coward': 1991, 'slays': 1992, 'courage': 5304, 'mona_simpson:': 5305, 'bragging': 1994, \"heat's\": 5307, 'sooner': 6547, 'open': 878, 'tenor:': 1995, 'another': 5308, 'perã³n': 1997, 'sexy': 4256, '4x4': 5310, 'computer': 1998, 'sixteen': 2000, 'pantsless': 2001, 'reynolds': 2002, 'bank': 5312, 'th-th-th-the': 5313, 'ails': 5314, 'fluoroscope': 1453, 'picky': 2003, 'bags': 2004, 'dan': 2005, 'sheepish': 2006, 'friend': 5316, 'menacing': 2007, 'happens': 5317, 'determined': 5318, 'zero': 4259, 'leathery': 5319, 'borrow': 5320, 'watched': 5321, 'might': 2008, 'punk': 5322, 'wants': 4261, 'beloved': 5323, 'chair': 2010, 'telling': 4262, 'inspired': 5324, 'state': 5326, 'computer_voice_2:': 2011, 'aerosmith': 2012, 'stood': 5328, 'customers': 2013, 'appointment': 2014, 'pin': 2015, 'dory': 5997, 'poor': 2016, 'fatty': 2017, 'saga': 5329, 'ballot': 5330, 'island': 5331, \"tramp's\": 5332, 'sixty-five': 5333, 'none': 5334, \"'cause\": 2018, 'quarterback': 5336, 'misfire': 5337, 'understood': 2019, 'up': 5978, 'change': 5338, 'lingus': 2020, 'smiles': 2021, 'peace': 5341, 'frosty': 2022, 'nicer': 2023, 'cap': 2026, 'whirlybird': 2025, 'only': 883, 'mystery': 707, 'blinded': 2027, 'bender:': 2028, 'memory': 4265, 'microwave': 5345, 'type': 884, \"lovers'\": 1456, 'wave': 2029, 'ned': 2030, 'puzzled': 5346, 'butterball': 5347, 'assent': 5348, 'gear-head': 5349, 'protesting': 2031, 'real': 312, 'voyager': 2032, 'gonna': 2614, 'corkscrews': 1810, 'occupancy': 2033, 'fayed': 2034, 'hyahh': 2035, 'gus': 5350, 'booking': 2037, \"daughter's\": 5351, 'frink': 1458, 'hans:': 2038, 'nitwit': 5352, 'ding-a-ding-ding-ding-ding-ding-ding': 5354, 'naturally': 2039, 'youth': 5355, 'snow': 5356, 'eaters': 2040, 'rotten': 2041, 'girl': 5359, 'laramie': 5360, 'finally': 5361, \"wearin'\": 2042, 'doreen:': 5362, 'son-of-a': 2043, 'hellhole': 5363, 'lifestyle': 2073, \"secret's\": 5364, 'fifteen': 2045, 'ad': 6553, 'disaster': 2071, 'thing': 2046, 'mull': 5367, 'small': 5368, 'sky': 2047, 'shill': 2049, 'chow': 2050, 'natural': 2051, 'somehow': 5369, 'moon-bounce': 5370, 'under': 2074, 'hunting': 2052, 'blown': 2053, 'scare': 2054, 'divine': 2056, 'poetics': 2057, 'happen': 2058, 'cattle': 2059, 'sidekick': 2060, 'ten': 2061, 'designer': 5372, 'broad': 890, 'solved': 5373, 'pool': 5374, 'normal': 2062, 'guff': 317, 'pumping': 2063, 'dispenser': 2064, 'david_byrne:': 5375, 'craphole': 2065, 'premise': 2066, 'show': 5377, 'ripper': 2067, 'polish': 5378, 'idioms': 2068, 'grammys': 320, 'snackie': 6020, 'paid': 5379, 'attached': 5381, 'carolina': 2069, 'applicant': 2070, 'jerky': 2072, 'hammy': 5382, 'lose': 5383, 'loaded': 4221, 'provide': 2075, 'forty': 5384, 'towed': 5385, 'eightball': 2077, 'knowing': 2078, 'ron': 5386, 'crowd': 2079, 'rocks': 6558, 'exquisite': 2080, 'strokkur': 5388, 'wednesday': 5389, \"city's\": 2081, 'twenty-nine': 5391, 'blissful': 2082, 'updated': 2083, 'father': 2084, 'chili': 5393, 'shoulders': 2085, 'hibbert': 2086, 'reflected': 2087, 'resist': 5395, 'trunk': 6561, 'lloyd:': 5808, 'kako:': 5396, 'suppose': 5397, 'semi-imported': 4809, 'ho': 2088, 'corpses': 5398, 'flanders': 2089, 'speak': 2090, 'walther_hotenhoffer:': 2091, 'candy': 2092, 'want': 2093, 'cleveland': 2094, 'ab': 6474, 'relieved': 2095, 'game': 5402, 'post-suicide': 5403, '8': 2076, 'keys': 2098, 'travel': 4277, 'har': 5405, 'quite': 1468, 'beached': 5603, 'vacuum': 1391, 'indignant': 2100, 'here-here-here': 5407, 'awkwardly': 2101, 'donation': 5408, 'unjustly': 2103, 'ratio': 2104, 'unsanitary': 6703, 'killing': 5409, \"i'unno\": 5410, 'smelling': 5986, 'front': 5411, 'sec': 3707, 'twenty': 2105, 'bothered': 5412, 'steak': 2107, 'sympathetic': 2108, 'i/you': 2109, 'and/or': 2110, 'funny': 2111, 'bidet': 5413, 'course': 2112, 'mugs': 5415, 'maher': 5416, 'march': 5419, 'mis-statement': 5420, 'dating': 5421, 'las': 4010, 'leave': 2114, 'grind': 2115, 'riveting': 5424, 'repressed': 2116, \"i'd'a\": 5987, 'ferry': 2117, 'stagey': 2628, 'massive': 2118, 'elizabeth': 2119, 'fruit': 5390, 'it:': 5425, 'ready': 2120, 'gives': 2121, 'buyer': 2122, \"fans'll\": 5426, 'hemoglobin': 2123, 'calmly': 2124, 'stinger': 5427, 'log': 5428, 'election': 3711, 'comeback': 2126, 'compels': 5429, 'eve': 4551, 'tempting': 5430, 'harv': 2127, 'runners': 2129, 'detail': 2130, 'age': 2131, 'fold': 2133, \"must've\": 2134, 'exchanged': 2135, 'roz': 2136, 'colossal': 5431, \"how're\": 5432, 'dee-fense': 5433, 'swishkabobs': 2137, 'homunculus': 6570, 'prettied': 5392, 'fritz': 2138, \"challengin'\": 2141, 'so': 5435, 'hourly': 153, 'bottles': 2142, 'homie': 2143, 'noticing': 2144, 'smiled': 2146, 'lizard': 5394, 'anarchy': 2147, 'extinguishers': 5438, 'gotcha': 1472, 'asleep': 2148, \"boy's\": 5439, 'think': 2149, \"who'll\": 5441, 'whoopi': 5443, 'competitive': 3713, 'eyed': 5292, 'dilemma': 2150, 'polygon': 5445, 'put': 5446, 'bottomless': 2151, 'handling': 2630, 'aww': 5448, 'everyone': 4816, 'grampa_simpson:': 5450, 'reporter:': 3716, 'fixed': 5451, 'gums': 2152, 'are': 1119, 'detecting': 5453, 'tease': 2153, 'aged': 2154, 'squirrels': 2155, 'blaze': 5454, 'eyesore': 2156, 'worth': 5455, \"stinkin'\": 2157, 'ale': 3717, 'wrote': 5456, 'encores': 2158, 'ze-ro': 2159, 'beef': 5459, 'fainted': 5460, 'joy': 2160, 'settled': 2161, 'maxed': 5462, 'swill': 5463, 'freaky': 2162, 'umm': 2163, 'pats': 5464, 'refill': 5465, \"she's\": 5400, 'photos': 5466, 'heavyset': 2165, 'pronounce': 1467, 'tyson/secretariat': 2167, 'p': 2168, 'first': 5469, 'lot': 2169, 'seven': 2170, 'buddha': 2171, 'this:': 5472, 'needed': 2172, 'sanitary': 5473, 'miracle': 2173, 'recent': 5474, 'tactful': 5475, 'rhyme': 5476, 'deli': 5477, 'german': 2174, 'moe_szyslak:': 5478, \"when's\": 2175, 'habit': 2176, 'kucinich': 2177, \"battin'\": 2178, 'clammy': 5401, '2': 2179, 'abandon': 5481, 'chicks': 5482, 'insist': 5483, 'hardhat': 5484, 'multiple': 337, 'blew': 5485, 'brother-in-law': 5486, 'al_gore:': 5487, 'flames': 2181, 'held': 2182, 'bide': 2183, 'coins': 5489, \"knockin'\": 2184, 'traitor': 2185, 'disposal': 2186, 'salt': 2096, 'greetings': 2188, 'furiously': 2189, 'tears': 6576, 'fools': 3720, 'fistiana': 5491, 'check': 5493, 'stacey': 2190, 'screams': 1699, 'rolling': 2191, 'fortune': 5406, 'grienke': 2192, 'terrified': 2193, 'near': 6298, 'speed': 909, 'sidelines': 5495, 'creates': 2194, 'itchy': 2196, 'othello': 1390, 'blue': 5497, 'je': 6578, 'beneath': 2197, 'heard': 2198, 'bugging': 2199, 'james': 6704, 'straighten': 2200, 'canyonero': 2201, 'offer': 2202, \"o'problem\": 4827, 'micronesian': 2203, 'awful': 5499, 'hippies': 2204, 'pep': 2205, 'anxious': 2206, 'exhibit': 2207, 'choices': 5502, 'yourself': 5503, 'whatchamacallit': 2208, 'homer_': 2209, 'wiggle-frowns': 5508, 'finger': 5507, 'jewelry': 2210, 'sickened': 5998, 'dracula': 5510, 'thousands': 2211, 'practically': 2212, 'or': 2213, 'completely': 2214, \"'round\": 4289, 'listens': 4832, 'lap': 5380, 'nearly': 2215, 'characteristic': 1485, 'way:': 5514, 'awake': 2216, 'face-macer': 2217, 'andrew': 5515, 'david': 2102, 'amid': 6230, 'biggest': 2218, 'showered': 6581, 'perhaps': 5516, 'names': 5517, 'life': 5519, 'rebuilt': 1814, 'ribbon': 2219, 'darkest': 5520, 'killarney': 4294, 'solo': 4833, 'madonna': 5521, 'pile': 915, 'stiffening': 4834, 'ugliest': 2220, 'door': 5522, 'stab': 4296, 'teenage_bart:': 2221, \"pullin'\": 5523, 'daddy': 5524, 'rubs': 5525, 'television': 2224, 'hundred': 2223, 'tommy': 5526, 'aggie': 1487, 'prohibit': 5527, 'dishonor': 2225, 'brunch': 2226, 'dead': 5530, 'kahlua': 5531, 'maximum': 5532, 'shareholder': 2228, \"he'd\": 3177, 'twenty-five': 5533, \"foolin'\": 2229, 'lise:': 5535, 'admirer': 6585, 'pinchpenny': 5536, 'nibble': 6004, 'buffalo': 2230, 'avenue': 2231, 'turkey': 5537, 'drapes': 2232, 'marquee': 2233, 'giggles': 5538, \"somethin':\": 2234, 'frescas': 3724, 'poking': 6586, 'vegas': 6362, 'damned': 2235, 'soup': 6587, 'starting': 5539, '_powers:': 2238, 'hearts': 2239, 'mind-numbing': 5540, 'hah': 2106, 'thoughtfully': 2240, 'lanes': 4301, 'animals': 1466, 'ride': 5541, 'my': 5543, 'grains': 2241, 'lousy': 5545, 'jukebox_record:': 5546, 'odor': 5547, \"other's\": 5549, \"i'd\": 2242, 'wealthy': 2243, 'jay_leno:': 5551, \"marge's\": 5552, 'puff': 5553, 'connection': 6120, 'koji': 2244, 'dateline:': 2245, 'run': 5557, 'delicately': 2247, 'groin': 5560, 'endorse': 5561, 'grandã©': 2248, 'ling': 5562, 'streetcorner': 2249, \"'\": 5564, 'dishrag': 2250, 'experiments': 6589, 'kidneys': 2251, 'mason': 197, 'bee': 2253, 'supermodel': 6591, 'yoink': 2254, 'guard': 5565, 'amazed': 5566, 'kidding': 2255, 'boned': 5414, 'sales': 4871, 'omit': 2256, 'britannia': 5570, 'hops': 2257, 'railroads': 2258, 'chuck': 6596, 'alfred': 2259, 'cocking': 2260, 'privacy': 5571, 'saying': 2262, 'pasta': 2113, 'lobster-based': 921, 'diaper': 2263, 'owes': 2264, \"sippin'\": 5573, 'rasputin': 5574, 'count': 6597, 'nah': 2265, 'confident': 5575, 'tying': 5576, 'sec_agent_#1:': 5577, 'blind': 2266, 'grandiose': 5490, 'choked-up': 2267, 'macgregor': 5578, 'kennedy': 2268, 'tons': 5580, 'trivia': 3734, 'ow': 2269, 'reed': 3735, 'jubilant': 5583, 'bachelorette': 2270, 'glitterati': 2271, 'beard': 5584, 'manjula': 2272, 'spread': 2273, 'book_club_member:': 2274, 'planet': 5586, 'all:': 2275, 'best': 2276, 'awesome': 2277, 'tv_announcer:': 3736, 'years': 2279, 'station': 2280, 'shoes': 2281, '||question_mark||': 2282, 'darjeeling': 5589, 'uncomfortable': 5590, 'huggenkiss': 3823, 'connor-politan': 2285, 'op': 5591, 'get': 5592, 'undermine': 5593, 'edison': 5594, 'noise': 2286, 'saw': 6099, 'hat': 5595, 'symphonies': 5596, 'beating': 5597, \"queen's\": 2287, 'shack': 5598, 'cursed': 2288, 'statesmanlike': 2289, 'bourbon': 2290, 'apartment': 2291, 'too': 2292, 'clincher': 5422, \"feelin's\": 5600, 'gum': 6599, 'chic': 5423, 'occurrence': 2293, 'yourselves': 6017, 'which': 2294, 'widow': 2295, 'tale': 2297, 'stagehand:': 5604, 'cheap': 2298, 'wiping': 5605, 'junebug': 2299, 'pajamas': 2300, 'defeated': 2301, 'store': 2302, 'her': 5608, 'blooded': 2304, 'party': 5610, 'pilsner-pusher': 2305, 'dawning': 2306, 'skin': 5612, 'smithers': 2307, \"president's\": 1495, 'saved': 2308, 'porn': 5614, 'strategizing': 3671, 'lovelorn': 2309, 'flat': 2310, 'marched': 3195, 'jer': 6668, 'mulder': 2311, 'commit': 2312, 'mags': 2313, 'reactions': 4849, \"payin'\": 2314, 'sun': 5618, 'mamma': 6019, 'homeland': 6341, 'carlson': 5619, 'thought': 5621, 'bart': 2315, 'grim': 2316, 'rip': 2317, 'wa': 5622, 'lurleen': 2318, 'close': 2319, 'knit': 2320, 'cowardly': 503, 'continued': 5623, 'punches': 4312, 'lincoln': 933, 'foundation': 2321, 'cadillac': 5488, 'doll-baby': 932, 'muscles': 2322, 'sobs': 5625, \"askin'\": 6072, 'occasional': 4876, 'wrestle': 2323, 'ring': 2324, 'intakes': 2325, 'self-made': 2327, 'sunny': 5628, 'kazoo': 1497, 'find': 2329, 'oww': 2330, 'planning': 5629, 'holy': 2125, 'goblins': 5630, 'items': 5631, 'ads': 6603, 'drunk': 2331, 'ballclub': 2332, 'teenage_barney:': 5632, 'black': 2333, 'avec': 5633, 'ahh': 2335, 'ears': 5634, '6': 2337, 're:': 2338, 'music': 5635, 'yourse': 2339, 'valley': 5636, 'deserve': 2340, 'doom': 2128, 'heather': 5637, 'nope': 5638, 'pain': 5639, 'pizzicato': 2342, '35': 5640, 'brockelstein': 5641, 'undated': 5642, 'hooch': 5643, 'wore': 2343, 'pocket': 2344, 'adventure': 960, 'see': 5666, 'terminated': 5646, 'uneasy': 2345, 'fan': 1500, 'hole': 5647, 'conditioner': 5648, 'ironed': 937, 'hard': 2346, 'iddilies': 2347, 'words': 2348, 'folk': 2350, 'con': 5650, 'collapse': 5651, 'savvy': 5652, 'rivalry': 1595, 'inflated': 5653, 'entire': 5654, 'relationship': 2352, 'valuable': 5655, 'town': 940, 'lecture': 362, 'thnord': 2354, 'clock': 1502, 'barf': 2355, 'squashing': 2132, 'pleasure': 5657, '50%': 2356, 'wangs': 3747, 'plug': 5658, 'scout': 6609, 'scene': 2357, 'dime': 5659, 'four-star': 2359, 'mayor_joe_quimby:': 2360, \"friend's\": 5661, 'bright': 2361, 'forgets': 2362, 'slogan': 6779, 'clap': 5662, 'assume': 5890, \"bein'\": 2363, 'cloudy': 5663, 'impeach': 5664, 'trade': 2365, 'weird': 5665, 'ancestors': 2236, 'sniffles': 2366, 'blamed': 4320, 'yesterday': 5667, 'replaced': 3936, 'conditioning': 5668, 'poulet': 3749, 'produce': 2367, 'stretch': 2368, 'tee': 2369, 'chief': 5671, 'boys': 2370, 'anymore': 5673, 'skinheads': 5674, 'dollface': 5675, 'remembers': 2371, 'very': 2372, 'crinkly': 5676, 'oblivious': 2374, 'stengel': 2375, 'dude': 2376, 'son': 2377, 'michael_stipe:': 2378, 'eye': 2379, 'sauce': 5679, 'view': 3750, 'supreme': 2380, 'renee:': 2381, 'routine': 2382, 'come': 2383, 'gary:': 4326, \"nick's\": 6488, 'organ': 5683, 'expression': 5434, 'presidents': 2384, 'despite': 5685, 'died': 2385, 'bucks': 2139, 'haiti': 2386, 'pick': 2140, 'rash': 2388, 'successful': 5687, 'expert': 5688, 'stagy': 370, 'mckinley': 2389, 'bully': 2390, 'occasion': 2391, 'grandmother': 5693, 'booze': 5436, 'washouts': 2392, 'barkeep': 5695, \"coaster's\": 5696, 'unusually': 2393, 'hooked': 5698, 'operation': 2394, 'resigned': 5701, \"aristotle's\": 5703, 'injury': 5704, 'mustard': 1506, 'society_matron:': 2395, 'daniel': 5706, \"'n'\": 2680, 'assumed': 2145, 'ninety-seven': 2397, 'choice:': 5707, \"mo'\": 2398, 'stays': 5708, 'die-hard': 2399, 'learn': 2401, \"it'll\": 5709, 'unfair': 5710, 'plucked': 2402, 'carlotta:': 1387, 'turlet': 2404, 'sighs': 5437, 'louie:': 2405, 'anywhere': 2406, 'spirit': 953, 'scared': 5713, 'restaurant': 2407, 'loan': 5714, 'indecipherable': 5715, 'non-losers': 2408, \"soundin'\": 2409, 'boxer:': 6186, 'bleacher': 6035, 'sickly': 2410, '2nd_voice_on_transmitter:': 2412, 'snake-handler': 5101, 'remain': 2682, 'today/': 5716, 'whaddya': 5717, 'language': 956, 'stinks': 5718, 'spoon': 5719, 'cozies': 5720, 'groan': 1511, 'banks': 2414, \"ma'am\": 5721, 'tow': 4434, 'fortress': 2415, 'original': 6421, 'specialists': 5722, 'dang': 5723, 'holidays': 5724, 'brotherhood': 2416, 'alley': 2417, 'table': 2418, \"fryer's\": 2419, 'shesh': 5728, 'wisconsin': 2420, 'carmichael': 5442, \"wonderin'\": 958, 'runaway': 5729, 'pancakes': 5730, 'donut-shaped': 2421, 'inquiries': 2422, 'pushes': 2423, 'endorsed': 5733, 'cyrano': 5734, 'finding': 2424, 'gotten': 2426, 'knuckles': 2427, 'philip': 5735, 'filthy': 5736, \"i've\": 5737, 'shoulder': 2428, 'credit': 5739, 'support': 2429, 'lied': 5740, 'gumbel': 336, 'tipsy': 2430, 'ahhh': 5013, 'should': 2431, 'department': 6012, 'irishman': 5742, 'brassiest': 5743, \"man's\": 5744, 'giant': 5444, 'send': 6618, 'sour': 1658, 'appalled': 5745, 'steal': 2432, 'dump': 2433, 'paste': 2434, 'junkyard': 2435, 'america': 5746, 'prime': 2436, 'hoax': 5747, 'natured': 5748, 'mess': 1906, 'oblongata': 2437, 'mudflap': 2438, 'meeting': 2439, 'saving': 6686, 'value': 2440, 'toledo': 5751, 'right': 2441, 'worried': 4872, \"gentleman's\": 5753, 'aging': 2443, \"pressure's\": 2445, 'press': 5755, 'transylvania': 2446, 'abercrombie': 5756, 'um': 5757, 'honeys': 5758, 'planted': 5760, 'witty': 2447, 'vin': 5762, 'calm': 5447, \"kid's\": 2448, 'dealer': 5763, 'be': 2449, 'twerpy': 2450, 'synthesize': 2451, 'tank': 2452, 'perverse': 2453, 'ihop': 5765, 'sounds': 2454, 'six': 5767, 'noosey': 2455, \"s'okay\": 2456, 'icelandic': 6620, 'triangle': 5769, 'crowd:': 2457, 'crack': 382, 'panicked': 5770, 'six-barrel': 2458, 'seconds': 5771, 'spare': 2459, 'whatever': 2460, 'followed': 134, 'jeter': 2461, 'choices:': 5773, 'release': 2462, 'to': 1516, 'squeeze': 3764, 'tv_wife:': 5777, 'erasers': 850, 'dentist': 5778, 'grubby': 2463, 'than': 2464, 'losing': 2554, 'ball': 6622, 'slightly': 5449, 'stopped': 5779, 'became': 5780, 'figure': 6713, 'losers': 2465, 'scarf': 5781, 'bedroom': 2466, 'trapping': 2467, 'bush': 2468, 'chauffeur': 5782, 'ape-like': 5783, 'there': 2469, 'rats': 5784, 'impending': 2470, 'female_inspector:': 2471, 'buddies': 2472, 'vacations': 2473, 'i': 965, 'supplying': 2474, 'coaster': 2475, \"o'clock\": 5785, 'gay': 5786, 'woulda': 2477, 'unlucky': 5787, \"usin'\": 5789, 'elmer': 2478, 'nasty': 5790, 'attention': 5792, 'spending': 5793, 'accelerating': 6688, 'squeal': 2480, 'quiet': 2481, 'deep': 2482, 'stupidly': 2483, 'pointless': 5795, 'peter_buck:': 2485, 'windshield': 5796, 'were': 386, 'suspenders': 2486, 'cruiser': 387, \"singin'\": 5797, 'pipe': 2487, 'bolting': 1220, 'afterglow': 5798, 'flaming': 5799, 'sentimonies': 5800, 'hope': 5801, 'leak': 1629, 'tofu': 2488, 'speaking': 2489, 'considers': 5802, 'yards': 5803, 'boozer': 5804, 'thanking': 2490, 'sabermetrics': 2491, 'nagurski': 5807, 'smelly': 5809, 'venom': 2492, 'asks': 5810, 'associate': 5811, 'negative': 2493, 'fletcherism': 2494, 'incapable': 2495, '3': 5812, 'terrific': 5813, 'mexican': 5814, 'sunday': 6631, 'sitting': 5815, 'complete': 2496, 'dryer': 2497, 'youuu': 5817, 'light': 5818, 'richer': 4880, 'ladies': 2498, 'company': 5820, 'aghast': 2499, 'option': 5822, 'radishes': 5823, 'strains': 972, 'disgraceful': 2500, 'partially': 5826, 'dumb-asses': 5827, 'astronauts': 5828, 'nap': 2501, 'savagely': 2502, 'awed': 6709, 'slapped': 2504, 'mike_mills:': 3229, 'mad': 2505, 'jack': 5829, 'bonfire': 5830, 'feld': 5831, 'ashtray': 5832, 'norway': 5833, 'bret:': 1522, 'cans': 2506, 'samples': 392, 'director:': 2507, 'spacey': 2508, 'zinged': 5835, 'fell': 5836, 'dropped': 2509, 'whole': 5837, 'william': 5838, 'everybody': 5839, 'fears': 5840, 'whether': 6630, 'anthony_kiedis:': 5841, 'schabadoo': 2510, 'glove': 5842, 'mediterranean': 4347, 'queer': 5843, 'scores': 5844, 'panicky': 2511, 'slurps': 5846, 'sausage': 5847, 'minute': 2513, 'charming': 5848, 'ought': 5909, 'steely-eyed': 2514, 'fonda': 5850, 'e': 2515, \"what'sa\": 2516, 'clench': 2517, \"idea's\": 2518, 'ninth': 2519, 'time': 5851, 'jewish': 5854, 'lowest': 2520, 'lame': 2521, \"lefty's\": 5152, 'blank': 5857, 'sat-is-fac-tion': 2522, 'police': 5858, 'wreck': 5859, 'sorry': 2697, 'manager': 2523, 'dignity': 2524, 'buttocks': 5862, 'safety': 398, 'information': 5863, 'crayola': 5864, 'victim': 2525, 'voice:': 2526, 'horrified': 6062, 'workers': 5865, 'pair': 5866, 'earpiece': 6634, 'refiero': 2527, 'playhouse': 2528, 'sistine': 3236, 'de': 5867, 'author': 5868, 'wonder': 5869, 'script': 399, 'carb': 5870, 'forever': 2529, 'bookie': 5871, 'detective_homer_simpson:': 4031, 'inning': 6149, 'whaaaa': 2530, 'elves:': 2531, 'cheery': 2532, 'federal': 6053, 'infatuation': 2533, 'wikipedia': 5876, 'noooooooooo': 2534, 'exits': 2535, 'hooky': 6636, 'popular': 2536, 'monkeyshines': 5877, 'christopher': 5879, 'overturned': 404, 'often': 5880, 'agent': 5881, 'wounds': 2539, 'my-y-y-y-y-y': 402, 'cats': 2540, 'hemorrhage-amundo': 5992, 'personal': 5884, 'luck': 5885, \"i'm-so-stupid\": 2542, 'bumblebee_man:': 5895, 'empty': 5886, 'full-blooded': 2543, 'elder': 5887, 'warmth': 5888, 'seymour_skinner:': 5889, 'reserved': 5891, 'steam': 2706, 'test-lady': 2545, 'voted': 2164, 'score': 977, 'dashes': 2546, 'gags': 2547, 'waist': 2548, 'magnanimous': 826, 'turns': 5366, 'making': 5893, 'rid': 3240, 'patron_#2:': 5894, 'refund': 2549, 'opening': 5896, 'swimmers': 5897, 'lard': 5898, 'vulnerable': 2550, 'coat': 5899, 'average': 2551, 'self-centered': 2552, 'itself': 2553, 'gheet': 5900, 'skunk': 5901, 'neighbor': 5902, 'flaking': 2555, 'uh': 1531, 'excellent': 2556, 'breaking': 2557, 'puzzle': 2558, 'sticker': 5905, 'evening': 979, 'prizefighters': 2559, 'overhearing': 5711, 'gayer': 5907, 'student': 5908, 'different': 5910, 'pre-columbian': 406, 'kim_basinger:': 5911, 'button-pusher': 2560, 'brightening': 2561, 'sister': 2562, 'loboto-moth': 2563, 'forget': 3241, 'sucks': 5913, 'renders': 2166, 'onions': 2564, \"summer's\": 1336, 'toe': 5914, 'young_homer:': 2565, 'handed': 5915, 'fleabag': 5916, 'was': 5918, 'email': 2567, 'mabel': 5919, 'race': 5920, 'eyeballs': 5921, 'both': 5922, 'coughs': 5923, 'dames': 2568, 'simon': 5925, 'carney': 5467, 'lurleen_lumpkin:': 5927, 'yea': 5928, 'badge': 2569, 'naively': 5468, 'wieners': 2571, 'thumb': 2572, 'yoo': 6060, 'pretty': 6397, 'shhh': 5930, 'stingy': 2573, 'scrutinizes': 5931, 'arab_man:': 6644, 'doy': 5932, 'inspection': 5470, 'buy': 6061, 'snitch': 2574, 'fat': 5934, 'shoe': 5935, 'unbelievable': 2575, 'sturdy': 2576, 'tries': 2577, 'judgments': 6647, 'mines': 5936, 'guts': 2578, 'gal': 2579, 'agh': 5937, 'billboard': 5938, 'results': 5940, \"countin'\": 2580, \"takin'\": 4357, 'presses': 2581, 'return': 5601, 'defected': 6453, 'horrors': 5942, 'honored': 5944, \"they'll\": 5945, 'tv-station_announcer:': 5947, 'future': 2582, \"yesterday's\": 2583, 'cuddling': 2584, 'gluten': 2585, 'wipe': 5948, 'affects': 2586, 'swooning': 5949, 'named': 5950, 'sexual': 2587, 'pizza': 2589, 'throws': 5951, 'tradition': 6650, 'k': 2590, 'brag': 6065, 'pfft': 2591, 'literature': 2592, 'furniture': 5953, 'panties': 2593, 'bus': 5955, 'center': 2594, 'career': 5957, 'love': 2595, 'rat': 2596, \"you're\": 2598, 'tied': 5958, 'shove': 5959, 'pigs': 2599, 'handoff': 2600, 'sensitivity': 5961, 'yogurt': 5962, 'johnny': 2601, 'videotaped': 2602, 'ehhhhhhhhh': 1589, 'owned': 3788, 'employees': 2603, 'shtick': 2604, 'is': 5480, 'pudgy': 4895, \"somebody's\": 2605, 'pre-recorded': 5966, 'brings': 5967, 'has': 2606, 'payback': 5969, 'private': 5970, 'embarrassed': 5971, 'sexton': 6190, 'cure': 5974, 'various': 988, 'average-looking': 5975, 'mine': 5976, 'tax': 3790, 'alphabet': 5977, 'wish-meat': 2607, 'devils:': 2608, 'tanking': 2609, 'madman': 2610, 'bad': 2611, 'sprawl': 2612, \"tonight's\": 415, 'spews': 2615, 'spamming': 2616, 'proper': 3793, 'share': 2618, 'lemonade': 5982, \"snappin'\": 5983, 'tinkle': 2619, 'tree_hoper:': 5984, 'olive': 2620, 'rest': 2621, 'abusive': 5147, 'begins': 5985, 'newsletter': 3794, 'taste': 2622, 'wings': 2623, 'cheerier': 2624, 'kissed': 1389, 'maman': 5669, \"elmo's\": 4898, 'prepared': 2625, 'granted': 2626, 'africa': 2627, 'danny': 3726, 'pointed': 2180, 'befriend': 2629, 'suds': 2631, \"cont'd:\": 5988, 'great': 2632, 'backing': 6656, 'represents': 2633, 'awwww': 5989, 'until': 5990, \"watchin'\": 5991, 'talk': 2634, 'showed': 2635, 'part-time': 2636, 'kyoto': 5993, 'writing': 5994, 'serve': 5995, 'ticks': 2637, 'gun': 2638, 'trash': 2639, 'since': 2640, 'difference': 5999, 'donuts': 3797, 'poisoning': 2641, \"professor's\": 1552, 'indeedy': 6000, 'plum': 2642, 'hygienically': 2722, 'bartending': 6001, 'strategy': 2643, 'matter-of-fact': 6002, 'cannoli': 2644, 'seem': 6003, 'linda_ronstadt:': 2645, 'tight': 1666, \"edna's\": 2646, 'criminal': 2647, 'shaken': 6005, 'burn': 2648, 'wheel': 2649, 'susie-q': 6007, 'extreme': 6008, 'corporate': 2650, 'agent_johnson:': 2651, 'selective': 6009, 'knows': 6010, 'playoff': 6011, 'gold': 2652, 'marmaduke': 2653, 'liability': 2654, 'karaoke': 1553, 'insured': 2655, 'flown': 2656, 'lenses': 2657, 'night-crawlers': 2658, 'bets': 2659, 'honest': 2660, 'mimes': 2661, 'ninety-eight': 6015, 'baritone': 6016, 'blows': 2662, 'craft': 6018, 'fault': 6637, 'title': 2663, 'hammock': 6077, 'that': 2664, 'although': 2665, 'coney': 2666, 'twice': 4905, 'mint': 2667, 'macaulay': 2668, 'speech': 6022, 'van': 6080, 'nemo': 2669, 'wasting': 2670, 'changing': 2671, 'fontaine': 6024, 'killjoy': 6025, 'branding': 2672, 'nailed': 6026, 'tasimeter': 2673, \"cashin'\": 1556, 'available': 6027, 'hounds': 2674, 'exchange': 6029, 'medicine': 2675, 'freeze': 2676, 'suspect': 2187, \"they'd\": 6031, 'thanks': 6032, 'graveyard': 2677, 'delightful': 2678, 'crotch': 2679, 'depression': 6084, 'capuchin': 6033, 'walk': 2681, 'alva': 6034, 'wordloaf': 4985, 'glyco-load': 2683, 'kneeling': 2684, 'nuts': 2685, 'living': 2686, 'specials': 6036, 'jacques:': 6038, 'joking': 2687, 'reached': 2688, 'causes': 2689, 'beer-dorf': 6040, 'switch': 2690, 'plow': 2691, 'coming': 6041, 'albert': 3809, 'reads': 4386, 'shelf': 6043, 'declare': 6044, 'fifty': 6045, 'ees': 6046, \"dyin'\": 2692, 'dana_scully:': 6047, 'unearth': 2693, 'pay': 6048, 'theater': 6049, 'hop': 6050, 'allegiance': 3457, 'lovely': 2694, 'sports': 2695, 'motorcycle': 6051, 'telemarketing': 1561, 'menace': 2696, 'darn': 2698, 'telephone': 6619, \"'er\": 2699, 'decision': 5682, 'spiritual': 2700, 'theme': 3261, 'nards': 2701, 'beer-jerks': 1523, 'sideshow_mel:': 6089, 'laney_fontaine:': 2702, 'releases': 2703, \"can't\": 2704, 'stairs': 2705, 'mirthless': 6056, 'motel': 6057, 'blood-thirsty': 6091, 'fist': 6058, 'checking': 2707, 'painted': 2708, 'solid': 6059, 'begin': 2709, 'anti-crime': 2710, 'choose': 2711, 'betty:': 2712, 'attack': 5494, 'covering': 2713, 'scary': 2714, 'tabs': 6063, 'nervously': 6064, 'eyes': 2715, 'onion': 2716, 'grinch': 6066, 'squirrel': 2717, 'hundreds': 2718, 'disgusted': 2719, 'seymour': 2720, 'arts': 6068, \"murphy's\": 6069, 'majesty': 6070, \"jackpot's\": 2721, 'dumbbell': 6071, 'at': 1003, 'politician': 6667, 'firm': 6073, 'glasses': 433, 'generosity': 6074, '$42': 6075, 'grudgingly': 2723, 'based': 2724, 'orphan': 2725, 'tomahto': 3816, 'lady_duff:': 6081, 'ronstadt': 6082, 'feelings': 6083, 'noises': 2726, 'nickel': 6085, 'bathroom': 2727, 'racially-diverse': 6087, '||semicolon||': 2728, 'nein': 6088, 'lady': 2729, 'teenage': 436, 'freshened': 2730, 'tomorrow': 6092, 'presently': 1568, 'thrown': 6114, 'darts': 6094, 'ugh': 6095, 'mickey': 2731, 'eyeing': 6096, 'moe-lennium': 2732, 'ron_howard:': 2733, 'merchants': 6097, 'terrifying': 6098, 'busiest': 2734, 'ohmygod': 6100, 'energy': 6101, 'whaddaya': 2735, 'humanity': 6103, \"startin'\": 2736, 'southern': 2737, 'media': 6102, 'missing': 1570, 'landlord': 6106, 'staying': 2738, 'stretches': 5496, 'sketch': 6108, 'getaway': 6109, 'sacrifice': 6110, 'capitalists': 6111, 'worthless': 6112, 'slipped': 6104, 'night': 2739, 'joined': 2740, \"burnin'\": 6265, 'emotional': 2743, 'giggle': 2742, 'just': 2195, 'pulls': 2744, 'dull': 2745, 'appreciated': 6117, 'sweetest': 2746, 'moe-near-now': 6118, 'wild': 2747, 'play': 2748, 'grave': 6121, 'rage': 2749, 'handwriting': 6105, 'feel': 2750, 'kay': 6657, 'muttering': 6671, 'flea:': 2751, 'embarrassing': 2752, 'sings': 3819, 'conditioners': 2753, 'laid': 4379, 'happy': 6124, 'mount': 6126, 'all-star': 2754, 'hydrant': 3820, 'prize': 4922, 'multi-purpose': 6127, 'annus': 2755, 'billiard': 2756, 'modest': 5498, 'childless': 6131, 'peeved': 6401, 'suit': 6132, 'butter': 3950, 'burg': 2758, 'pour': 6133, 'everything': 4146, 'ladder': 6134, 'patron_#1:': 6107, 'many': 6135, 'publishers': 3980, 'y': 6136, 'outrageous': 2760, 'labor': 1009, 'actress': 2761, \"mother's\": 1574, 'app': 6137, 'dropping': 6138, 'handle': 6139, 'these': 2762, 'gordon': 6140, 'community': 2763, 'growing': 6142, 'pipes': 442, 'mostrar': 6143, 'sang': 2764, 'madison': 1010, 'choked': 6676, 'shaved': 6144, 'chunky': 1012, 'wowww': 6145, 'fausto': 1575, 'hit': 2765, 'complicated': 6146, 'popped': 2766, 'chain': 2767, 'arrived': 2769, 'bowling': 2770, 'finish': 2771, 'players': 2772, 'reasonable': 2773, 'hangs': 1579, 'little': 2774, 'sieben-gruben': 2776, 'teriyaki': 6326, 'dimly': 2777, 'donated': 2778, 'who': 6148, 'hub': 449, 'violations': 3999, 'with': 1580, 'taps': 6150, 'tiny': 6151, 'man': 6152, 'ohhhh': 5500, 'keep': 2779, 'flame': 2780, \"doctor's\": 6154, 'sugar': 2741, 'dry': 6155, 'dyspeptic': 2781, 'virile': 6115, 'extract': 6158, 'stand': 3825, 'spooky': 6159, \"isn't\": 2783, 'cards': 1017, 'stealings': 5501, 'cutie': 1016, 'notices': 2785, 'remember': 2786, 'salad': 6160, 'rutabaga': 2787, 'funds': 6162, \"messin'\": 6163, 'combine': 6116, 'fireball': 2788, \"sat's\": 2789, 'glamour': 6614, 'citizens': 6166, \"leavin'\": 121, 'indeed': 6167, 'audience:': 2791, 'nobel': 6681, 'eighty-seven': 5504, 'arm-pittish': 5506, 'george': 6168, 'rem': 5505, 'bed': 1583, 'nachos': 2792, 'muslim': 2793, 'on': 2794, 'idiot': 3282, 'jesus': 6170, 'slobbo': 4746, 'denver': 2796, 'softer': 2797, 'world': 6172, 'secrets': 6682, 'brought': 2798, 'male_singers:': 2800, 'car:': 3827, 'dog': 6174, 'fustigate': 2801, 'bar': 6175, 'bret': 2802, 'eternity': 2803, 'simple': 4934, 'freed': 5511, 'sure': 6177, 'shape': 6178, 'powers': 2804, 'chanting': 6179, 'mountain': 1587, 'championship': 2805, 'a-a-b-b-a': 1588, 'belches': 6181, 'audience': 2806, 'playful': 6183, 'website': 2807, 'crowned': 2808, 'later': 6184, 'lee': 1592, 'movies': 456, '_hooper:': 3829, 'ooh': 6188, 'el': 2809, 'squad': 2810, 'sunk': 2811, 'slit': 6189, 'surgeonnn': 2812, 'crumble': 5512, 'faulkner': 6191, 'regulars': 2813, 'fritz:': 5513, 'specific': 6192, 'including': 6193, 'boozehound': 2814, 'almond': 2815, 'investor': 2816, 'cat': 2817, '||right_parentheses||': 2818, 'cowboy': 6685, 'training': 2819, \"beer's\": 1577, 'relaxed': 1253, 'cocktail': 6197, \"wife's\": 6198, 'cheat': 2820, 'denser': 6199, 'cab_driver:': 6200, 'usual': 6201, 'theatrical': 6202, 'twin': 6122, 'united': 2821, 'releasing': 4391, 'issues': 2823, 'jar': 2824, 'exit': 3920, 'pursue': 6687, 'snap': 6204, 'had': 2826, 'seat': 6205, \"comin'\": 6206, 'piano': 6207, 'newsweek': 6209, 'congratulations': 6125, 'virility': 2828, 'menlo': 2829, 'tang': 3289, 'crowbar': 6211, 'lumpa': 6212, 'scrutinizing': 6689, 'uses': 2830, 'anderson': 1597, 'toss': 6213, 'roomy': 1026, 'plants': 2831, 'try': 6215, 'pretend': 6216, 'bloodball': 900, 'toy': 6217, 'napkins': 2832, 'poke': 2833, 'winch': 3835, 'ivy-covered': 2834, 'water': 6220, 'aims': 6221, 'dutch': 2836, 'ragtime': 1538, 'ebullient': 2837, 'begging': 1600, 'longest': 6222, 'taxes': 2840, 'loyal': 2839, 'wound': 2841, 'moxie': 6223, 'swimming': 6224, 'discussing': 2842, 'nightmare': 2844, 'evil': 6225, 'hitchhike': 2845, 'dying': 6226, 'drederick': 6128, 'stops': 6227, 'obese': 1601, 'mmm-hmm': 1269, 'carpet': 2846, 'mcbain': 2847, 'frustrated': 2848, 'reason': 6228, 'myself': 6613, 'blob': 1855, 'white_rabbit:': 3837, 'yew': 2849, 'fellow': 2850, 'kill': 2851, 'grumbling': 6231, 'leans': 5518, 'look': 2852, 'bluff': 2853, 'dejected_barfly:': 2854, \"'pu\": 2855, 'addiction': 6233, 'jailbird': 6234, 'bubbles-in-my-nose-y': 6235, 'nominated': 6236, 'mall': 6237, 'watered': 2856, 'flashbacks': 6238, 'sing-song': 2857, 'diamond': 6239, 'initially': 6240, \"eatin'\": 6241, 'thomas': 2858, 'numeral': 2860, 'carve': 3838, \"b-52's:\": 2861, 'disguise': 3516, 'ummmmmmmmm': 1031, 'disappointment': 6243, 'confidence': 2862, 'nonsense': 2863, 'sit': 6245, 'where': 2757, 'published': 3292, 'starla:': 2864, 'morning': 6247, 'bills': 6249, 'smoker': 2865, 'spoken': 2759, \"ridin'\": 2866, 'reaction': 6250, 'upset': 3118, \"smokin'\": 6251, 'divorced': 2868, 'slurred': 6252, 'deacon': 1032, 'bride': 6253, 'file': 2869, 'end': 1605, 'express': 6254, 'suru': 6255, 'bedtime': 2870, 'flag': 6256, 'easy-going': 2871, 'lainie:': 6187, 'low': 6696, 'microbrew': 2872, 'mr': 6257, 'midge:': 2873, 'wiener': 6258, 'filled': 1606, 'possessions': 6259, 'accounta': 2874, 'approval': 6260, 'beats': 6698, 'mailbox': 6261, 'halloween': 6262, 'sight-unseen': 6263, 'we': 6264, 'used': 2875, 'absolutely': 6699, 'knife': 2876, 'brother': 271, 'mel': 6267, 'wudgy': 2877, 'disgracefully': 6268, 'avalanche': 6013, 'totally': 6270, 'buds': 6271, 'jolly': 6272, \"ol'\": 6701, 'pity': 6274, 'won': 2878, 'goodnight': 2879, 'winks': 6275, 'otherwise': 6705, 'ken:': 2881, 'me': 6277, 'say': 2882, 'monkey': 4403, 'rub-a-dub': 6278, 'gesture': 2883, 'mmm': 4911, 'happened': 1038, 'bake': 6280, 'intrigued': 1039, 'proposing': 1087, 'shush': 6281, \"didn't\": 2884, 'verdict': 6282, 'hi': 6283, 'laughing': 6706, 'start': 2885, 'chapstick': 2886, \"brady's\": 6067, 'donor': 6284, 'princess': 2889, 'interrupting': 6141, 'along': 2890, \"showin'\": 3845, \"buyin'\": 5365, 'talked': 6286, 'guys': 6287, \"'now\": 3842, 'breathless': 6288, 'wrapped': 1614, 'reading': 2892, 'seductive': 2893, 'bald': 6289, 'homer_simpson:': 3846, 'stupid': 2894, 'grieving': 2895, 'chew': 4405, \"lisa's\": 6370, 'thanksgiving': 2896, 'nervous': 6290, '10:15': 6291, 'pretzels': 2099, 'without': 4407, 'passes': 6294, 'pawed': 6295, 'helpful': 2897, 'correct': 2899, 'pets': 6296, 'chug-a-lug': 6297, 'savings': 1615, 'reminds': 2900, 'seriously': 2901, 'prolonged': 6300, 'enjoyed': 2902, 'dirty': 2903, 'derek': 3762, 'off': 2904, '_eugene_blatz:': 6302, 'hall': 2905, 'mini-beret': 2906, 'something:': 6303, 'pine': 3851, 'pledge': 917, 'right-handed': 2222, 'radiator': 6304, 'planned': 6113, 'refresh': 6305, \"changin'\": 6306, 'serum': 2907, 'prison': 6307, 'precious': 6308, 'satisfaction': 6309, 'hideous': 6310, 'midnight': 6311, 'babar': 6312, 'movie': 2908, 'gel': 5327, 'snout': 2909, 'be-stainã¨d': 6313, 'politics': 2910, 'least': 2911, 'packets': 2227, 'shirt': 6314, 'hmmmm': 6315, \"guy's\": 3855, 'champ': 6565, \"high-falutin'\": 4409, 'tick': 6316, \"squeezin'\": 2912, 'krusty_the_clown:': 6318, 'full-bodied': 2914, 'played': 2915, 'guinea': 2916, 'twins': 2917, \"where'd\": 2918, 'allow': 6320, 'dearest': 3857, 'manchego': 5492, 'fumes': 6321, 'hairs': 2919, 'watashi': 6322, \"talkin'\": 6323, 'imagine': 1621, 'beers': 6324, 'prank': 6325, 'easter': 2920, 'moe-clone': 2921, 'navy': 6327, 'castle': 6329, 'lowering': 6330, 'mahatma': 2922, 'shred': 6332, 'homeless': 2923, 'formico:': 2924, 'suicide': 2925, 'month': 2926, 'agreement': 2927, 'allowed': 2928, 'ohh': 2929, \"family's\": 6334, 'about': 6335, 'kang:': 3306, 'underpants': 3861, 'sustain': 6336, 'ruined': 2930, 'mind': 6039, 'thorn': 5534, 'ratted': 2931, 'insulted': 2932, 'utensils': 3863, 'conclude': 2933, 'wrestling': 3308, 'emporium': 1879, 'splendid': 1049, 'wishing': 2934, 'beyond': 2935, 'blame': 2936, 'realize': 2937, 'crooks': 6343, 'pays': 6344, \"poisonin'\": 2938, 'polenta': 2939, 'innocence': 2940, 'wally:': 477, 'quietly': 6014, 'fans': 6346, 'oh-so-sophisticated': 2942, 'rosey': 2944, 'gloop': 2945, 'balloon': 3866, 'god': 6349, 'character': 2768, 'jacks': 6350, 'enter': 2947, 'demand': 2948, 'utility': 1626, 'above': 5265, 'ago': 5340, 'backward': 2949, 'obsessive-compulsive': 6355, 'ford': 6714, \"patrick's\": 2950, '-ry': 2951, 'even': 2952, 'sumatran': 6357, 'buddy': 6715, 'grimly': 6358, 'tooth': 6359, 'some': 5956, 'manuel': 3312, 'jerking': 2953, 'karaoke_machine:': 2954, 'guilt': 2955, 'three': 2956, 'double': 6365, 'hers': 6368, 'drummer': 2957, 'undies': 2958, 'eaten': 6369, 'muhammad': 2959, 'scum-sucking': 3991, 'imitating': 2960, 'happiness': 6371, 'jazz': 2961, 'ivana': 6372, 'scream': 4202, 'cesss': 3065, 'spectacular': 6373, 'k-zug': 1623, 'accurate': 2775, 'cecil_terwilliger:': 2962, 'people': 2963, 'rat-like': 228, 'influence': 2964, 'toasting': 2965, 'stooges': 6375, 'fonzie': 2967, 'reasons': 6376, 'believe': 2968, 'generously': 2969, 'hair': 2970, 'transmission': 2971, 'wage': 2972, 'lowers': 6717, 'charges': 2973, 'mater': 6378, 'coupon': 2974, 'bubble': 2975, 'logos': 2976, 'nfl_narrator:': 552, 'instead': 2977, 'noggin': 6379, 'reaching': 2978, 'day': 6380, 'floating': 5979, 'lifters': 2979, 'pained': 2980, 'steamed': 6382, 'drunkenly': 2237, 'mention': 2981, 'p-k': 2982, 'occurs': 6387, 'yelp': 6388, 'searching': 6389, 'pills': 6390, 'us': 2984, 'heavyweight': 2985, 'band': 5169, 'again': 1343, \"hadn't\": 2986, 'phase': 1059, 'supposed': 6391, 'shrieks': 6392, 'disappointing': 266, 'maitre': 2987, \"drexel's\": 2988, 'left': 484, 'outstanding': 2989, 'diving': 6396, 'heading': 2990, 'quero': 2991, 'mathis': 2992, 'liver': 2993, 'woodchucks': 2994, 'dreary': 6398, 'states': 6399, 'done:': 6400, 'cuff': 2995, 'suave': 6402, 'competing': 2996, 'wolveriskey': 3318, 'go-near-': 6403, 'small_boy:': 6404, \"he'll\": 6405, 'eighty-three': 6406, 'costume': 2997, 'blinds': 2998, \"team's\": 2326, 'stalin': 6407, 'idiots': 2999, 'worst': 6408, 'jeff': 4189, 'rupert_murdoch:': 6409, 'mac-who': 3000, \"who'da\": 3001, 'she': 6411, 'daaaaad': 3003, 'payments': 6413, 'referee': 3004, 'rainbows': 5873, 'challenge': 3005, 'tips': 4424, 'gator': 3006, 'dregs': 6173, 'thighs': 6417, 'touchdown': 3007, 'bachelor': 4427, 'cheesecake': 3008, 'bedridden': 1634, 'wrecking': 3390, 'play/': 3873, 'wish': 6419, 'means': 3010, 'running': 3011, 'difficult': 5542, 'failed': 3012, 'ã€': 3013, 'week': 6422, 'emotion': 3014, 'delivery_man:': 6423, 'sharps': 3015, 'prove': 3016, 'grants': 5544, 'praise': 3017, 'loudly': 3018, 'awareness': 6425, 'fry': 3321, \"'s\": 3019, 'bread': 6427, 'chest': 3020, 'artie': 3021, 'dozen': 3022, 'clenched': 3023, 'manboobs': 5548, 'cold': 6429, \"c'mere\": 3024, 'teacher': 1638, 'random': 1731, 'lenny_leonard:': 6430, 'happily:': 6431, 'paints': 6432, 'ruby-studded': 4431, 'prayer': 3025, 'grocery': 4432, 'aerospace': 6433, 'beeps': 3027, 'presents': 6434, 'conference': 3028, 'bash': 6435, 'flash-fry': 3029, \"smokin'_joe_frazier:\": 6437, 'founded': 6337, 'dint': 6438, 'friendship': 3030, \"'morning\": 3031, 'confession': 493, 'brilliant': 3032, 'willing': 3033, \"calf's\": 3034, 'man_with_crazy_beard:': 6440, \"getting'\": 3035, 'wagering': 3036, 'distraught': 6441, 'crony': 6442, 'fall': 3351, 'effigy': 6444, 'tapestry': 2782, 'snide': 6445, 'contemporary': 3037, 'cutest': 6157, 'mt': 6446, 'playing': 6447, 'dealt': 3042, 'monorails': 3039, 'life-extension': 3040, \"this'll\": 3041, 'you-need-man': 6449, 'while': 3043, 'yee-haw': 3044, 'overflowing': 3045, 'shrugs': 6451, 'leg': 3046, 'wears': 6454, 'appropriate': 6455, 'bon-bons': 4980, 'our': 3048, 'bury': 4436, 'barkeeps': 6456, \"pickin'\": 6457, 'whoops': 6458, 'dr': 6459, 'lonely': 3049, 'bigger': 3050, 'rewound': 3051, 'aer': 3052, 'yuh-huh': 6460, 'yee-ha': 5554, 'recommend': 3054, 'remodel': 6461, 'occupied': 3055, 'seas': 3056, 'actually': 1347, 'fingers': 3057, 'perfect': 6464, 'barstools': 6465, 'excuses': 6466, 'ahead': 3058, 'nã£o': 3059, 'plastered': 5556, \"bartender's\": 6467, 'brusque': 3060, 'shifty': 6469, 'stop': 6470, 'tired': 3061, 'pardon': 6471, 'chunk': 6472, 'gestated': 2246, 'montrer': 6473, 'spender': 5218, 'poison': 3062, 'springfield': 3063, 'sobo': 2784, \"spaghetti-o's\": 6475, \"rentin'\": 3066, 'poetry': 3067, 'stones': 3068, 'dingy': 3070, 'entertainer': 6477, 'twenty-two': 3071, 'choice': 6721, 'young_barfly:': 6478, 'certified': 1144, 'drawn': 6161, 'manatee': 6480, 'catching': 3072, 'motor': 6481, 'profiling': 6482, 'poker': 5558, 'youngsters': 3073, 'germans': 3074, 'options': 1650, 'wolverines': 3075, 'quitcher': 6485, 'dazed': 3076, 'team': 6487, 'compressions': 5376, 'drains': 3078, 'e-z': 3877, 'griffith': 3079, 'sucker': 6722, 'saucy': 3080, 'oils': 6489, 'safe': 3081, 'seats': 6491, 'sissy': 6492, 'hours': 3082, 'blobbo': 5213, 'walks': 3083, 'discriminate': 1921, 'rig': 3084, 'image': 3937, 'pack': 3085, 'bleak': 3086, 'parenting': 6493, '/mr': 834, 'cent': 3087, 'culkin': 6494, 'incredulous': 504, 'apu_nahasapeemapetilon:': 6495, 'blend': 6496, 'oil': 3089, \"shootin'\": 1073, 'brooklyn': 3090, 'lou:': 6725, \"cleanin'\": 6498, 'banquo': 6165, 'righ': 3091, 'roses': 1075, 'cliff': 3092, 'film': 5559, 'kid': 6500, 'gentlemen': 3093, 'theatah': 6501, 'roof': 3094, 'obvious': 2790, 'sweaty': 6502, \"where's\": 6503, 'bye': 6505, 'marvelous': 3095, 'sangre': 6037, 'else': 3096, 'rule': 3097, 'indicates': 3098, 'radical': 5644, 'furious': 6507, 'uhhhh': 3099, 'naked': 3100, 'palmerston': 3101, 'banquet': 2403, 'birth': 3775, 'depressed': 1177, 'tuborg': 1657, 'heads': 6509, 'genuinely': 6510, 'loafers': 3103, 'rap': 3104, 'pass': 6511, 'over': 5563, 'cheese': 3105, 'choking': 3106, 'composer': 6513, 'peter': 6514, 'tavern': 3333, 'ancient': 6516, 'radio': 6517, 'chance': 6519, 'lying': 6520, 'deals': 6521, 'clinton': 3871, 'finest': 3107, 'message': 6522, 'repairman': 3108, \"round's\": 6185, 'jerks': 6523, 'nature': 3109, 'santeria': 6524, 'anyone': 6164, 'raining': 3110, 'lovejoy': 2252, 'crowded': 3111, 'harvesting': 6525, 'duffman:': 3112, 'wok': 3113, 'helps': 3114, 'public': 3115, 'tape': 6526, 'bartender': 6730, 'and-and': 3116, 'faint': 3117, 'joey_kramer:': 3119, 'smug': 6528, 'sheets': 3120, 'grease': 3121, 'runt': 3122, 'exhaust': 3123, 'hangout': 6529, 'jelly': 6530, 'eighty-five': 3124, 'weekend': 2097, 'dennis_kucinich:': 6532, 'authorized': 3125, 'chuckle': 6436, 'bras': 6727, 'tornado': 1380, 'heaving': 6463, 'however': 3126, 'wishes': 3777, 'fat-free': 3127, 'commanding': 3128, 's': 1079, 'word': 6534, 'spite': 1622, 'newsies': 3129, 'gargoyles': 3778, 'eco-fraud': 6535, 'frazier': 3130, 'woman': 6536, 'brawled': 512, 'cross-country': 2795, 'turn': 3131, 'chubby': 3132, 'suits': 6171, \"that'd\": 6538, 'cries': 1362, \"aren'tcha\": 3133, 'isle': 3890, 'crapmore': 3134, 'perfume': 384, 'forehead': 3135, 'isotopes': 6539, 'stamps': 6540, 'bid': 3136, 'owns': 6450, 'securities': 3137, 'klown': 4004, 'kiss': 5567, 'famous': 3138, 'told': 6544, 'delighted': 5569, 'fires': 3139, 'exasperated': 3140, 'reward': 3141, 'admit': 6546, 'cooker': 6738, 'jerk': 3142, 'kentucky': 3143, \"don'tcha\": 6548, 'buffet': 3144, 'compromise:': 6052, 'anguished': 6549, \"bart'd\": 1671, 'languages': 4447, 'exciting': 3145, 'zone': 1673, 'bottle': 6550, 'arise': 3146, 'ingested': 2799, 'hmmm': 6551, 'spouses': 6552, 'kidney': 3147, 'carny:': 3148, \"kiddin'\": 6554, 'temporarily': 6556, 'spine': 3149, 'treat': 3150, 'skinny': 3151, 'achem': 6557, \"bashir's\": 3152, 'duty': 6559, 'melodramatic': 6560, 'respect': 6562, '/': 6563, 'astonishment': 3153, 'quarry': 3154, 'broke': 3155, 'rafters': 5342, 'stuff': 6564, 'really': 3157, 'swig': 3159, 'getcha': 3160, 'through': 358, 'alcoholism': 3161, 'briefly': 6567, 'confidentially': 3162, 'blow': 6568, 'startup': 6569, 'writers': 6571, 'throats': 3163, 'modestly': 3164, 'certain': 6169, 'wooooo': 6572, 'yup': 3165, 'floated': 3166, 'winner': 3167, 'highball': 6573, 'person': 3168, 'pull': 3169, 'lump': 6176, 'pickled': 3170, 'virtual': 6574, 'idea': 3171, 'dreamy': 3895, 'perking': 3554, 'till': 6577, 'built': 3172, 'environment': 3173, 'gasp': 3894, 'permitting': 3174, 'tragedy': 5461, 'wooden': 3175, 'new_health_inspector:': 6579, 'thawing': 3176, 'troy': 6580, 'weekly': 4295, 'consider': 6582, \"someone's\": 5686, 'singers:': 6584, 'in-ground': 3179, 'boxcar': 3178, 'huge': 5821, 'tv_daughter:': 518, 'nasa': 3180, 'tapered': 6588, 'anonymous': 2261, 'waterfront': 3181, 'color': 6590, 'urinal': 3182, 'beat': 6592, 'test-': 6593, 'suddenly': 6594, 'calls': 6595, 'ralph_wiggum:': 3183, 'higher': 3184, 'fevered': 3185, 'delicate': 3186, 'kermit': 3187, 'mild': 3188, 'must': 3189, 'selma_bouvier:': 3190, 'acronyms': 3191, 'help': 120, 'painless': 6598, 'tar-paper': 6758, 'blade': 1678, 'juice': 3192, 'looooooooooooooooooong': 6600, \"hell's\": 4453, 'rusty': 6601, 'pretending': 3193, 'pickle': 3194, 'shaky': 5440, 'apron': 521, 'caveman': 3196, 'bam': 3197, 'top': 6602, 'heavens': 6180, \"c'mom\": 3198, 'publish': 6604, 'stripes': 6605, 'showing': 3199, 'regretful': 3200, 'become': 3201, 'mindless': 3202, \"hawkin'\": 3203, 'barbed': 3204, \"'cept\": 3205, 'crushed': 6607, 'expose': 6608, 'donut': 3206, 'pretzel': 5572, 'flips': 6610, 'oooo': 6611, 'carll': 6182, 'species': 6612, 'limited': 1681, 'complaining': 3207, 'barber': 3208, 'normals': 3209, 'bumpy-like': 3210, 'eminence': 6615, \"s'pose\": 6616, 'catch': 3211, 'waylon': 3212, 'thoughtless': 3213, 'once': 3214, 'fixes': 3215, 'shaker': 3216, 'british': 3217, 'du': 3218, 'fact': 6617, 'cuckoo': 6757, 'holiday': 1685, 'statues': 3219, 'paint': 526, 'billion': 3220, 'kickoff': 3221, 'ehhhhhh': 3222, 'cheering': 3223, 'excitement': 6621, 'tha': 3224, 'roz:': 6623, 'cheapskates': 3225, 'list': 6624, 'zeal': 6625, 'settles': 1689, 'flourish': 6626, 'solves': 6627, 'wins': 3226, 'youse': 3227, \"she'd\": 3228, 'orders': 6628, \"renee's\": 6629, 'moe-ron': 3230, 'fuzzlepitch': 4458, 'wind': 3231, 'stan': 3232, 'mmmmm': 3233, 'midge': 3904, 'temple': 3234, 'reptile': 6632, 'leprechaun': 3235, 'beep': 3237, 'belong': 1560, 'gasoline': 3238, 'lenny:': 3239, 'verticality': 1644, 'punch': 4397, 'earth': 5579, 'advice': 6638, 'veux': 6639, 'convenient': 6640, 'equal': 6641, 'hustle': 3243, 'join': 3242, 'inexorable': 3577, 'half': 6642, 'quality': 6643, 'present': 3244, 'stationery': 3245, \"town's\": 6646, 'hate': 3246, 'vehicle': 6648, \"should've\": 6649, 'falling': 6153, 'besides': 5581, 'fastest': 1100, 'wussy': 5582, \"ragin'\": 6345, 'east': 3247, \"how'd\": 3248, 'homers': 3249, 'gas': 6651, 'lookalikes': 3250, 'forecast': 3053, 'dan_gillick:': 6653, 'freaking': 6654, 'woo-hoo': 6655, 'two': 3251, 'plotz': 6196, 'ho-ly': 3252, 'brewed': 3253, 'knock-up': 6658, 'scornful': 6659, 'clown-like': 5418, 'cologne': 3254, 'loathe': 6660, \"school's\": 4461, 'lotta': 3255, \"homer's_brain:\": 6662, 'for': 3256, 'let': 3257, 'intoxicated': 3258, 'julienne': 6663, 'corkscrew': 3259, 'next': 3260, 'richard': 4647, 'clips': 6664, 'hmf': 6665, 'decide': 6666, 'disgrace': 3262, 'wuss': 1156, 'girl-bart': 3263, 'd': 3264, 'soot': 3265, 'against': 3266, 'halfway': 3267, 'illegally': 3268, 'cueball': 3269, \"drawin'\": 3270, 'do': 6669, 'boozebag': 5872, 'civilization': 3271, 'splattered': 4246, 'mm-hmm': 6670, 'hears': 3567, 'unfresh': 3272, 'art': 4463, 'prince': 3273, 'mid-seventies': 6672, 'dizer': 3274, 'except': 3275, 'gentles': 3359, 'singer': 3276, 'using': 6675, 't-shirt': 6677, 'usually': 5585, 'rug': 3277, \"choosin'\": 6242, 'superior': 6678, 'west': 3278, 'hitler': 6679, 'woooooo': 3279, 'banned': 3280, 'step': 3281, 'inserts': 6680, \"wouldn't-a\": 3283, 'simultaneous': 6194, 'shopping': 3284, 'puffy': 3912, 'treats': 6683, 'uglier': 6684, \"'kay-zugg'\": 4267, 'cauliflower': 5014, 'adequate': 3285, 'disappear': 3286, 'lift': 5776, 'gore': 2278, \"havin'\": 5587, 'checks': 3287, 'tow-joes': 3288, 'weary': 3290, 'trying': 5588, 'troll': 6690, 'oughta': 3579, 'pouring': 1861, 'this': 5016, 'shock': 3914, 'directions': 6691, 'crossed': 6692, 'chapter': 6693, 'stinky': 3915, 'bowl': 6694, 'o': 5749, 'delivery': 3291, 'dinner': 3293, 'prefer': 3294, 'heaven': 3295, 'lushmore': 6697, 'seek': 3296, 'dice': 3297, 'knock': 6700, \"speakin'\": 3298, 'ahem': 6702, \"people's\": 3299, 'brains': 6195, 'luv': 1700, 'phlegm': 6086, 'mate': 6707, 'cock': 5017, 'feeling': 5852, 'fights': 6708, 'single-mindedness': 4926, 'wolfcastle': 6710, 'beaumont': 3300, 'yet': 3301, 'stools': 3302, 'polls': 3303, 'car': 6766, 'muscle': 3304, 'metal': 3305, 'pepper': 6731, 'burglary': 2283, 'disappointed': 3897, 'sitar': 6712, 'bite': 220, 'quickly': 3307, 'gentleman:': 4465, 'legally': 3309, 'additional-seating-capacity': 3310, 'most:': 4468, 'faded': 3311, 'kenny': 3313, 'invulnerable': 540, 'gang': 6716, 'splash': 1702, 'stevie': 2284, 'crappy': 5712, 'chub': 4927, 'phony': 3314, 'boxer': 3315, 'saint': 5680, 'bad-mouth': 3317, 'burning': 4487, 'firing': 3319, 'carnival': 3320, 'rationalizing': 3322, 'chipper': 6718, 'binoculars': 6695, 'safer': 3323, 'liquor': 6719, 'selfish': 3324, 'hafta': 3325, 'byrne': 3919, 'dateline': 3326, 'earlier': 1703, 'sequel': 5856, 'chug': 6720, 'scully': 3327, 'who-o-oa': 3328, 'hats': 3329, 'neat': 4198, 'heartily': 544, 'sports_announcer:': 6723, 'faces': 3330, 'milk': 545, 'sugar-me-do': 6724, 'ma': 3331, 'win': 3332, \"springfield's\": 3334, 'notch': 3335, 'enjoy': 1705, 'cooking': 6728, 'minimum': 6729, 'foibles': 6732, 'young': 3336, 'root': 6734, 'lucky': 3337, 'hear': 3338, 'fella': 3340, 'artist': 3341, \"fendin'\": 6735, 'project': 6736, 'attempting': 6737, 'spotting': 5855, 'countryman': 6740, 'hawaii': 3922, \"fallin'\": 6741, 'page': 2822, 'surprise': 6742, \"mecca's\": 3342, 'skydiving': 4474, 'andalay': 6744, 'disguised': 6745, 'victorious': 3343, 'candles': 6746, 'fwooof': 3344, 'rims': 6747, 'okay': 6203, 'passenger': 6748, 'flush-town': 6749, 'foam': 6750, 'penmanship': 3345, 'buttons': 6751, 'radioactive': 6752, 'cronies': 6753, 'bullet-proof': 6754, 'ninety-nine': 3346, 'kids': 3347, 'sweetheart': 6756, 'alibi': 3348, 'hired': 3349, 'forty-nine': 3350, 'weeks': 5404, 'booger': 3352, 'cotton': 3967, 'ha-ha': 3353, 'genius': 3354, 'extra': 3355, \"robbin'\": 3356, 'jeers': 6774, 'awkward': 3473, '||return||': 6759, 'young_marge:': 4478, 'ourselves': 6760, 'cup': 3357, 'jokes': 3358, 'celebrity': 549, 'site': 6761, 'grenky': 551, 'dive': 6762, 'rafter': 3360, 'why': 6763, 'machine': 6764, 'fence': 1710, 'error': 3362, 'fresh': 3363, 'necklace': 5528, 'billy_the_kid:': 1118, 'candidate': 3364, 'fuhgetaboutit': 6775, 'chumbawamba': 6767, 'lucinda': 2827, 'young_moe:': 3365, 'fiction': 6768, '7-year-old_brockman:': 4480, 'adeleine': 6769, 'takeaway': 6770, 'seemed': 3366, 'blimp': 6771, 'dã¼ffenbraus': 6777, 'psst': 6772, 'diet': 1713, 'across': 3367, 'quick-like': 6208, 'starla': 6773, 'locklear': 1717, 'enabling': 6778, 'so-called': 3368, 'sandwich': 3369, 'lawyer': 3370, 'eight-year-old': 5250, 'cooler': 3371, 'decide:': 6078, 'lips': 3372}\n"
     ]
    }
   ],
   "source": [
    "\"\"\"\n",
    "DON'T MODIFY ANYTHING IN THIS CELL\n",
    "\"\"\"\n",
    "# Preprocess Training, Validation, and Testing Data\n",
    "helper.preprocess_and_save_data(data_dir, token_lookup, create_lookup_tables)"
   ]
  },
  {
   "cell_type": "markdown",
   "metadata": {
    "deletable": true,
    "editable": true
   },
   "source": [
    "# Check Point\n",
    "This is your first checkpoint. If you ever decide to come back to this notebook or have to restart the notebook, you can start from here. The preprocessed data has been saved to disk."
   ]
  },
  {
   "cell_type": "code",
   "execution_count": 6,
   "metadata": {
    "collapsed": true,
    "deletable": true,
    "editable": true
   },
   "outputs": [],
   "source": [
    "\"\"\"\n",
    "DON'T MODIFY ANYTHING IN THIS CELL\n",
    "\"\"\"\n",
    "import helper\n",
    "import numpy as np\n",
    "import problem_unittests as tests\n",
    "\n",
    "int_text, vocab_to_int, int_to_vocab, token_dict = helper.load_preprocess()"
   ]
  },
  {
   "cell_type": "markdown",
   "metadata": {
    "deletable": true,
    "editable": true
   },
   "source": [
    "## Build the Neural Network\n",
    "You'll build the components necessary to build a RNN by implementing the following functions below:\n",
    "- get_inputs\n",
    "- get_init_cell\n",
    "- get_embed\n",
    "- build_rnn\n",
    "- build_nn\n",
    "- get_batches\n",
    "\n",
    "### Check the Version of TensorFlow and Access to GPU"
   ]
  },
  {
   "cell_type": "code",
   "execution_count": 7,
   "metadata": {
    "collapsed": false,
    "deletable": true,
    "editable": true
   },
   "outputs": [
    {
     "name": "stdout",
     "output_type": "stream",
     "text": [
      "TensorFlow Version: 1.0.1\n"
     ]
    },
    {
     "name": "stderr",
     "output_type": "stream",
     "text": [
      "C:\\Users\\andre\\Anaconda3\\envs\\dog-project\\lib\\site-packages\\ipykernel\\__main__.py:14: UserWarning: No GPU found. Please use a GPU to train your neural network.\n"
     ]
    }
   ],
   "source": [
    "\"\"\"\n",
    "DON'T MODIFY ANYTHING IN THIS CELL\n",
    "\"\"\"\n",
    "from distutils.version import LooseVersion\n",
    "import warnings\n",
    "import tensorflow as tf\n",
    "\n",
    "# Check TensorFlow Version\n",
    "assert LooseVersion(tf.__version__) >= LooseVersion('1.0'), 'Please use TensorFlow version 1.0 or newer'\n",
    "print('TensorFlow Version: {}'.format(tf.__version__))\n",
    "\n",
    "# Check for a GPU\n",
    "if not tf.test.gpu_device_name():\n",
    "    warnings.warn('No GPU found. Please use a GPU to train your neural network.')\n",
    "else:\n",
    "    print('Default GPU Device: {}'.format(tf.test.gpu_device_name()))"
   ]
  },
  {
   "cell_type": "markdown",
   "metadata": {
    "deletable": true,
    "editable": true
   },
   "source": [
    "### Input\n",
    "Implement the `get_inputs()` function to create TF Placeholders for the Neural Network.  It should create the following placeholders:\n",
    "- Input text placeholder named \"input\" using the [TF Placeholder](https://www.tensorflow.org/api_docs/python/tf/placeholder) `name` parameter.\n",
    "- Targets placeholder\n",
    "- Learning Rate placeholder\n",
    "\n",
    "Return the placeholders in the following tuple `(Input, Targets, LearningRate)`"
   ]
  },
  {
   "cell_type": "code",
   "execution_count": 8,
   "metadata": {
    "collapsed": false,
    "deletable": true,
    "editable": true
   },
   "outputs": [
    {
     "name": "stdout",
     "output_type": "stream",
     "text": [
      "Tests Passed\n"
     ]
    }
   ],
   "source": [
    "def get_inputs():\n",
    "    \"\"\"\n",
    "    Create TF Placeholders for input, targets, and learning rate.\n",
    "    :return: Tuple (input, targets, learning rate)\n",
    "    \"\"\"\n",
    "    # TODO: Implement Function\n",
    "    Input = tf.placeholder(tf.int32, shape=[None, None], name='input')\n",
    "    Targets = tf.placeholder(tf.int32, shape=[None, None], name='targets')\n",
    "    LearningRate = tf.placeholder(tf.float32, name='learning_rate')\n",
    "    \n",
    "    return (Input, Targets, LearningRate)\n",
    "\n",
    "\n",
    "\"\"\"\n",
    "DON'T MODIFY ANYTHING IN THIS CELL THAT IS BELOW THIS LINE\n",
    "\"\"\"\n",
    "tests.test_get_inputs(get_inputs)"
   ]
  },
  {
   "cell_type": "markdown",
   "metadata": {
    "deletable": true,
    "editable": true
   },
   "source": [
    "### Build RNN Cell and Initialize\n",
    "Stack one or more [`BasicLSTMCells`](https://www.tensorflow.org/api_docs/python/tf/contrib/rnn/BasicLSTMCell) in a [`MultiRNNCell`](https://www.tensorflow.org/api_docs/python/tf/contrib/rnn/MultiRNNCell).\n",
    "- The Rnn size should be set using `rnn_size`\n",
    "- Initalize Cell State using the MultiRNNCell's [`zero_state()`](https://www.tensorflow.org/api_docs/python/tf/contrib/rnn/MultiRNNCell#zero_state) function\n",
    "    - Apply the name \"initial_state\" to the initial state using [`tf.identity()`](https://www.tensorflow.org/api_docs/python/tf/identity)\n",
    "\n",
    "Return the cell and initial state in the following tuple `(Cell, InitialState)`"
   ]
  },
  {
   "cell_type": "code",
   "execution_count": 9,
   "metadata": {
    "collapsed": false,
    "deletable": true,
    "editable": true
   },
   "outputs": [
    {
     "name": "stdout",
     "output_type": "stream",
     "text": [
      "Tests Passed\n"
     ]
    }
   ],
   "source": [
    "def get_init_cell(batch_size, rnn_size):\n",
    "    \"\"\"\n",
    "    Create an RNN Cell and initialize it.\n",
    "    :param batch_size: Size of batches\n",
    "    :param rnn_size: Size of RNNs\n",
    "    :return: Tuple (cell, initialize state)\n",
    "    \"\"\"\n",
    "\n",
    "    # TODO: Implement Function\n",
    "\n",
    "    NumberOfLayers = 2\n",
    "    lstm = tf.contrib.rnn.BasicLSTMCell(rnn_size)\n",
    "    cell = tf.contrib.rnn.MultiRNNCell([lstm] * NumberOfLayers)\n",
    "    initial_state = cell.zero_state(batch_size, tf.float32)\n",
    "    initial_state = tf.identity(initial_state, name='initial_state')\n",
    "    return (cell, initial_state)\n",
    "    \n",
    "    \n",
    "\n",
    "\"\"\"\n",
    "DON'T MODIFY ANYTHING IN THIS CELL THAT IS BELOW THIS LINE\n",
    "\"\"\"\n",
    "tests.test_get_init_cell(get_init_cell)"
   ]
  },
  {
   "cell_type": "markdown",
   "metadata": {
    "deletable": true,
    "editable": true
   },
   "source": [
    "### Word Embedding\n",
    "Apply embedding to `input_data` using TensorFlow.  Return the embedded sequence."
   ]
  },
  {
   "cell_type": "code",
   "execution_count": 10,
   "metadata": {
    "collapsed": false,
    "deletable": true,
    "editable": true
   },
   "outputs": [
    {
     "name": "stdout",
     "output_type": "stream",
     "text": [
      "Tests Passed\n"
     ]
    }
   ],
   "source": [
    "def get_embed(input_data, vocab_size, embed_dim):\n",
    "    \"\"\"\n",
    "    Create embedding for <input_data>.\n",
    "    :param input_data: TF placeholder for text input.\n",
    "    :param vocab_size: Number of words in vocabulary.\n",
    "    :param embed_dim: Number of embedding dimensions\n",
    "    :return: Embedded input.\n",
    "    \"\"\"\n",
    "    # TODO: Implement Function\n",
    "    return tf.contrib.layers.embed_sequence(input_data, vocab_size=vocab_size, embed_dim=embed_dim)\n",
    "\n",
    "\n",
    "\n",
    "\n",
    "\"\"\"\n",
    "DON'T MODIFY ANYTHING IN THIS CELL THAT IS BELOW THIS LINE\n",
    "\"\"\"\n",
    "tests.test_get_embed(get_embed)"
   ]
  },
  {
   "cell_type": "markdown",
   "metadata": {
    "deletable": true,
    "editable": true
   },
   "source": [
    "### Build RNN\n",
    "You created a RNN Cell in the `get_init_cell()` function.  Time to use the cell to create a RNN.\n",
    "- Build the RNN using the [`tf.nn.dynamic_rnn()`](https://www.tensorflow.org/api_docs/python/tf/nn/dynamic_rnn)\n",
    " - Apply the name \"final_state\" to the final state using [`tf.identity()`](https://www.tensorflow.org/api_docs/python/tf/identity)\n",
    "\n",
    "Return the outputs and final_state state in the following tuple `(Outputs, FinalState)` "
   ]
  },
  {
   "cell_type": "code",
   "execution_count": 11,
   "metadata": {
    "collapsed": false,
    "deletable": true,
    "editable": true
   },
   "outputs": [
    {
     "name": "stdout",
     "output_type": "stream",
     "text": [
      "Tests Passed\n"
     ]
    }
   ],
   "source": [
    "def build_rnn(cell, inputs):\n",
    "    \"\"\"\n",
    "    Create a RNN using a RNN Cell\n",
    "    :param cell: RNN Cell\n",
    "    :param inputs: Input text data\n",
    "    :return: Tuple (Outputs, Final State)\n",
    "    \"\"\"\n",
    "    # TODO: Implement Function\n",
    "    Outputs, FinalState = tf.nn.dynamic_rnn(cell, inputs, dtype=tf.float32)\n",
    "    FinalState = tf.identity(FinalState, name='final_state')\n",
    "    return (Outputs, FinalState)\n",
    "\n",
    "\n",
    "\"\"\"\n",
    "DON'T MODIFY ANYTHING IN THIS CELL THAT IS BELOW THIS LINE\n",
    "\"\"\"\n",
    "tests.test_build_rnn(build_rnn)"
   ]
  },
  {
   "cell_type": "markdown",
   "metadata": {
    "deletable": true,
    "editable": true
   },
   "source": [
    "### Build the Neural Network\n",
    "Apply the functions you implemented above to:\n",
    "- Apply embedding to `input_data` using your `get_embed(input_data, vocab_size, embed_dim)` function.\n",
    "- Build RNN using `cell` and your `build_rnn(cell, inputs)` function.\n",
    "- Apply a fully connected layer with a linear activation and `vocab_size` as the number of outputs.\n",
    "\n",
    "Return the logits and final state in the following tuple (Logits, FinalState) "
   ]
  },
  {
   "cell_type": "code",
   "execution_count": 12,
   "metadata": {
    "collapsed": false,
    "deletable": true,
    "editable": true
   },
   "outputs": [
    {
     "name": "stdout",
     "output_type": "stream",
     "text": [
      "Tests Passed\n"
     ]
    }
   ],
   "source": [
    "def build_nn(cell, rnn_size, input_data, vocab_size, embed_dim):\n",
    "    \"\"\"\n",
    "    Build part of the neural network\n",
    "    :param cell: RNN cell\n",
    "    :param rnn_size: Size of rnns\n",
    "    :param input_data: Input data\n",
    "    :param vocab_size: Vocabulary size\n",
    "    :param embed_dim: Number of embedding dimensions\n",
    "    :return: Tuple (Logits, FinalState)\n",
    "    \"\"\"\n",
    "    EmbeddingLayer = get_embed(input_data, vocab_size, embed_dim)\n",
    "    (Outputs, FinalState) = build_rnn(cell, EmbeddingLayer)\n",
    "    Logits = tf.layers.dense(Outputs, vocab_size, activation= None, use_bias=True)\n",
    "    return (Logits, FinalState)\n",
    "    \n",
    "\n",
    "\"\"\"\n",
    "DON'T MODIFY ANYTHING IN THIS CELL THAT IS BELOW THIS LINE\n",
    "\"\"\"\n",
    "tests.test_build_nn(build_nn)"
   ]
  },
  {
   "cell_type": "markdown",
   "metadata": {
    "deletable": true,
    "editable": true
   },
   "source": [
    "### Batches\n",
    "Implement `get_batches` to create batches of input and targets using `int_text`.  The batches should be a Numpy array with the shape `(number of batches, 2, batch size, sequence length)`. Each batch contains two elements:\n",
    "- The first element is a single batch of **input** with the shape `[batch size, sequence length]`\n",
    "- The second element is a single batch of **targets** with the shape `[batch size, sequence length]`\n",
    "\n",
    "If you can't fill the last batch with enough data, drop the last batch.\n",
    "\n",
    "For exmple, `get_batches([1, 2, 3, 4, 5, 6, 7, 8, 9, 10, 11, 12, 13, 14, 15, 16, 17, 18, 19, 20], 3, 2)` would return a Numpy array of the following:\n",
    "```\n",
    "[\n",
    "  # First Batch\n",
    "  [\n",
    "    # Batch of Input\n",
    "    [[ 1  2], [ 7  8], [13 14]]\n",
    "    # Batch of targets\n",
    "    [[ 2  3], [ 8  9], [14 15]]\n",
    "  ]\n",
    "\n",
    "  # Second Batch\n",
    "  [\n",
    "    # Batch of Input\n",
    "    [[ 3  4], [ 9 10], [15 16]]\n",
    "    # Batch of targets\n",
    "    [[ 4  5], [10 11], [16 17]]\n",
    "  ]\n",
    "\n",
    "  # Third Batch\n",
    "  [\n",
    "    # Batch of Input\n",
    "    [[ 5  6], [11 12], [17 18]]\n",
    "    # Batch of targets\n",
    "    [[ 6  7], [12 13], [18  1]]\n",
    "  ]\n",
    "]\n",
    "```\n",
    "\n",
    "Notice that the last target value in the last batch is the first input value of the first batch. In this case, `1`. This is a common technique used when creating sequence batches, although it is rather unintuitive."
   ]
  },
  {
   "cell_type": "code",
   "execution_count": 13,
   "metadata": {
    "collapsed": false,
    "deletable": true,
    "editable": true
   },
   "outputs": [
    {
     "name": "stdout",
     "output_type": "stream",
     "text": [
      "Tests Passed\n"
     ]
    }
   ],
   "source": [
    "def get_batches(int_text, batch_size, seq_length):\n",
    "    \"\"\"\n",
    "    Return batches of input and target\n",
    "    :param int_text: Text with the words replaced by their ids\n",
    "    :param batch_size: The size of batch\n",
    "    :param seq_length: The length of sequence\n",
    "    :return: Batches as a Numpy array\n",
    "    \"\"\"\n",
    "\n",
    "    NumberOfBatches = len(int_text) // (batch_size  * seq_length)\n",
    "    # Drop long batches. Transform into a numpy array and reshape it for our purposes\n",
    "    ReshapeText = np.array(int_text[:NumberOfBatches * (batch_size  * seq_length)])\n",
    "    # Reshape the data to give us the inputs sequence.\n",
    "    InputText = ReshapeText.reshape(-1, seq_length)\n",
    "    # Roll (shift) and reshape to get target sequences (maybe not optimal)\n",
    "    TargetText = np.roll(ReshapeText, -1).reshape(-1, seq_length)\n",
    "    Result = np.zeros(shape=(NumberOfBatches, 2, batch_size, seq_length), dtype=np.int)\n",
    "    # Prepare the output\n",
    "    for index in range(0, InputText.shape[0]):\n",
    "        jj = index % NumberOfBatches\n",
    "        ii = index // NumberOfBatches\n",
    "        Result[jj,0,ii,:] = InputText[index,:]\n",
    "        Result[jj,1,ii,:] = TargetText[index,:]\n",
    "    return Result\n",
    "\n",
    "\"\"\"\n",
    "DON'T MODIFY ANYTHING IN THIS CELL THAT IS BELOW THIS LINE\n",
    "\"\"\"\n",
    "tests.test_get_batches(get_batches)"
   ]
  },
  {
   "cell_type": "markdown",
   "metadata": {
    "deletable": true,
    "editable": true
   },
   "source": [
    "## Neural Network Training\n",
    "### Hyperparameters\n",
    "Tune the following parameters:\n",
    "\n",
    "- Set `num_epochs` to the number of epochs.\n",
    "- Set `batch_size` to the batch size.\n",
    "- Set `rnn_size` to the size of the RNNs.\n",
    "- Set `embed_dim` to the size of the embedding.\n",
    "- Set `seq_length` to the length of sequence.\n",
    "- Set `learning_rate` to the learning rate.\n",
    "- Set `show_every_n_batches` to the number of batches the neural network should print progress."
   ]
  },
  {
   "cell_type": "code",
   "execution_count": 14,
   "metadata": {
    "collapsed": true,
    "deletable": true,
    "editable": true
   },
   "outputs": [],
   "source": [
    "# Number of Epochs\n",
    "num_epochs = 256\n",
    "# Batch Size\n",
    "batch_size = 128\n",
    "# RNN Size\n",
    "rnn_size = 512\n",
    "# Embedding Dimension Size\n",
    "embed_dim = 256\n",
    "# Sequence Length\n",
    "seq_length = 16\n",
    "# Learning Rate\n",
    "learning_rate = 0.001\n",
    "# Show stats for every n number of batches\n",
    "show_every_n_batches = 128\n",
    "\n",
    "\"\"\"\n",
    "DON'T MODIFY ANYTHING IN THIS CELL THAT IS BELOW THIS LINE\n",
    "\"\"\"\n",
    "save_dir = './save'"
   ]
  },
  {
   "cell_type": "markdown",
   "metadata": {
    "deletable": true,
    "editable": true
   },
   "source": [
    "### Build the Graph\n",
    "Build the graph using the neural network you implemented."
   ]
  },
  {
   "cell_type": "code",
   "execution_count": 15,
   "metadata": {
    "collapsed": true,
    "deletable": true,
    "editable": true
   },
   "outputs": [],
   "source": [
    "\"\"\"\n",
    "DON'T MODIFY ANYTHING IN THIS CELL\n",
    "\"\"\"\n",
    "from tensorflow.contrib import seq2seq\n",
    "\n",
    "train_graph = tf.Graph()\n",
    "with train_graph.as_default():\n",
    "    vocab_size = len(int_to_vocab)\n",
    "    input_text, targets, lr = get_inputs()\n",
    "    input_data_shape = tf.shape(input_text)\n",
    "    cell, initial_state = get_init_cell(input_data_shape[0], rnn_size)\n",
    "    logits, final_state = build_nn(cell, rnn_size, input_text, vocab_size, embed_dim)\n",
    "\n",
    "    # Probabilities for generating words\n",
    "    probs = tf.nn.softmax(logits, name='probs')\n",
    "\n",
    "    # Loss function\n",
    "    cost = seq2seq.sequence_loss(\n",
    "        logits,\n",
    "        targets,\n",
    "        tf.ones([input_data_shape[0], input_data_shape[1]]))\n",
    "\n",
    "    # Optimizer\n",
    "    optimizer = tf.train.AdamOptimizer(lr)\n",
    "\n",
    "    # Gradient Clipping\n",
    "    gradients = optimizer.compute_gradients(cost)\n",
    "    capped_gradients = [(tf.clip_by_value(grad, -1., 1.), var) for grad, var in gradients if grad is not None]\n",
    "    train_op = optimizer.apply_gradients(capped_gradients)"
   ]
  },
  {
   "cell_type": "markdown",
   "metadata": {
    "deletable": true,
    "editable": true
   },
   "source": [
    "## Train\n",
    "Train the neural network on the preprocessed data.  If you have a hard time getting a good loss, check the [forums](https://discussions.udacity.com/) to see if anyone is having the same problem."
   ]
  },
  {
   "cell_type": "code",
   "execution_count": 16,
   "metadata": {
    "collapsed": false,
    "deletable": true,
    "editable": true
   },
   "outputs": [
    {
     "name": "stdout",
     "output_type": "stream",
     "text": [
      "Epoch   0 Batch    0/33   train_loss = 8.822\n",
      "Epoch   3 Batch   29/33   train_loss = 6.120\n",
      "Epoch   7 Batch   25/33   train_loss = 5.907\n",
      "Epoch  11 Batch   21/33   train_loss = 5.625\n",
      "Epoch  15 Batch   17/33   train_loss = 5.350\n",
      "Epoch  19 Batch   13/33   train_loss = 5.138\n",
      "Epoch  23 Batch    9/33   train_loss = 4.793\n",
      "Epoch  27 Batch    5/33   train_loss = 4.733\n",
      "Epoch  31 Batch    1/33   train_loss = 4.391\n",
      "Epoch  34 Batch   30/33   train_loss = 4.471\n",
      "Epoch  38 Batch   26/33   train_loss = 4.254\n",
      "Epoch  42 Batch   22/33   train_loss = 4.206\n",
      "Epoch  46 Batch   18/33   train_loss = 4.058\n",
      "Epoch  50 Batch   14/33   train_loss = 3.935\n",
      "Epoch  54 Batch   10/33   train_loss = 3.787\n",
      "Epoch  58 Batch    6/33   train_loss = 3.674\n",
      "Epoch  62 Batch    2/33   train_loss = 3.505\n",
      "Epoch  65 Batch   31/33   train_loss = 3.366\n",
      "Epoch  69 Batch   27/33   train_loss = 3.454\n",
      "Epoch  73 Batch   23/33   train_loss = 3.263\n",
      "Epoch  77 Batch   19/33   train_loss = 3.033\n",
      "Epoch  81 Batch   15/33   train_loss = 2.898\n",
      "Epoch  85 Batch   11/33   train_loss = 2.812\n",
      "Epoch  89 Batch    7/33   train_loss = 2.775\n",
      "Epoch  93 Batch    3/33   train_loss = 2.613\n",
      "Epoch  96 Batch   32/33   train_loss = 2.538\n",
      "Epoch 100 Batch   28/33   train_loss = 2.470\n",
      "Epoch 104 Batch   24/33   train_loss = 2.381\n",
      "Epoch 108 Batch   20/33   train_loss = 2.277\n",
      "Epoch 112 Batch   16/33   train_loss = 2.192\n",
      "Epoch 116 Batch   12/33   train_loss = 2.125\n",
      "Epoch 120 Batch    8/33   train_loss = 2.019\n",
      "Epoch 124 Batch    4/33   train_loss = 1.950\n",
      "Epoch 128 Batch    0/33   train_loss = 1.857\n",
      "Epoch 131 Batch   29/33   train_loss = 1.831\n",
      "Epoch 135 Batch   25/33   train_loss = 1.806\n",
      "Epoch 139 Batch   21/33   train_loss = 1.588\n",
      "Epoch 143 Batch   17/33   train_loss = 1.685\n",
      "Epoch 147 Batch   13/33   train_loss = 1.573\n",
      "Epoch 151 Batch    9/33   train_loss = 1.457\n",
      "Epoch 155 Batch    5/33   train_loss = 1.337\n",
      "Epoch 159 Batch    1/33   train_loss = 1.279\n",
      "Epoch 162 Batch   30/33   train_loss = 1.280\n",
      "Epoch 166 Batch   26/33   train_loss = 1.160\n",
      "Epoch 170 Batch   22/33   train_loss = 1.166\n",
      "Epoch 174 Batch   18/33   train_loss = 1.064\n",
      "Epoch 178 Batch   14/33   train_loss = 0.974\n",
      "Epoch 182 Batch   10/33   train_loss = 0.909\n",
      "Epoch 186 Batch    6/33   train_loss = 0.904\n",
      "Epoch 190 Batch    2/33   train_loss = 0.907\n",
      "Epoch 193 Batch   31/33   train_loss = 0.780\n",
      "Epoch 197 Batch   27/33   train_loss = 0.830\n",
      "Epoch 201 Batch   23/33   train_loss = 0.697\n",
      "Epoch 205 Batch   19/33   train_loss = 0.705\n",
      "Epoch 209 Batch   15/33   train_loss = 0.638\n",
      "Epoch 213 Batch   11/33   train_loss = 0.663\n",
      "Epoch 217 Batch    7/33   train_loss = 0.639\n",
      "Epoch 221 Batch    3/33   train_loss = 0.515\n",
      "Epoch 224 Batch   32/33   train_loss = 0.565\n",
      "Epoch 228 Batch   28/33   train_loss = 0.528\n",
      "Epoch 232 Batch   24/33   train_loss = 0.509\n",
      "Epoch 236 Batch   20/33   train_loss = 0.502\n",
      "Epoch 240 Batch   16/33   train_loss = 0.488\n",
      "Epoch 244 Batch   12/33   train_loss = 0.405\n",
      "Epoch 248 Batch    8/33   train_loss = 0.411\n",
      "Epoch 252 Batch    4/33   train_loss = 0.382\n",
      "Model Trained and Saved\n"
     ]
    }
   ],
   "source": [
    "\"\"\"\n",
    "DON'T MODIFY ANYTHING IN THIS CELL\n",
    "\"\"\"\n",
    "batches = get_batches(int_text, batch_size, seq_length)\n",
    "\n",
    "with tf.Session(graph=train_graph) as sess:\n",
    "    sess.run(tf.global_variables_initializer())\n",
    "\n",
    "    for epoch_i in range(num_epochs):\n",
    "        state = sess.run(initial_state, {input_text: batches[0][0]})\n",
    "\n",
    "        for batch_i, (x, y) in enumerate(batches):\n",
    "            feed = {\n",
    "                input_text: x,\n",
    "                targets: y,\n",
    "                initial_state: state,\n",
    "                lr: learning_rate}\n",
    "            train_loss, state, _ = sess.run([cost, final_state, train_op], feed)\n",
    "\n",
    "            # Show every <show_every_n_batches> batches\n",
    "            if (epoch_i * len(batches) + batch_i) % show_every_n_batches == 0:\n",
    "                print('Epoch {:>3} Batch {:>4}/{}   train_loss = {:.3f}'.format(\n",
    "                    epoch_i,\n",
    "                    batch_i,\n",
    "                    len(batches),\n",
    "                    train_loss))\n",
    "\n",
    "    # Save Model\n",
    "    saver = tf.train.Saver()\n",
    "    saver.save(sess, save_dir)\n",
    "    print('Model Trained and Saved')"
   ]
  },
  {
   "cell_type": "markdown",
   "metadata": {
    "deletable": true,
    "editable": true
   },
   "source": [
    "## Save Parameters\n",
    "Save `seq_length` and `save_dir` for generating a new TV script."
   ]
  },
  {
   "cell_type": "code",
   "execution_count": 17,
   "metadata": {
    "collapsed": true,
    "deletable": true,
    "editable": true
   },
   "outputs": [],
   "source": [
    "\"\"\"\n",
    "DON'T MODIFY ANYTHING IN THIS CELL\n",
    "\"\"\"\n",
    "# Save parameters for checkpoint\n",
    "helper.save_params((seq_length, save_dir))"
   ]
  },
  {
   "cell_type": "markdown",
   "metadata": {
    "deletable": true,
    "editable": true
   },
   "source": [
    "# Checkpoint"
   ]
  },
  {
   "cell_type": "code",
   "execution_count": 18,
   "metadata": {
    "collapsed": true,
    "deletable": true,
    "editable": true
   },
   "outputs": [],
   "source": [
    "\"\"\"\n",
    "DON'T MODIFY ANYTHING IN THIS CELL\n",
    "\"\"\"\n",
    "import tensorflow as tf\n",
    "import numpy as np\n",
    "import helper\n",
    "import problem_unittests as tests\n",
    "\n",
    "_, vocab_to_int, int_to_vocab, token_dict = helper.load_preprocess()\n",
    "seq_length, load_dir = helper.load_params()"
   ]
  },
  {
   "cell_type": "markdown",
   "metadata": {
    "deletable": true,
    "editable": true
   },
   "source": [
    "## Implement Generate Functions\n",
    "### Get Tensors\n",
    "Get tensors from `loaded_graph` using the function [`get_tensor_by_name()`](https://www.tensorflow.org/api_docs/python/tf/Graph#get_tensor_by_name).  Get the tensors using the following names:\n",
    "- \"input:0\"\n",
    "- \"initial_state:0\"\n",
    "- \"final_state:0\"\n",
    "- \"probs:0\"\n",
    "\n",
    "Return the tensors in the following tuple `(InputTensor, InitialStateTensor, FinalStateTensor, ProbsTensor)` "
   ]
  },
  {
   "cell_type": "code",
   "execution_count": 19,
   "metadata": {
    "collapsed": false,
    "deletable": true,
    "editable": true
   },
   "outputs": [
    {
     "name": "stdout",
     "output_type": "stream",
     "text": [
      "Tests Passed\n"
     ]
    }
   ],
   "source": [
    "def get_tensors(loaded_graph):\n",
    "    \"\"\"\n",
    "    Get input, initial state, final state, and probabilities tensor from <loaded_graph>\n",
    "    :param loaded_graph: TensorFlow graph loaded from file\n",
    "    :return: Tuple (InputTensor, InitialStateTensor, FinalStateTensor, ProbsTensor)\n",
    "    \"\"\"\n",
    "    InputTensor = loaded_graph.get_tensor_by_name('input:0')\n",
    "    InitialStateTensor = loaded_graph.get_tensor_by_name('initial_state:0')\n",
    "    FinalStateTensor = loaded_graph.get_tensor_by_name('final_state:0')\n",
    "    ProbabilitiesTensor = loaded_graph.get_tensor_by_name('probs:0')\n",
    "    return (InputTensor, InitialStateTensor, FinalStateTensor, ProbabilitiesTensor)\n",
    "    \n",
    "\n",
    "\n",
    "\"\"\"\n",
    "DON'T MODIFY ANYTHING IN THIS CELL THAT IS BELOW THIS LINE\n",
    "\"\"\"\n",
    "tests.test_get_tensors(get_tensors)"
   ]
  },
  {
   "cell_type": "markdown",
   "metadata": {
    "deletable": true,
    "editable": true
   },
   "source": [
    "### Choose Word\n",
    "Implement the `pick_word()` function to select the next word using `probabilities`."
   ]
  },
  {
   "cell_type": "code",
   "execution_count": 20,
   "metadata": {
    "collapsed": false,
    "deletable": true,
    "editable": true
   },
   "outputs": [
    {
     "name": "stdout",
     "output_type": "stream",
     "text": [
      "Tests Passed\n"
     ]
    }
   ],
   "source": [
    "def pick_word(probabilities, int_to_vocab):\n",
    "    \"\"\"\n",
    "    Pick the next word in the generated text\n",
    "    :param probabilities: Probabilites of the next word\n",
    "    :param int_to_vocab: Dictionary of word ids as the keys and words as the values\n",
    "    :return: String of the predicted word\n",
    "    \"\"\"\n",
    "    MaxPropability = np.argmax(probabilities)\n",
    "    return int_to_vocab[MaxPropability]\n",
    "    \n",
    "\n",
    "\n",
    "\n",
    "\"\"\"\n",
    "DON'T MODIFY ANYTHING IN THIS CELL THAT IS BELOW THIS LINE\n",
    "\"\"\"\n",
    "tests.test_pick_word(pick_word)"
   ]
  },
  {
   "cell_type": "markdown",
   "metadata": {
    "deletable": true,
    "editable": true
   },
   "source": [
    "## Generate TV Script\n",
    "This will generate the TV script for you.  Set `gen_length` to the length of TV script you want to generate."
   ]
  },
  {
   "cell_type": "code",
   "execution_count": 21,
   "metadata": {
    "collapsed": false,
    "deletable": true,
    "editable": true
   },
   "outputs": [
    {
     "name": "stdout",
     "output_type": "stream",
     "text": [
      "moe_szyslak:(lifts index finger) to the scooter store!\n",
      "moe_szyslak: i did not think i'd are too? i even got a big idea.\n",
      "lenny_leonard: i can't say, but i am.\n",
      "moe_szyslak:(conspiratorial) aw, you're right. i used to keep my family, so one for a woman.(chuckles)\n",
      "moe_szyslak:(laughing) am i?\n",
      "barney_gumble: well, that's that of about\"\" that i had the life.\n",
      "moe_szyslak:(to himself) so turning your best friend?\n",
      "lenny_leonard:(to homer) oh, this might hurt you!\n",
      "homer_simpson:(sings) what you!\n",
      "chief_wiggum:(taunting) oh, you're this awkward.\n",
      "homer_simpson:(baby talk?(realizing) hey, that's not all\" what i'm gonna pay for your old head...\n",
      "homer_simpson: when i can say that...\n",
      "barney_gumble:(to moe, proudly) hey that, uh, you know how.\n",
      "\n",
      "\n",
      "barney_gumble:(friendly) so right, but they took this!\n",
      "\n"
     ]
    }
   ],
   "source": [
    "gen_length = 200\n",
    "# homer_simpson, moe_szyslak, or Barney_Gumble\n",
    "prime_word = 'moe_szyslak'\n",
    "\n",
    "\"\"\"\n",
    "DON'T MODIFY ANYTHING IN THIS CELL THAT IS BELOW THIS LINE\n",
    "\"\"\"\n",
    "loaded_graph = tf.Graph()\n",
    "with tf.Session(graph=loaded_graph) as sess:\n",
    "    # Load saved model\n",
    "    loader = tf.train.import_meta_graph(load_dir + '.meta')\n",
    "    loader.restore(sess, load_dir)\n",
    "\n",
    "    # Get Tensors from loaded model\n",
    "    input_text, initial_state, final_state, probs = get_tensors(loaded_graph)\n",
    "\n",
    "    # Sentences generation setup\n",
    "    gen_sentences = [prime_word + ':']\n",
    "    prev_state = sess.run(initial_state, {input_text: np.array([[1]])})\n",
    "\n",
    "    # Generate sentences\n",
    "    for n in range(gen_length):\n",
    "        # Dynamic Input\n",
    "        dyn_input = [[vocab_to_int[word] for word in gen_sentences[-seq_length:]]]\n",
    "        dyn_seq_length = len(dyn_input[0])\n",
    "\n",
    "        # Get Prediction\n",
    "        probabilities, prev_state = sess.run(\n",
    "            [probs, final_state],\n",
    "            {input_text: dyn_input, initial_state: prev_state})\n",
    "        \n",
    "        pred_word = pick_word(probabilities[dyn_seq_length-1], int_to_vocab)\n",
    "\n",
    "        gen_sentences.append(pred_word)\n",
    "    \n",
    "    # Remove tokens\n",
    "    tv_script = ' '.join(gen_sentences)\n",
    "    for key, token in token_dict.items():\n",
    "        ending = ' ' if key in ['\\n', '(', '\"'] else ''\n",
    "        tv_script = tv_script.replace(' ' + token.lower(), key)\n",
    "    tv_script = tv_script.replace('\\n ', '\\n')\n",
    "    tv_script = tv_script.replace('( ', '(')\n",
    "        \n",
    "    print(tv_script)"
   ]
  },
  {
   "cell_type": "markdown",
   "metadata": {
    "deletable": true,
    "editable": true
   },
   "source": [
    "# The TV Script is Nonsensical\n",
    "It's ok if the TV script doesn't make any sense.  We trained on less than a megabyte of text.  In order to get good results, you'll have to use a smaller vocabulary or get more data.  Luckly there's more data!  As we mentioned in the begging of this project, this is a subset of [another dataset](https://www.kaggle.com/wcukierski/the-simpsons-by-the-data).  We didn't have you train on all the data, because that would take too long.  However, you are free to train your neural network on all the data.  After you complete the project, of course.\n",
    "# Submitting This Project\n",
    "When submitting this project, make sure to run all the cells before saving the notebook. Save the notebook file as \"dlnd_tv_script_generation.ipynb\" and save it as a HTML file under \"File\" -> \"Download as\". Include the \"helper.py\" and \"problem_unittests.py\" files in your submission."
   ]
  }
 ],
 "metadata": {
  "anaconda-cloud": {},
  "kernelspec": {
   "display_name": "Python 3",
   "language": "python",
   "name": "python3"
  },
  "language_info": {
   "codemirror_mode": {
    "name": "ipython",
    "version": 3
   },
   "file_extension": ".py",
   "mimetype": "text/x-python",
   "name": "python",
   "nbconvert_exporter": "python",
   "pygments_lexer": "ipython3",
   "version": "3.5.3"
  },
  "widgets": {
   "state": {},
   "version": "1.1.2"
  }
 },
 "nbformat": 4,
 "nbformat_minor": 1
}
